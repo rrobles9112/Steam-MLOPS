{
 "cells": [
  {
   "cell_type": "markdown",
   "id": "6860093d",
   "metadata": {},
   "source": [
    "# Extraccion de los datos \n",
    " Se descomprime el json comprimido usando la funcion nativa de Pandas 2.0 read_json con los parametros. Luego se almacena en una variable de tipo dataframe con los datos brutos provenientes del json descomprimido"
   ]
  },
  {
   "cell_type": "code",
   "id": "initial_id",
   "metadata": {
    "is_executing": true,
    "ExecuteTime": {
     "end_time": "2024-03-17T05:14:10.291774Z",
     "start_time": "2024-03-17T05:13:55.687600Z"
    }
   },
   "source": [
    "import numpy as np\n",
    "import pandas as pd\n",
    "import gzip\n",
    "import os\n",
    "import json\n",
    "import ast\n",
    "\n",
    "# Ruta al dataset de Juegos Steam\n",
    "path = '../dataset/steam_games.json.gz'\n",
    "\n",
    "data = []\n",
    "with gzip.open(path, 'r') as f:\n",
    "    for line in f:\n",
    "      data.append(json.loads(line))\n",
    "\n",
    "# Convertimos a DataFrame\n",
    "df_games = pd.DataFrame(data)\n",
    "df_games\n",
    "\n"
   ],
   "outputs": [
    {
     "data": {
      "text/plain": [
       "              publisher                                 genres  \\\n",
       "0                   NaN                                    NaN   \n",
       "1                   NaN                                    NaN   \n",
       "2                   NaN                                    NaN   \n",
       "3                   NaN                                    NaN   \n",
       "4                   NaN                                    NaN   \n",
       "...                 ...                                    ...   \n",
       "120440  Ghost_RUS Games  [Casual, Indie, Simulation, Strategy]   \n",
       "120441           Sacada              [Casual, Indie, Strategy]   \n",
       "120442     Laush Studio            [Indie, Racing, Simulation]   \n",
       "120443         SIXNAILS                        [Casual, Indie]   \n",
       "120444              NaN                                    NaN   \n",
       "\n",
       "                        app_name                     title  \\\n",
       "0                            NaN                       NaN   \n",
       "1                            NaN                       NaN   \n",
       "2                            NaN                       NaN   \n",
       "3                            NaN                       NaN   \n",
       "4                            NaN                       NaN   \n",
       "...                          ...                       ...   \n",
       "120440            Colony On Mars            Colony On Mars   \n",
       "120441  LOGistICAL: South Africa  LOGistICAL: South Africa   \n",
       "120442             Russian Roads             Russian Roads   \n",
       "120443       EXIT 2 - Directions       EXIT 2 - Directions   \n",
       "120444               Maze Run VR                       NaN   \n",
       "\n",
       "                                                      url release_date  \\\n",
       "0                                                     NaN          NaN   \n",
       "1                                                     NaN          NaN   \n",
       "2                                                     NaN          NaN   \n",
       "3                                                     NaN          NaN   \n",
       "4                                                     NaN          NaN   \n",
       "...                                                   ...          ...   \n",
       "120440  http://store.steampowered.com/app/773640/Colon...   2018-01-04   \n",
       "120441  http://store.steampowered.com/app/733530/LOGis...   2018-01-04   \n",
       "120442  http://store.steampowered.com/app/610660/Russi...   2018-01-04   \n",
       "120443  http://store.steampowered.com/app/658870/EXIT_...   2017-09-02   \n",
       "120444  http://store.steampowered.com/app/681550/Maze_...          NaN   \n",
       "\n",
       "                                                     tags  \\\n",
       "0                                                     NaN   \n",
       "1                                                     NaN   \n",
       "2                                                     NaN   \n",
       "3                                                     NaN   \n",
       "4                                                     NaN   \n",
       "...                                                   ...   \n",
       "120440              [Strategy, Indie, Casual, Simulation]   \n",
       "120441                          [Strategy, Indie, Casual]   \n",
       "120442                        [Indie, Simulation, Racing]   \n",
       "120443  [Indie, Casual, Puzzle, Singleplayer, Atmosphe...   \n",
       "120444  [Early Access, Adventure, Indie, Action, Simul...   \n",
       "\n",
       "                                              reviews_url  \\\n",
       "0                                                     NaN   \n",
       "1                                                     NaN   \n",
       "2                                                     NaN   \n",
       "3                                                     NaN   \n",
       "4                                                     NaN   \n",
       "...                                                   ...   \n",
       "120440  http://steamcommunity.com/app/773640/reviews/?...   \n",
       "120441  http://steamcommunity.com/app/733530/reviews/?...   \n",
       "120442  http://steamcommunity.com/app/610660/reviews/?...   \n",
       "120443  http://steamcommunity.com/app/658870/reviews/?...   \n",
       "120444  http://steamcommunity.com/app/681550/reviews/?...   \n",
       "\n",
       "                                                    specs price early_access  \\\n",
       "0                                                     NaN   NaN          NaN   \n",
       "1                                                     NaN   NaN          NaN   \n",
       "2                                                     NaN   NaN          NaN   \n",
       "3                                                     NaN   NaN          NaN   \n",
       "4                                                     NaN   NaN          NaN   \n",
       "...                                                   ...   ...          ...   \n",
       "120440                [Single-player, Steam Achievements]  1.99        False   \n",
       "120441  [Single-player, Steam Achievements, Steam Clou...  4.99        False   \n",
       "120442  [Single-player, Steam Achievements, Steam Trad...  1.99        False   \n",
       "120443   [Single-player, Steam Achievements, Steam Cloud]  4.99        False   \n",
       "120444  [Single-player, Stats, Steam Leaderboards, HTC...  4.99         True   \n",
       "\n",
       "            id                 developer  \n",
       "0          NaN                       NaN  \n",
       "1          NaN                       NaN  \n",
       "2          NaN                       NaN  \n",
       "3          NaN                       NaN  \n",
       "4          NaN                       NaN  \n",
       "...        ...                       ...  \n",
       "120440  773640        Nikita \"Ghost_RUS\"  \n",
       "120441  733530                    Sacada  \n",
       "120442  610660  Laush Dmitriy Sergeevich  \n",
       "120443  658870             xropi,stev3ns  \n",
       "120444  681550                       NaN  \n",
       "\n",
       "[120445 rows x 13 columns]"
      ],
      "text/html": [
       "<div>\n",
       "<style scoped>\n",
       "    .dataframe tbody tr th:only-of-type {\n",
       "        vertical-align: middle;\n",
       "    }\n",
       "\n",
       "    .dataframe tbody tr th {\n",
       "        vertical-align: top;\n",
       "    }\n",
       "\n",
       "    .dataframe thead th {\n",
       "        text-align: right;\n",
       "    }\n",
       "</style>\n",
       "<table border=\"1\" class=\"dataframe\">\n",
       "  <thead>\n",
       "    <tr style=\"text-align: right;\">\n",
       "      <th></th>\n",
       "      <th>publisher</th>\n",
       "      <th>genres</th>\n",
       "      <th>app_name</th>\n",
       "      <th>title</th>\n",
       "      <th>url</th>\n",
       "      <th>release_date</th>\n",
       "      <th>tags</th>\n",
       "      <th>reviews_url</th>\n",
       "      <th>specs</th>\n",
       "      <th>price</th>\n",
       "      <th>early_access</th>\n",
       "      <th>id</th>\n",
       "      <th>developer</th>\n",
       "    </tr>\n",
       "  </thead>\n",
       "  <tbody>\n",
       "    <tr>\n",
       "      <th>0</th>\n",
       "      <td>NaN</td>\n",
       "      <td>NaN</td>\n",
       "      <td>NaN</td>\n",
       "      <td>NaN</td>\n",
       "      <td>NaN</td>\n",
       "      <td>NaN</td>\n",
       "      <td>NaN</td>\n",
       "      <td>NaN</td>\n",
       "      <td>NaN</td>\n",
       "      <td>NaN</td>\n",
       "      <td>NaN</td>\n",
       "      <td>NaN</td>\n",
       "      <td>NaN</td>\n",
       "    </tr>\n",
       "    <tr>\n",
       "      <th>1</th>\n",
       "      <td>NaN</td>\n",
       "      <td>NaN</td>\n",
       "      <td>NaN</td>\n",
       "      <td>NaN</td>\n",
       "      <td>NaN</td>\n",
       "      <td>NaN</td>\n",
       "      <td>NaN</td>\n",
       "      <td>NaN</td>\n",
       "      <td>NaN</td>\n",
       "      <td>NaN</td>\n",
       "      <td>NaN</td>\n",
       "      <td>NaN</td>\n",
       "      <td>NaN</td>\n",
       "    </tr>\n",
       "    <tr>\n",
       "      <th>2</th>\n",
       "      <td>NaN</td>\n",
       "      <td>NaN</td>\n",
       "      <td>NaN</td>\n",
       "      <td>NaN</td>\n",
       "      <td>NaN</td>\n",
       "      <td>NaN</td>\n",
       "      <td>NaN</td>\n",
       "      <td>NaN</td>\n",
       "      <td>NaN</td>\n",
       "      <td>NaN</td>\n",
       "      <td>NaN</td>\n",
       "      <td>NaN</td>\n",
       "      <td>NaN</td>\n",
       "    </tr>\n",
       "    <tr>\n",
       "      <th>3</th>\n",
       "      <td>NaN</td>\n",
       "      <td>NaN</td>\n",
       "      <td>NaN</td>\n",
       "      <td>NaN</td>\n",
       "      <td>NaN</td>\n",
       "      <td>NaN</td>\n",
       "      <td>NaN</td>\n",
       "      <td>NaN</td>\n",
       "      <td>NaN</td>\n",
       "      <td>NaN</td>\n",
       "      <td>NaN</td>\n",
       "      <td>NaN</td>\n",
       "      <td>NaN</td>\n",
       "    </tr>\n",
       "    <tr>\n",
       "      <th>4</th>\n",
       "      <td>NaN</td>\n",
       "      <td>NaN</td>\n",
       "      <td>NaN</td>\n",
       "      <td>NaN</td>\n",
       "      <td>NaN</td>\n",
       "      <td>NaN</td>\n",
       "      <td>NaN</td>\n",
       "      <td>NaN</td>\n",
       "      <td>NaN</td>\n",
       "      <td>NaN</td>\n",
       "      <td>NaN</td>\n",
       "      <td>NaN</td>\n",
       "      <td>NaN</td>\n",
       "    </tr>\n",
       "    <tr>\n",
       "      <th>...</th>\n",
       "      <td>...</td>\n",
       "      <td>...</td>\n",
       "      <td>...</td>\n",
       "      <td>...</td>\n",
       "      <td>...</td>\n",
       "      <td>...</td>\n",
       "      <td>...</td>\n",
       "      <td>...</td>\n",
       "      <td>...</td>\n",
       "      <td>...</td>\n",
       "      <td>...</td>\n",
       "      <td>...</td>\n",
       "      <td>...</td>\n",
       "    </tr>\n",
       "    <tr>\n",
       "      <th>120440</th>\n",
       "      <td>Ghost_RUS Games</td>\n",
       "      <td>[Casual, Indie, Simulation, Strategy]</td>\n",
       "      <td>Colony On Mars</td>\n",
       "      <td>Colony On Mars</td>\n",
       "      <td>http://store.steampowered.com/app/773640/Colon...</td>\n",
       "      <td>2018-01-04</td>\n",
       "      <td>[Strategy, Indie, Casual, Simulation]</td>\n",
       "      <td>http://steamcommunity.com/app/773640/reviews/?...</td>\n",
       "      <td>[Single-player, Steam Achievements]</td>\n",
       "      <td>1.99</td>\n",
       "      <td>False</td>\n",
       "      <td>773640</td>\n",
       "      <td>Nikita \"Ghost_RUS\"</td>\n",
       "    </tr>\n",
       "    <tr>\n",
       "      <th>120441</th>\n",
       "      <td>Sacada</td>\n",
       "      <td>[Casual, Indie, Strategy]</td>\n",
       "      <td>LOGistICAL: South Africa</td>\n",
       "      <td>LOGistICAL: South Africa</td>\n",
       "      <td>http://store.steampowered.com/app/733530/LOGis...</td>\n",
       "      <td>2018-01-04</td>\n",
       "      <td>[Strategy, Indie, Casual]</td>\n",
       "      <td>http://steamcommunity.com/app/733530/reviews/?...</td>\n",
       "      <td>[Single-player, Steam Achievements, Steam Clou...</td>\n",
       "      <td>4.99</td>\n",
       "      <td>False</td>\n",
       "      <td>733530</td>\n",
       "      <td>Sacada</td>\n",
       "    </tr>\n",
       "    <tr>\n",
       "      <th>120442</th>\n",
       "      <td>Laush Studio</td>\n",
       "      <td>[Indie, Racing, Simulation]</td>\n",
       "      <td>Russian Roads</td>\n",
       "      <td>Russian Roads</td>\n",
       "      <td>http://store.steampowered.com/app/610660/Russi...</td>\n",
       "      <td>2018-01-04</td>\n",
       "      <td>[Indie, Simulation, Racing]</td>\n",
       "      <td>http://steamcommunity.com/app/610660/reviews/?...</td>\n",
       "      <td>[Single-player, Steam Achievements, Steam Trad...</td>\n",
       "      <td>1.99</td>\n",
       "      <td>False</td>\n",
       "      <td>610660</td>\n",
       "      <td>Laush Dmitriy Sergeevich</td>\n",
       "    </tr>\n",
       "    <tr>\n",
       "      <th>120443</th>\n",
       "      <td>SIXNAILS</td>\n",
       "      <td>[Casual, Indie]</td>\n",
       "      <td>EXIT 2 - Directions</td>\n",
       "      <td>EXIT 2 - Directions</td>\n",
       "      <td>http://store.steampowered.com/app/658870/EXIT_...</td>\n",
       "      <td>2017-09-02</td>\n",
       "      <td>[Indie, Casual, Puzzle, Singleplayer, Atmosphe...</td>\n",
       "      <td>http://steamcommunity.com/app/658870/reviews/?...</td>\n",
       "      <td>[Single-player, Steam Achievements, Steam Cloud]</td>\n",
       "      <td>4.99</td>\n",
       "      <td>False</td>\n",
       "      <td>658870</td>\n",
       "      <td>xropi,stev3ns</td>\n",
       "    </tr>\n",
       "    <tr>\n",
       "      <th>120444</th>\n",
       "      <td>NaN</td>\n",
       "      <td>NaN</td>\n",
       "      <td>Maze Run VR</td>\n",
       "      <td>NaN</td>\n",
       "      <td>http://store.steampowered.com/app/681550/Maze_...</td>\n",
       "      <td>NaN</td>\n",
       "      <td>[Early Access, Adventure, Indie, Action, Simul...</td>\n",
       "      <td>http://steamcommunity.com/app/681550/reviews/?...</td>\n",
       "      <td>[Single-player, Stats, Steam Leaderboards, HTC...</td>\n",
       "      <td>4.99</td>\n",
       "      <td>True</td>\n",
       "      <td>681550</td>\n",
       "      <td>NaN</td>\n",
       "    </tr>\n",
       "  </tbody>\n",
       "</table>\n",
       "<p>120445 rows × 13 columns</p>\n",
       "</div>"
      ]
     },
     "execution_count": 46,
     "metadata": {},
     "output_type": "execute_result"
    }
   ],
   "execution_count": 46
  },
  {
   "cell_type": "markdown",
   "id": "d039e49e",
   "metadata": {},
   "source": [
    "Hacemos un resumen consiso de los Dataframe"
   ]
  },
  {
   "cell_type": "code",
   "id": "1eb65336",
   "metadata": {
    "ExecuteTime": {
     "end_time": "2024-03-17T05:14:10.410810Z",
     "start_time": "2024-03-17T05:14:10.295160Z"
    }
   },
   "source": [
    "df_games.info()"
   ],
   "outputs": [
    {
     "name": "stdout",
     "output_type": "stream",
     "text": [
      "<class 'pandas.core.frame.DataFrame'>\n",
      "RangeIndex: 120445 entries, 0 to 120444\n",
      "Data columns (total 13 columns):\n",
      " #   Column        Non-Null Count  Dtype \n",
      "---  ------        --------------  ----- \n",
      " 0   publisher     24083 non-null  object\n",
      " 1   genres        28852 non-null  object\n",
      " 2   app_name      32133 non-null  object\n",
      " 3   title         30085 non-null  object\n",
      " 4   url           32135 non-null  object\n",
      " 5   release_date  30068 non-null  object\n",
      " 6   tags          31972 non-null  object\n",
      " 7   reviews_url   32133 non-null  object\n",
      " 8   specs         31465 non-null  object\n",
      " 9   price         30758 non-null  object\n",
      " 10  early_access  32135 non-null  object\n",
      " 11  id            32133 non-null  object\n",
      " 12  developer     28836 non-null  object\n",
      "dtypes: object(13)\n",
      "memory usage: 11.9+ MB\n"
     ]
    }
   ],
   "execution_count": 47
  },
  {
   "cell_type": "code",
   "id": "3b844b64",
   "metadata": {
    "ExecuteTime": {
     "end_time": "2024-03-17T05:14:10.500017Z",
     "start_time": "2024-03-17T05:14:10.414147Z"
    }
   },
   "source": [
    "round(df_games.isna().sum().to_frame('% de Nulos')*100/len(df_games),2)"
   ],
   "outputs": [
    {
     "data": {
      "text/plain": [
       "              % de Nulos\n",
       "publisher          80.00\n",
       "genres             76.05\n",
       "app_name           73.32\n",
       "title              75.02\n",
       "url                73.32\n",
       "release_date       75.04\n",
       "tags               73.46\n",
       "reviews_url        73.32\n",
       "specs              73.88\n",
       "price              74.46\n",
       "early_access       73.32\n",
       "id                 73.32\n",
       "developer          76.06"
      ],
      "text/html": [
       "<div>\n",
       "<style scoped>\n",
       "    .dataframe tbody tr th:only-of-type {\n",
       "        vertical-align: middle;\n",
       "    }\n",
       "\n",
       "    .dataframe tbody tr th {\n",
       "        vertical-align: top;\n",
       "    }\n",
       "\n",
       "    .dataframe thead th {\n",
       "        text-align: right;\n",
       "    }\n",
       "</style>\n",
       "<table border=\"1\" class=\"dataframe\">\n",
       "  <thead>\n",
       "    <tr style=\"text-align: right;\">\n",
       "      <th></th>\n",
       "      <th>% de Nulos</th>\n",
       "    </tr>\n",
       "  </thead>\n",
       "  <tbody>\n",
       "    <tr>\n",
       "      <th>publisher</th>\n",
       "      <td>80.00</td>\n",
       "    </tr>\n",
       "    <tr>\n",
       "      <th>genres</th>\n",
       "      <td>76.05</td>\n",
       "    </tr>\n",
       "    <tr>\n",
       "      <th>app_name</th>\n",
       "      <td>73.32</td>\n",
       "    </tr>\n",
       "    <tr>\n",
       "      <th>title</th>\n",
       "      <td>75.02</td>\n",
       "    </tr>\n",
       "    <tr>\n",
       "      <th>url</th>\n",
       "      <td>73.32</td>\n",
       "    </tr>\n",
       "    <tr>\n",
       "      <th>release_date</th>\n",
       "      <td>75.04</td>\n",
       "    </tr>\n",
       "    <tr>\n",
       "      <th>tags</th>\n",
       "      <td>73.46</td>\n",
       "    </tr>\n",
       "    <tr>\n",
       "      <th>reviews_url</th>\n",
       "      <td>73.32</td>\n",
       "    </tr>\n",
       "    <tr>\n",
       "      <th>specs</th>\n",
       "      <td>73.88</td>\n",
       "    </tr>\n",
       "    <tr>\n",
       "      <th>price</th>\n",
       "      <td>74.46</td>\n",
       "    </tr>\n",
       "    <tr>\n",
       "      <th>early_access</th>\n",
       "      <td>73.32</td>\n",
       "    </tr>\n",
       "    <tr>\n",
       "      <th>id</th>\n",
       "      <td>73.32</td>\n",
       "    </tr>\n",
       "    <tr>\n",
       "      <th>developer</th>\n",
       "      <td>76.06</td>\n",
       "    </tr>\n",
       "  </tbody>\n",
       "</table>\n",
       "</div>"
      ]
     },
     "execution_count": 48,
     "metadata": {},
     "output_type": "execute_result"
    }
   ],
   "execution_count": 48
  },
  {
   "cell_type": "code",
   "id": "1201946a",
   "metadata": {
    "ExecuteTime": {
     "end_time": "2024-03-17T05:14:38.924590Z",
     "start_time": "2024-03-17T05:14:10.504294Z"
    }
   },
   "source": [
    "# Describe todas las columnas del dataframe df_games\n",
    "df_games.describe()\n"
   ],
   "outputs": [
    {
     "data": {
      "text/plain": [
       "       publisher    genres    app_name       title  \\\n",
       "count      24083     28852       32133       30085   \n",
       "unique      8239       883       32094       30054   \n",
       "top      Ubisoft  [Action]  Soundtrack  Soundtrack   \n",
       "freq         385      1880           3           3   \n",
       "\n",
       "                                                      url release_date  \\\n",
       "count                                               32135        30068   \n",
       "unique                                              32135         3582   \n",
       "top     http://store.steampowered.com/app/761140/Lost_...   2012-10-16   \n",
       "freq                                                    1          100   \n",
       "\n",
       "                        tags  \\\n",
       "count                  31972   \n",
       "unique                 15395   \n",
       "top     [Casual, Simulation]   \n",
       "freq                    1292   \n",
       "\n",
       "                                              reviews_url            specs  \\\n",
       "count                                               32133            31465   \n",
       "unique                                              32132             4649   \n",
       "top     http://steamcommunity.com/app/612880/reviews/?...  [Single-player]   \n",
       "freq                                                    2             2794   \n",
       "\n",
       "           price early_access      id                developer  \n",
       "count   30758.00        32135   32133                    28836  \n",
       "unique    162.00            2   32132                    10992  \n",
       "top         4.99        False  612880  Ubisoft - San Francisco  \n",
       "freq     4278.00        30188       2                     1259  "
      ],
      "text/html": [
       "<div>\n",
       "<style scoped>\n",
       "    .dataframe tbody tr th:only-of-type {\n",
       "        vertical-align: middle;\n",
       "    }\n",
       "\n",
       "    .dataframe tbody tr th {\n",
       "        vertical-align: top;\n",
       "    }\n",
       "\n",
       "    .dataframe thead th {\n",
       "        text-align: right;\n",
       "    }\n",
       "</style>\n",
       "<table border=\"1\" class=\"dataframe\">\n",
       "  <thead>\n",
       "    <tr style=\"text-align: right;\">\n",
       "      <th></th>\n",
       "      <th>publisher</th>\n",
       "      <th>genres</th>\n",
       "      <th>app_name</th>\n",
       "      <th>title</th>\n",
       "      <th>url</th>\n",
       "      <th>release_date</th>\n",
       "      <th>tags</th>\n",
       "      <th>reviews_url</th>\n",
       "      <th>specs</th>\n",
       "      <th>price</th>\n",
       "      <th>early_access</th>\n",
       "      <th>id</th>\n",
       "      <th>developer</th>\n",
       "    </tr>\n",
       "  </thead>\n",
       "  <tbody>\n",
       "    <tr>\n",
       "      <th>count</th>\n",
       "      <td>24083</td>\n",
       "      <td>28852</td>\n",
       "      <td>32133</td>\n",
       "      <td>30085</td>\n",
       "      <td>32135</td>\n",
       "      <td>30068</td>\n",
       "      <td>31972</td>\n",
       "      <td>32133</td>\n",
       "      <td>31465</td>\n",
       "      <td>30758.00</td>\n",
       "      <td>32135</td>\n",
       "      <td>32133</td>\n",
       "      <td>28836</td>\n",
       "    </tr>\n",
       "    <tr>\n",
       "      <th>unique</th>\n",
       "      <td>8239</td>\n",
       "      <td>883</td>\n",
       "      <td>32094</td>\n",
       "      <td>30054</td>\n",
       "      <td>32135</td>\n",
       "      <td>3582</td>\n",
       "      <td>15395</td>\n",
       "      <td>32132</td>\n",
       "      <td>4649</td>\n",
       "      <td>162.00</td>\n",
       "      <td>2</td>\n",
       "      <td>32132</td>\n",
       "      <td>10992</td>\n",
       "    </tr>\n",
       "    <tr>\n",
       "      <th>top</th>\n",
       "      <td>Ubisoft</td>\n",
       "      <td>[Action]</td>\n",
       "      <td>Soundtrack</td>\n",
       "      <td>Soundtrack</td>\n",
       "      <td>http://store.steampowered.com/app/761140/Lost_...</td>\n",
       "      <td>2012-10-16</td>\n",
       "      <td>[Casual, Simulation]</td>\n",
       "      <td>http://steamcommunity.com/app/612880/reviews/?...</td>\n",
       "      <td>[Single-player]</td>\n",
       "      <td>4.99</td>\n",
       "      <td>False</td>\n",
       "      <td>612880</td>\n",
       "      <td>Ubisoft - San Francisco</td>\n",
       "    </tr>\n",
       "    <tr>\n",
       "      <th>freq</th>\n",
       "      <td>385</td>\n",
       "      <td>1880</td>\n",
       "      <td>3</td>\n",
       "      <td>3</td>\n",
       "      <td>1</td>\n",
       "      <td>100</td>\n",
       "      <td>1292</td>\n",
       "      <td>2</td>\n",
       "      <td>2794</td>\n",
       "      <td>4278.00</td>\n",
       "      <td>30188</td>\n",
       "      <td>2</td>\n",
       "      <td>1259</td>\n",
       "    </tr>\n",
       "  </tbody>\n",
       "</table>\n",
       "</div>"
      ]
     },
     "execution_count": 49,
     "metadata": {},
     "output_type": "execute_result"
    }
   ],
   "execution_count": 49
  },
  {
   "cell_type": "markdown",
   "id": "551d5801",
   "metadata": {},
   "source": [
    "#### Descripción de los datos.\n",
    "A partir del análisis exploratorio anterior, podemos observar que el conjunto de datos contiene 120445 registros y 13 variables con información sobre juegos de Steam. Sin embargo, hay una gran cantidad de datos nulos (75% en promedio). A continuación, se describen las variables:\n",
    "\n",
    "\n",
    "- publisher: empresa publicadora del juego\n",
    "- genres: género del juego. Esta formado por una lista de uno o mas géneros por registro\n",
    "- app_name: nombre del juego\n",
    "- title: título del juego\n",
    "- url: URL de publicación del juego\n",
    "- release_date: fecha de lanzamiento en formato 2018-01-04\n",
    "- tags: etiquetas del juego. Esta formado por una lista de uno o más etiquetas por registro\n",
    "- reviews_url: reviews del juego\n",
    "- specs: especificaciones. Es una lista con uno o mas string con las especificaciones\n",
    "- price: precio del juego\n",
    "- early_access: indica el acceso temprano al juego con un True/False\n",
    "- id: identificador único del juego\n",
    "- developer: desarrollador del juego"
   ]
  },
  {
   "cell_type": "markdown",
   "id": "85af3cb7",
   "metadata": {},
   "source": [
    "# Transformación\n",
    "En esta sección, realizamos la limpieza inicial de los datos y las transformaciones necesarias. Esto puede incluir la creación de nuevas columnas a partir de las existentes, la eliminación de duplicados o columnas innecesarias, la gestión de valores nulos o la corrección de tipos de datos."
   ]
  },
  {
   "cell_type": "code",
   "id": "3daca67f",
   "metadata": {
    "ExecuteTime": {
     "end_time": "2024-03-17T05:14:38.980331Z",
     "start_time": "2024-03-17T05:14:38.927884Z"
    }
   },
   "source": [
    "df_games.dropna(subset='id', inplace=True)\n",
    "df_games.reset_index(drop=True, inplace=True)\n",
    "df_games.shape"
   ],
   "outputs": [
    {
     "data": {
      "text/plain": [
       "(32133, 13)"
      ]
     },
     "execution_count": 50,
     "metadata": {},
     "output_type": "execute_result"
    }
   ],
   "execution_count": 50
  },
  {
   "cell_type": "markdown",
   "id": "4c1d257c",
   "metadata": {},
   "source": [
    "#### Verificación de duplicados\n",
    "Del análisis exploratorio anterior notamos que el id 612880 esta duplicado. Se procede a verificar:"
   ]
  },
  {
   "cell_type": "code",
   "id": "aebdc179",
   "metadata": {
    "ExecuteTime": {
     "end_time": "2024-03-17T05:14:39.009192Z",
     "start_time": "2024-03-17T05:14:38.982970Z"
    }
   },
   "source": [
    "df_games[df_games['id'].duplicated(keep=False)]"
   ],
   "outputs": [
    {
     "data": {
      "text/plain": [
       "                publisher    genres                          app_name  \\\n",
       "13893  Bethesda Softworks  [Action]  Wolfenstein II: The New Colossus   \n",
       "14572  Bethesda Softworks  [Action]  Wolfenstein II: The New Colossus   \n",
       "\n",
       "                                  title  \\\n",
       "13893  Wolfenstein II: The New Colossus   \n",
       "14572  Wolfenstein II: The New Colossus   \n",
       "\n",
       "                                                     url release_date  \\\n",
       "13893          http://store.steampowered.com/app/612880/   2017-10-26   \n",
       "14572  http://store.steampowered.com/app/612880/Wolfe...   2017-10-26   \n",
       "\n",
       "                                                    tags  \\\n",
       "13893  [Action, FPS, Gore, Violent, Alternate History...   \n",
       "14572  [Action, FPS, Gore, Violent, Alternate History...   \n",
       "\n",
       "                                             reviews_url  \\\n",
       "13893  http://steamcommunity.com/app/612880/reviews/?...   \n",
       "14572  http://steamcommunity.com/app/612880/reviews/?...   \n",
       "\n",
       "                                                   specs  price early_access  \\\n",
       "13893  [Single-player, Steam Achievements, Full contr...  59.99        False   \n",
       "14572  [Single-player, Steam Achievements, Full contr...  59.99        False   \n",
       "\n",
       "           id      developer  \n",
       "13893  612880  Machine Games  \n",
       "14572  612880  Machine Games  "
      ],
      "text/html": [
       "<div>\n",
       "<style scoped>\n",
       "    .dataframe tbody tr th:only-of-type {\n",
       "        vertical-align: middle;\n",
       "    }\n",
       "\n",
       "    .dataframe tbody tr th {\n",
       "        vertical-align: top;\n",
       "    }\n",
       "\n",
       "    .dataframe thead th {\n",
       "        text-align: right;\n",
       "    }\n",
       "</style>\n",
       "<table border=\"1\" class=\"dataframe\">\n",
       "  <thead>\n",
       "    <tr style=\"text-align: right;\">\n",
       "      <th></th>\n",
       "      <th>publisher</th>\n",
       "      <th>genres</th>\n",
       "      <th>app_name</th>\n",
       "      <th>title</th>\n",
       "      <th>url</th>\n",
       "      <th>release_date</th>\n",
       "      <th>tags</th>\n",
       "      <th>reviews_url</th>\n",
       "      <th>specs</th>\n",
       "      <th>price</th>\n",
       "      <th>early_access</th>\n",
       "      <th>id</th>\n",
       "      <th>developer</th>\n",
       "    </tr>\n",
       "  </thead>\n",
       "  <tbody>\n",
       "    <tr>\n",
       "      <th>13893</th>\n",
       "      <td>Bethesda Softworks</td>\n",
       "      <td>[Action]</td>\n",
       "      <td>Wolfenstein II: The New Colossus</td>\n",
       "      <td>Wolfenstein II: The New Colossus</td>\n",
       "      <td>http://store.steampowered.com/app/612880/</td>\n",
       "      <td>2017-10-26</td>\n",
       "      <td>[Action, FPS, Gore, Violent, Alternate History...</td>\n",
       "      <td>http://steamcommunity.com/app/612880/reviews/?...</td>\n",
       "      <td>[Single-player, Steam Achievements, Full contr...</td>\n",
       "      <td>59.99</td>\n",
       "      <td>False</td>\n",
       "      <td>612880</td>\n",
       "      <td>Machine Games</td>\n",
       "    </tr>\n",
       "    <tr>\n",
       "      <th>14572</th>\n",
       "      <td>Bethesda Softworks</td>\n",
       "      <td>[Action]</td>\n",
       "      <td>Wolfenstein II: The New Colossus</td>\n",
       "      <td>Wolfenstein II: The New Colossus</td>\n",
       "      <td>http://store.steampowered.com/app/612880/Wolfe...</td>\n",
       "      <td>2017-10-26</td>\n",
       "      <td>[Action, FPS, Gore, Violent, Alternate History...</td>\n",
       "      <td>http://steamcommunity.com/app/612880/reviews/?...</td>\n",
       "      <td>[Single-player, Steam Achievements, Full contr...</td>\n",
       "      <td>59.99</td>\n",
       "      <td>False</td>\n",
       "      <td>612880</td>\n",
       "      <td>Machine Games</td>\n",
       "    </tr>\n",
       "  </tbody>\n",
       "</table>\n",
       "</div>"
      ]
     },
     "execution_count": 51,
     "metadata": {},
     "output_type": "execute_result"
    }
   ],
   "execution_count": 51
  },
  {
   "cell_type": "code",
   "id": "17006d37",
   "metadata": {
    "ExecuteTime": {
     "end_time": "2024-03-17T05:14:39.054799Z",
     "start_time": "2024-03-17T05:14:39.012076Z"
    }
   },
   "source": [
    "# Eliminamos duplicados por id\n",
    "df_games.drop_duplicates(subset='id', inplace=True)\n",
    "df_games.shape"
   ],
   "outputs": [
    {
     "data": {
      "text/plain": [
       "(32132, 13)"
      ]
     },
     "execution_count": 52,
     "metadata": {},
     "output_type": "execute_result"
    }
   ],
   "execution_count": 52
  },
  {
   "cell_type": "code",
   "id": "ce0b05bd",
   "metadata": {
    "ExecuteTime": {
     "end_time": "2024-03-17T05:14:39.067248Z",
     "start_time": "2024-03-17T05:14:39.057060Z"
    }
   },
   "source": [
    "# Renombra la columna 'id' a 'item_id' en el DataFrame df_games\n",
    "df_games.rename(columns={'id': 'item_id'}, inplace=True)\n",
    "df_games.columns"
   ],
   "outputs": [
    {
     "data": {
      "text/plain": [
       "Index(['publisher', 'genres', 'app_name', 'title', 'url', 'release_date',\n",
       "       'tags', 'reviews_url', 'specs', 'price', 'early_access', 'item_id',\n",
       "       'developer'],\n",
       "      dtype='object')"
      ]
     },
     "execution_count": 53,
     "metadata": {},
     "output_type": "execute_result"
    }
   ],
   "execution_count": 53
  },
  {
   "cell_type": "markdown",
   "id": "0f776c2b",
   "metadata": {},
   "source": [
    "#### Columnas title y app_name\n",
    "##### Gestión de nulos\n",
    "Notamos que ambas columnas contienen valores nulos que procedemos a reemplazar con 'unknown'."
   ]
  },
  {
   "cell_type": "code",
   "id": "6f36f1ea",
   "metadata": {
    "ExecuteTime": {
     "end_time": "2024-03-17T05:14:39.158945Z",
     "start_time": "2024-03-17T05:14:39.070228Z"
    }
   },
   "source": [
    "columns = ['title', 'app_name']\n",
    "df_games[columns] = df_games[columns].fillna('unknown')\n",
    "df_games.isnull().sum()"
   ],
   "outputs": [
    {
     "data": {
      "text/plain": [
       "publisher       8051\n",
       "genres          3282\n",
       "app_name           0\n",
       "title              0\n",
       "url                0\n",
       "release_date    2066\n",
       "tags             162\n",
       "reviews_url        0\n",
       "specs            669\n",
       "price           1377\n",
       "early_access       0\n",
       "item_id            0\n",
       "developer       3298\n",
       "dtype: int64"
      ]
     },
     "execution_count": 54,
     "metadata": {},
     "output_type": "execute_result"
    }
   ],
   "execution_count": 54
  },
  {
   "cell_type": "code",
   "id": "0049f808",
   "metadata": {
    "ExecuteTime": {
     "end_time": "2024-03-17T05:14:39.185361Z",
     "start_time": "2024-03-17T05:14:39.164595Z"
    }
   },
   "source": [
    "# Realizamos la comparación y creamos una columna con el resultado.\n",
    "df_games['is_equal'] = df_games['app_name'] == df_games['title']\n",
    "\n",
    "# Calculamos el porcentaje de filas donde 'app_name' y 'title' son iguales\n",
    "equal_percentage = round((df_games['is_equal'].sum() / len(df_games)) * 100, 2)\n",
    "\n",
    "print(f\"El porcentaje de filas donde 'app_name' y 'title' son iguales es: {equal_percentage}%\")"
   ],
   "outputs": [
    {
     "name": "stdout",
     "output_type": "stream",
     "text": [
      "El porcentaje de filas donde 'app_name' y 'title' son iguales es: 91.9%\n"
     ]
    }
   ],
   "execution_count": 55
  },
  {
   "cell_type": "code",
   "id": "7f791e8b",
   "metadata": {
    "ExecuteTime": {
     "end_time": "2024-03-17T05:14:39.229136Z",
     "start_time": "2024-03-17T05:14:39.189428Z"
    }
   },
   "source": [
    "# Filtramos las filas donde 'app_name' y 'title' no son iguales.\n",
    "not_equal_df = df_games.loc[df_games['is_equal'] == False]\n",
    "not_equal_df[['app_name', 'title']]"
   ],
   "outputs": [
    {
     "data": {
      "text/plain": [
       "                   app_name    title\n",
       "4             Log Challenge  unknown\n",
       "11     Icarus Six Sixty Six  unknown\n",
       "19            After Life VR  unknown\n",
       "20               Kitty Hawk  unknown\n",
       "22               Mortars VR  unknown\n",
       "...                     ...      ...\n",
       "32071        Tank of War-VR  unknown\n",
       "32074           Flappy Arms  unknown\n",
       "32075           SpaceWalker  unknown\n",
       "32083            LIV Client  unknown\n",
       "32132           Maze Run VR  unknown\n",
       "\n",
       "[2603 rows x 2 columns]"
      ],
      "text/html": [
       "<div>\n",
       "<style scoped>\n",
       "    .dataframe tbody tr th:only-of-type {\n",
       "        vertical-align: middle;\n",
       "    }\n",
       "\n",
       "    .dataframe tbody tr th {\n",
       "        vertical-align: top;\n",
       "    }\n",
       "\n",
       "    .dataframe thead th {\n",
       "        text-align: right;\n",
       "    }\n",
       "</style>\n",
       "<table border=\"1\" class=\"dataframe\">\n",
       "  <thead>\n",
       "    <tr style=\"text-align: right;\">\n",
       "      <th></th>\n",
       "      <th>app_name</th>\n",
       "      <th>title</th>\n",
       "    </tr>\n",
       "  </thead>\n",
       "  <tbody>\n",
       "    <tr>\n",
       "      <th>4</th>\n",
       "      <td>Log Challenge</td>\n",
       "      <td>unknown</td>\n",
       "    </tr>\n",
       "    <tr>\n",
       "      <th>11</th>\n",
       "      <td>Icarus Six Sixty Six</td>\n",
       "      <td>unknown</td>\n",
       "    </tr>\n",
       "    <tr>\n",
       "      <th>19</th>\n",
       "      <td>After Life VR</td>\n",
       "      <td>unknown</td>\n",
       "    </tr>\n",
       "    <tr>\n",
       "      <th>20</th>\n",
       "      <td>Kitty Hawk</td>\n",
       "      <td>unknown</td>\n",
       "    </tr>\n",
       "    <tr>\n",
       "      <th>22</th>\n",
       "      <td>Mortars VR</td>\n",
       "      <td>unknown</td>\n",
       "    </tr>\n",
       "    <tr>\n",
       "      <th>...</th>\n",
       "      <td>...</td>\n",
       "      <td>...</td>\n",
       "    </tr>\n",
       "    <tr>\n",
       "      <th>32071</th>\n",
       "      <td>Tank of War-VR</td>\n",
       "      <td>unknown</td>\n",
       "    </tr>\n",
       "    <tr>\n",
       "      <th>32074</th>\n",
       "      <td>Flappy Arms</td>\n",
       "      <td>unknown</td>\n",
       "    </tr>\n",
       "    <tr>\n",
       "      <th>32075</th>\n",
       "      <td>SpaceWalker</td>\n",
       "      <td>unknown</td>\n",
       "    </tr>\n",
       "    <tr>\n",
       "      <th>32083</th>\n",
       "      <td>LIV Client</td>\n",
       "      <td>unknown</td>\n",
       "    </tr>\n",
       "    <tr>\n",
       "      <th>32132</th>\n",
       "      <td>Maze Run VR</td>\n",
       "      <td>unknown</td>\n",
       "    </tr>\n",
       "  </tbody>\n",
       "</table>\n",
       "<p>2603 rows × 2 columns</p>\n",
       "</div>"
      ]
     },
     "execution_count": 56,
     "metadata": {},
     "output_type": "execute_result"
    }
   ],
   "execution_count": 56
  },
  {
   "cell_type": "markdown",
   "id": "ef1c8ea4",
   "metadata": {},
   "source": [
    "Cambiamos el nombre de la columna <code>app_name</code> por uno mas representativo como <code>item_name</code>."
   ]
  },
  {
   "cell_type": "code",
   "id": "58ed4b75",
   "metadata": {
    "ExecuteTime": {
     "end_time": "2024-03-17T05:14:39.242404Z",
     "start_time": "2024-03-17T05:14:39.232239Z"
    }
   },
   "source": [
    "df_games.rename(columns={'app_name': 'item_name'}, inplace=True)\n",
    "df_games.columns"
   ],
   "outputs": [
    {
     "data": {
      "text/plain": [
       "Index(['publisher', 'genres', 'item_name', 'title', 'url', 'release_date',\n",
       "       'tags', 'reviews_url', 'specs', 'price', 'early_access', 'item_id',\n",
       "       'developer', 'is_equal'],\n",
       "      dtype='object')"
      ]
     },
     "execution_count": 57,
     "metadata": {},
     "output_type": "execute_result"
    }
   ],
   "execution_count": 57
  },
  {
   "cell_type": "markdown",
   "id": "c0493c61",
   "metadata": {},
   "source": [
    "##### Tratamiento Columas <code>publisher</code>\n",
    "Gestión de nulos\n",
    "Notamos que también tenemos valores nulos para la columnas publisher y developer que reemplazamos con 'unknown'."
   ]
  },
  {
   "cell_type": "code",
   "id": "d4b040241a52bf9c",
   "metadata": {
    "ExecuteTime": {
     "end_time": "2024-03-17T05:14:39.339759Z",
     "start_time": "2024-03-17T05:14:39.245453Z"
    }
   },
   "source": [
    "# Reemplazamos los valores nulos con 'unknown'\n",
    "columns = ['publisher', 'developer']\n",
    "df_games[columns] = df_games[columns].fillna('unknown')\n",
    "df_games.isnull().sum()"
   ],
   "outputs": [
    {
     "data": {
      "text/plain": [
       "publisher          0\n",
       "genres          3282\n",
       "item_name          0\n",
       "title              0\n",
       "url                0\n",
       "release_date    2066\n",
       "tags             162\n",
       "reviews_url        0\n",
       "specs            669\n",
       "price           1377\n",
       "early_access       0\n",
       "item_id            0\n",
       "developer          0\n",
       "is_equal           0\n",
       "dtype: int64"
      ]
     },
     "execution_count": 58,
     "metadata": {},
     "output_type": "execute_result"
    }
   ],
   "execution_count": 58
  },
  {
   "cell_type": "markdown",
   "id": "5dd6b2ac0d466137",
   "metadata": {},
   "source": [
    "##### Tratamiento de <code>release_date</code>\n",
    "Valor de nulos"
   ]
  },
  {
   "metadata": {
    "ExecuteTime": {
     "end_time": "2024-03-17T05:14:39.423688Z",
     "start_time": "2024-03-17T05:14:39.344076Z"
    }
   },
   "cell_type": "code",
   "source": [
    "df_games['release_date'] = df_games['release_date'].fillna('unknown')\n",
    "df_games.isnull().sum()"
   ],
   "id": "ad37cf81e19393ad",
   "outputs": [
    {
     "data": {
      "text/plain": [
       "publisher          0\n",
       "genres          3282\n",
       "item_name          0\n",
       "title              0\n",
       "url                0\n",
       "release_date       0\n",
       "tags             162\n",
       "reviews_url        0\n",
       "specs            669\n",
       "price           1377\n",
       "early_access       0\n",
       "item_id            0\n",
       "developer          0\n",
       "is_equal           0\n",
       "dtype: int64"
      ]
     },
     "execution_count": 59,
     "metadata": {},
     "output_type": "execute_result"
    }
   ],
   "execution_count": 59
  },
  {
   "cell_type": "code",
   "id": "fa93fa1f0051f32",
   "metadata": {
    "ExecuteTime": {
     "end_time": "2024-03-17T05:14:39.478910Z",
     "start_time": "2024-03-17T05:14:39.428141Z"
    }
   },
   "source": [
    "import re\n",
    "mask = df_games['release_date'].apply(lambda x: not re.match(r'\\d{4}-\\d{2}-\\d{2}', str(x)))"
   ],
   "outputs": [],
   "execution_count": 60
  },
  {
   "cell_type": "markdown",
   "id": "6d7d0e16cf479d5f",
   "metadata": {},
   "source": [
    "- Filtramos las filas donde la máscara es True."
   ]
  },
  {
   "cell_type": "code",
   "id": "a175aba16e1a491a",
   "metadata": {
    "ExecuteTime": {
     "end_time": "2024-03-17T05:14:39.497556Z",
     "start_time": "2024-03-17T05:14:39.482737Z"
    }
   },
   "source": [
    "invalid_dates = df_games.loc[mask, 'release_date']\n",
    "invalid_dates"
   ],
   "outputs": [
    {
     "data": {
      "text/plain": [
       "4             unknown\n",
       "10             Soon..\n",
       "11            unknown\n",
       "19            unknown\n",
       "20            unknown\n",
       "             ...     \n",
       "32085     Coming Soon\n",
       "32086         unknown\n",
       "32095            2016\n",
       "32121    January 2018\n",
       "32132         unknown\n",
       "Name: release_date, Length: 2351, dtype: object"
      ]
     },
     "execution_count": 61,
     "metadata": {},
     "output_type": "execute_result"
    }
   ],
   "execution_count": 61
  },
  {
   "cell_type": "markdown",
   "id": "6183f318f365bdf1",
   "metadata": {},
   "source": [
    "<h1>Extracción del año.</h1>\n",
    "Para los endpoints que se consumirán en la API solo necesitamos el año de lanzamiento del item, para ello lo extraemos de release_date de la siguiente manera:"
   ]
  },
  {
   "cell_type": "markdown",
   "id": "84a87a2531de0fb",
   "metadata": {},
   "source": [
    "- Creamos una máscara booleana donde release_date no coincide con el formato YYYY-MM-DD."
   ]
  },
  {
   "cell_type": "code",
   "id": "85aa017b16d80051",
   "metadata": {
    "ExecuteTime": {
     "end_time": "2024-03-17T05:14:39.552307Z",
     "start_time": "2024-03-17T05:14:39.501386Z"
    }
   },
   "source": [
    "mask = df_games['release_date'].apply(lambda x: not re.match(r'\\d{4}-\\d{2}-\\d{2}', str(x)))\n",
    "\n",
    "# Filtramos las filas donde la máscara es True\n",
    "invalid_dates = df_games.loc[mask, 'release_date']\n",
    "invalid_dates"
   ],
   "outputs": [
    {
     "data": {
      "text/plain": [
       "4             unknown\n",
       "10             Soon..\n",
       "11            unknown\n",
       "19            unknown\n",
       "20            unknown\n",
       "             ...     \n",
       "32085     Coming Soon\n",
       "32086         unknown\n",
       "32095            2016\n",
       "32121    January 2018\n",
       "32132         unknown\n",
       "Name: release_date, Length: 2351, dtype: object"
      ]
     },
     "execution_count": 62,
     "metadata": {},
     "output_type": "execute_result"
    }
   ],
   "execution_count": 62
  },
  {
   "cell_type": "code",
   "id": "69bab5148f09e86b",
   "metadata": {
    "ExecuteTime": {
     "end_time": "2024-03-17T05:14:39.635511Z",
     "start_time": "2024-03-17T05:14:39.555424Z"
    }
   },
   "source": [
    "# Extraemos el año en una nueva columna y si no existe reemplazamos por 'unknown'.\n",
    "df_games['release_year'] = df_games['release_date'].str.extract(r'(\\d{4})').fillna('unknown')\n",
    "df_games['release_year']"
   ],
   "outputs": [
    {
     "data": {
      "text/plain": [
       "0           2018\n",
       "1           2018\n",
       "2           2017\n",
       "3           2017\n",
       "4        unknown\n",
       "          ...   \n",
       "32128       2018\n",
       "32129       2018\n",
       "32130       2018\n",
       "32131       2017\n",
       "32132    unknown\n",
       "Name: release_year, Length: 32132, dtype: object"
      ]
     },
     "execution_count": 63,
     "metadata": {},
     "output_type": "execute_result"
    }
   ],
   "execution_count": 63
  },
  {
   "cell_type": "markdown",
   "id": "99ea3b21a750c6fa",
   "metadata": {},
   "source": []
  },
  {
   "cell_type": "code",
   "id": "d2d6065ae18b1b12",
   "metadata": {
    "ExecuteTime": {
     "end_time": "2024-03-17T05:14:39.659146Z",
     "start_time": "2024-03-17T05:14:39.638576Z"
    }
   },
   "source": [
    "# Comprobamos que se haya extraido correctamente el año:\n",
    "df_games[['release_date', 'release_year']].loc[[32121, 32095, 32085 ]]"
   ],
   "outputs": [
    {
     "data": {
      "text/plain": [
       "       release_date release_year\n",
       "32121  January 2018         2018\n",
       "32095          2016         2016\n",
       "32085   Coming Soon      unknown"
      ],
      "text/html": [
       "<div>\n",
       "<style scoped>\n",
       "    .dataframe tbody tr th:only-of-type {\n",
       "        vertical-align: middle;\n",
       "    }\n",
       "\n",
       "    .dataframe tbody tr th {\n",
       "        vertical-align: top;\n",
       "    }\n",
       "\n",
       "    .dataframe thead th {\n",
       "        text-align: right;\n",
       "    }\n",
       "</style>\n",
       "<table border=\"1\" class=\"dataframe\">\n",
       "  <thead>\n",
       "    <tr style=\"text-align: right;\">\n",
       "      <th></th>\n",
       "      <th>release_date</th>\n",
       "      <th>release_year</th>\n",
       "    </tr>\n",
       "  </thead>\n",
       "  <tbody>\n",
       "    <tr>\n",
       "      <th>32121</th>\n",
       "      <td>January 2018</td>\n",
       "      <td>2018</td>\n",
       "    </tr>\n",
       "    <tr>\n",
       "      <th>32095</th>\n",
       "      <td>2016</td>\n",
       "      <td>2016</td>\n",
       "    </tr>\n",
       "    <tr>\n",
       "      <th>32085</th>\n",
       "      <td>Coming Soon</td>\n",
       "      <td>unknown</td>\n",
       "    </tr>\n",
       "  </tbody>\n",
       "</table>\n",
       "</div>"
      ]
     },
     "execution_count": 64,
     "metadata": {},
     "output_type": "execute_result"
    }
   ],
   "execution_count": 64
  },
  {
   "cell_type": "markdown",
   "id": "103871730440cc5e",
   "metadata": {},
   "source": [
    "##### Buscamos años inexistentes en <code>release_year</code> y los pasamos a 'unknown'."
   ]
  },
  {
   "cell_type": "code",
   "id": "11de5eadce9ba52c",
   "metadata": {
    "ExecuteTime": {
     "end_time": "2024-03-17T05:14:39.675879Z",
     "start_time": "2024-03-17T05:14:39.662356Z"
    }
   },
   "source": [
    "df_games['release_year'].unique()"
   ],
   "outputs": [
    {
     "data": {
      "text/plain": [
       "array(['2018', '2017', 'unknown', '1997', '1998', '2016', '2006', '2005',\n",
       "       '2003', '2007', '2002', '2000', '1995', '1996', '1994', '2001',\n",
       "       '1993', '2004', '1999', '2008', '2009', '1992', '1989', '2010',\n",
       "       '2011', '2013', '2012', '2014', '1983', '1984', '2015', '1990',\n",
       "       '1988', '1991', '1985', '1982', '1987', '1981', '1986', '2021',\n",
       "       '5275', '2019', '1975', '1970', '1980'], dtype=object)"
      ]
     },
     "execution_count": 65,
     "metadata": {},
     "output_type": "execute_result"
    }
   ],
   "execution_count": 65
  },
  {
   "cell_type": "code",
   "id": "dcf010e27a76ac1b",
   "metadata": {
    "ExecuteTime": {
     "end_time": "2024-03-17T05:14:39.709345Z",
     "start_time": "2024-03-17T05:14:39.679797Z"
    }
   },
   "source": [
    "df_games[df_games['release_year'] == \"5275\"]"
   ],
   "outputs": [
    {
     "data": {
      "text/plain": [
       "      publisher                         genres            item_name  \\\n",
       "13427    一次元创作组  [Casual, Indie, Early Access]  Puzzle Sisters Foer   \n",
       "\n",
       "                     title                                                url  \\\n",
       "13427  Puzzle Sisters Foer  http://store.steampowered.com/app/710190/Puzzl...   \n",
       "\n",
       "      release_date                           tags  \\\n",
       "13427  预热群52756441  [Early Access, Casual, Indie]   \n",
       "\n",
       "                                             reviews_url  \\\n",
       "13427  http://steamcommunity.com/app/710190/reviews/?...   \n",
       "\n",
       "                                                   specs price early_access  \\\n",
       "13427  [Single-player, Steam Achievements, Steam Trad...   NaN         True   \n",
       "\n",
       "      item_id developer  is_equal release_year  \n",
       "13427  710190    一次元创作组      True         5275  "
      ],
      "text/html": [
       "<div>\n",
       "<style scoped>\n",
       "    .dataframe tbody tr th:only-of-type {\n",
       "        vertical-align: middle;\n",
       "    }\n",
       "\n",
       "    .dataframe tbody tr th {\n",
       "        vertical-align: top;\n",
       "    }\n",
       "\n",
       "    .dataframe thead th {\n",
       "        text-align: right;\n",
       "    }\n",
       "</style>\n",
       "<table border=\"1\" class=\"dataframe\">\n",
       "  <thead>\n",
       "    <tr style=\"text-align: right;\">\n",
       "      <th></th>\n",
       "      <th>publisher</th>\n",
       "      <th>genres</th>\n",
       "      <th>item_name</th>\n",
       "      <th>title</th>\n",
       "      <th>url</th>\n",
       "      <th>release_date</th>\n",
       "      <th>tags</th>\n",
       "      <th>reviews_url</th>\n",
       "      <th>specs</th>\n",
       "      <th>price</th>\n",
       "      <th>early_access</th>\n",
       "      <th>item_id</th>\n",
       "      <th>developer</th>\n",
       "      <th>is_equal</th>\n",
       "      <th>release_year</th>\n",
       "    </tr>\n",
       "  </thead>\n",
       "  <tbody>\n",
       "    <tr>\n",
       "      <th>13427</th>\n",
       "      <td>一次元创作组</td>\n",
       "      <td>[Casual, Indie, Early Access]</td>\n",
       "      <td>Puzzle Sisters Foer</td>\n",
       "      <td>Puzzle Sisters Foer</td>\n",
       "      <td>http://store.steampowered.com/app/710190/Puzzl...</td>\n",
       "      <td>预热群52756441</td>\n",
       "      <td>[Early Access, Casual, Indie]</td>\n",
       "      <td>http://steamcommunity.com/app/710190/reviews/?...</td>\n",
       "      <td>[Single-player, Steam Achievements, Steam Trad...</td>\n",
       "      <td>NaN</td>\n",
       "      <td>True</td>\n",
       "      <td>710190</td>\n",
       "      <td>一次元创作组</td>\n",
       "      <td>True</td>\n",
       "      <td>5275</td>\n",
       "    </tr>\n",
       "  </tbody>\n",
       "</table>\n",
       "</div>"
      ]
     },
     "execution_count": 66,
     "metadata": {},
     "output_type": "execute_result"
    }
   ],
   "execution_count": 66
  },
  {
   "cell_type": "code",
   "id": "d4a453dcf046096",
   "metadata": {
    "ExecuteTime": {
     "end_time": "2024-03-17T05:14:39.737764Z",
     "start_time": "2024-03-17T05:14:39.713603Z"
    }
   },
   "source": [
    "df_games['release_year'] = df_games['release_year'].replace('5275', 'unknown')\n",
    "df_games['release_year'].unique()"
   ],
   "outputs": [
    {
     "data": {
      "text/plain": [
       "array(['2018', '2017', 'unknown', '1997', '1998', '2016', '2006', '2005',\n",
       "       '2003', '2007', '2002', '2000', '1995', '1996', '1994', '2001',\n",
       "       '1993', '2004', '1999', '2008', '2009', '1992', '1989', '2010',\n",
       "       '2011', '2013', '2012', '2014', '1983', '1984', '2015', '1990',\n",
       "       '1988', '1991', '1985', '1982', '1987', '1981', '1986', '2021',\n",
       "       '2019', '1975', '1970', '1980'], dtype=object)"
      ]
     },
     "execution_count": 67,
     "metadata": {},
     "output_type": "execute_result"
    }
   ],
   "execution_count": 67
  },
  {
   "cell_type": "markdown",
   "id": "6646a209d62f137c",
   "metadata": {},
   "source": [
    "#### Columnas de Precio\n",
    "- Gestión de nulos"
   ]
  },
  {
   "cell_type": "code",
   "id": "b44fc6625b6e8080",
   "metadata": {
    "ExecuteTime": {
     "end_time": "2024-03-17T05:14:39.768250Z",
     "start_time": "2024-03-17T05:14:39.740994Z"
    }
   },
   "source": [
    "df_games[df_games['price'].isnull()][['price','genres', 'tags']].sample(10)"
   ],
   "outputs": [
    {
     "data": {
      "text/plain": [
       "      price                                 genres  \\\n",
       "26671   NaN                                  [RPG]   \n",
       "14771   NaN                [Action, Casual, Indie]   \n",
       "1824    NaN                    [Action, Adventure]   \n",
       "31213   NaN                           [Simulation]   \n",
       "26295   NaN                          [Action, RPG]   \n",
       "3754    NaN                 [Casual, Free to Play]   \n",
       "6653    NaN                        [Casual, Indie]   \n",
       "25377   NaN         [Action, Simulation, Strategy]   \n",
       "12394   NaN                                    NaN   \n",
       "26790   NaN  [Action, Indie, Simulation, Strategy]   \n",
       "\n",
       "                                                    tags  \n",
       "26671                                              [RPG]  \n",
       "14771                            [Action, Indie, Casual]  \n",
       "1824                                 [Action, Adventure]  \n",
       "31213                                                NaN  \n",
       "26295                 [Action, RPG, Co-op, Stealth, FPS]  \n",
       "3754                              [Casual, Free to Play]  \n",
       "6653                                     [Indie, Casual]  \n",
       "25377  [Strategy, Simulation, Action, World War I, Hi...  \n",
       "12394  [Design & Illustration, Utilities, Animation &...  \n",
       "26790              [Strategy, Action, Indie, Simulation]  "
      ],
      "text/html": [
       "<div>\n",
       "<style scoped>\n",
       "    .dataframe tbody tr th:only-of-type {\n",
       "        vertical-align: middle;\n",
       "    }\n",
       "\n",
       "    .dataframe tbody tr th {\n",
       "        vertical-align: top;\n",
       "    }\n",
       "\n",
       "    .dataframe thead th {\n",
       "        text-align: right;\n",
       "    }\n",
       "</style>\n",
       "<table border=\"1\" class=\"dataframe\">\n",
       "  <thead>\n",
       "    <tr style=\"text-align: right;\">\n",
       "      <th></th>\n",
       "      <th>price</th>\n",
       "      <th>genres</th>\n",
       "      <th>tags</th>\n",
       "    </tr>\n",
       "  </thead>\n",
       "  <tbody>\n",
       "    <tr>\n",
       "      <th>26671</th>\n",
       "      <td>NaN</td>\n",
       "      <td>[RPG]</td>\n",
       "      <td>[RPG]</td>\n",
       "    </tr>\n",
       "    <tr>\n",
       "      <th>14771</th>\n",
       "      <td>NaN</td>\n",
       "      <td>[Action, Casual, Indie]</td>\n",
       "      <td>[Action, Indie, Casual]</td>\n",
       "    </tr>\n",
       "    <tr>\n",
       "      <th>1824</th>\n",
       "      <td>NaN</td>\n",
       "      <td>[Action, Adventure]</td>\n",
       "      <td>[Action, Adventure]</td>\n",
       "    </tr>\n",
       "    <tr>\n",
       "      <th>31213</th>\n",
       "      <td>NaN</td>\n",
       "      <td>[Simulation]</td>\n",
       "      <td>NaN</td>\n",
       "    </tr>\n",
       "    <tr>\n",
       "      <th>26295</th>\n",
       "      <td>NaN</td>\n",
       "      <td>[Action, RPG]</td>\n",
       "      <td>[Action, RPG, Co-op, Stealth, FPS]</td>\n",
       "    </tr>\n",
       "    <tr>\n",
       "      <th>3754</th>\n",
       "      <td>NaN</td>\n",
       "      <td>[Casual, Free to Play]</td>\n",
       "      <td>[Casual, Free to Play]</td>\n",
       "    </tr>\n",
       "    <tr>\n",
       "      <th>6653</th>\n",
       "      <td>NaN</td>\n",
       "      <td>[Casual, Indie]</td>\n",
       "      <td>[Indie, Casual]</td>\n",
       "    </tr>\n",
       "    <tr>\n",
       "      <th>25377</th>\n",
       "      <td>NaN</td>\n",
       "      <td>[Action, Simulation, Strategy]</td>\n",
       "      <td>[Strategy, Simulation, Action, World War I, Hi...</td>\n",
       "    </tr>\n",
       "    <tr>\n",
       "      <th>12394</th>\n",
       "      <td>NaN</td>\n",
       "      <td>NaN</td>\n",
       "      <td>[Design &amp; Illustration, Utilities, Animation &amp;...</td>\n",
       "    </tr>\n",
       "    <tr>\n",
       "      <th>26790</th>\n",
       "      <td>NaN</td>\n",
       "      <td>[Action, Indie, Simulation, Strategy]</td>\n",
       "      <td>[Strategy, Action, Indie, Simulation]</td>\n",
       "    </tr>\n",
       "  </tbody>\n",
       "</table>\n",
       "</div>"
      ]
     },
     "execution_count": 68,
     "metadata": {},
     "output_type": "execute_result"
    }
   ],
   "execution_count": 68
  },
  {
   "cell_type": "code",
   "id": "61df972aa3d5eaf5",
   "metadata": {
    "ExecuteTime": {
     "end_time": "2024-03-17T05:14:39.781509Z",
     "start_time": "2024-03-17T05:14:39.771386Z"
    }
   },
   "source": [
    "df_games.price.isnull().sum()"
   ],
   "outputs": [
    {
     "data": {
      "text/plain": [
       "1377"
      ]
     },
     "execution_count": 69,
     "metadata": {},
     "output_type": "execute_result"
    }
   ],
   "execution_count": 69
  },
  {
   "cell_type": "code",
   "id": "7267c924e519abe5",
   "metadata": {
    "ExecuteTime": {
     "end_time": "2024-03-17T05:14:39.929169Z",
     "start_time": "2024-03-17T05:14:39.784929Z"
    }
   },
   "source": [
    "# Crea una función para comprobar si un juego es gratis\n",
    "def check_free(val):\n",
    "    if isinstance(val, list):\n",
    "        for item in val:\n",
    "            if 'free' in item.lower():\n",
    "                return True\n",
    "    return False\n",
    "\n",
    "\n",
    "# Aplicamos la función a cada fila del DataFrame\n",
    "df_games['is_free'] = df_games['genres'].apply(check_free) | df_games['tags'].apply(check_free) | df_games['specs'].apply(check_free)\n",
    "\n",
    "# Si un juego es gratuito y su precio es 'NaN', establece su precio en 0\n",
    "df_games.loc[(df_games['is_free'] == True) & (df_games['price'].isnull()), 'price'] = 0\n",
    "\n",
    "# Eliminamos la columna temporal 'is_free'\n",
    "df_games.drop('is_free', axis=1, inplace=True)"
   ],
   "outputs": [],
   "execution_count": 70
  },
  {
   "cell_type": "markdown",
   "id": "a436aec49065852d",
   "metadata": {},
   "source": [
    "Observamos que la cantidad de valores nulos ha disminuido, por lo que podemos concluir que teníamos varios juegos gratuitos con precios nulos, pero aún nos falta asignarle precio 0 a los juegos cuyo precio indica que es 'free' en la columna price."
   ]
  },
  {
   "cell_type": "code",
   "id": "23ff15bd00a25a98",
   "metadata": {
    "ExecuteTime": {
     "end_time": "2024-03-17T05:14:39.945244Z",
     "start_time": "2024-03-17T05:14:39.932403Z"
    }
   },
   "source": [
    "df_games.price.isnull().sum()"
   ],
   "outputs": [
    {
     "data": {
      "text/plain": [
       "1172"
      ]
     },
     "execution_count": 71,
     "metadata": {},
     "output_type": "execute_result"
    }
   ],
   "execution_count": 71
  },
  {
   "cell_type": "code",
   "id": "19586c08302fd1f9",
   "metadata": {
    "ExecuteTime": {
     "end_time": "2024-03-17T05:14:39.967136Z",
     "start_time": "2024-03-17T05:14:39.949379Z"
    }
   },
   "source": [
    "def replace_free_with_zero(val):\n",
    "    if isinstance(val, str) and 'free' in val.lower():\n",
    "        return 0\n",
    "    return val\n",
    "\n",
    "# Solo aplica la función a la columna 'price'\n",
    "df_games['price'] = df_games['price'].apply(replace_free_with_zero)"
   ],
   "outputs": [],
   "execution_count": 72
  },
  {
   "cell_type": "code",
   "id": "a8d0ba322cf3af41",
   "metadata": {
    "ExecuteTime": {
     "end_time": "2024-03-17T05:14:39.988156Z",
     "start_time": "2024-03-17T05:14:39.975833Z"
    }
   },
   "source": [
    "df_games['price'].unique()"
   ],
   "outputs": [
    {
     "data": {
      "text/plain": [
       "array([4.99, 0, 0.99, 2.99, 3.99, 9.99, 18.99, 29.99, nan, 10.99, 1.59,\n",
       "       14.99, 1.99, 59.99, 8.99, 6.99, 7.99, 39.99, 19.99, 7.49, 12.99,\n",
       "       5.99, 2.49, 15.99, 1.25, 24.99, 17.99, 61.99, 3.49, 11.99, 13.99,\n",
       "       34.99, 74.76, 1.49, 32.99, 99.99, 14.95, 69.99, 16.99, 79.99,\n",
       "       49.99, 5.0, 44.99, 13.98, 29.96, 119.99, 109.99, 149.99, 771.71,\n",
       "       'Install Now', 21.99, 89.99, 'Play WARMACHINE: Tactics Demo', 0.98,\n",
       "       139.92, 4.29, 64.99, 54.99, 74.99, 'Install Theme', 0.89,\n",
       "       'Third-party', 0.5, 'Play Now', 299.99, 1.29, 3.0, 15.0, 5.49,\n",
       "       23.99, 49.0, 20.99, 10.93, 1.39, 36.99, 4.49, 2.0, 4.0, 9.0,\n",
       "       234.99, 1.95, 1.5, 199.0, 189.0, 6.66, 27.99, 10.49, 129.99, 179.0,\n",
       "       26.99, 399.99, 31.99, 399.0, 20.0, 40.0, 3.33, 199.99, 22.99,\n",
       "       320.0, 38.85, 71.7, 59.95, 995.0, 27.49, 3.39, 6.0, 19.95, 499.99,\n",
       "       16.06, 4.68, 131.4, 44.98, 202.76, 1.0, 2.3, 0.95, 172.24, 249.99,\n",
       "       2.97, 10.96, 10.0, 30.0, 2.66, 6.48, 19.29, 11.15, 18.9, 2.89,\n",
       "       'Play the Demo', 99.0, 87.94, 599.0, 8.98, 9.69, 0.49, 9.98, 9.95,\n",
       "       7.0, 'Starting at $499.00', 'Starting at $449.00', 12.89, 6.49,\n",
       "       1.87, 42.99, 41.99, 289.99, 23.96, 5.65, 12.0, 13.37, 189.96,\n",
       "       124.99, 19.98, 160.91], dtype=object)"
      ]
     },
     "execution_count": 73,
     "metadata": {},
     "output_type": "execute_result"
    }
   ],
   "execution_count": 73
  },
  {
   "cell_type": "code",
   "id": "6516f7a7e55d489a",
   "metadata": {
    "ExecuteTime": {
     "end_time": "2024-03-17T05:14:40.028494Z",
     "start_time": "2024-03-17T05:14:39.991744Z"
    }
   },
   "source": [
    "non_price_values = ['Install Now', 'Play WARMACHINE: Tactics Demo', 'Install Theme', 'Third-party', 'Play Now', 'Play the Demo', 'Starting at $499.00', 'Starting at $449.00']\n",
    "df_games[df_games['price'].isin(non_price_values)]"
   ],
   "outputs": [
    {
     "data": {
      "text/plain": [
       "                         publisher  \\\n",
       "2404                          EVGA   \n",
       "2870   Privateer Press Interactive   \n",
       "3831                       unknown   \n",
       "3917                       unknown   \n",
       "4025                     DigitalEZ   \n",
       "22733        Boomzap Entertainment   \n",
       "24999                      unknown   \n",
       "25000                      unknown   \n",
       "26216                      unknown   \n",
       "31836           PopCap Games, Inc.   \n",
       "\n",
       "                                            genres  \\\n",
       "2404                                   [Utilities]   \n",
       "2870                             [Indie, Strategy]   \n",
       "3831   [Adventure, Casual, Indie, RPG, Simulation]   \n",
       "3917                                       [Indie]   \n",
       "4025                               [Casual, Indie]   \n",
       "22733                                   [Strategy]   \n",
       "24999                                          NaN   \n",
       "25000                                          NaN   \n",
       "26216       [Adventure, Casual, Indie, Simulation]   \n",
       "31836                                     [Casual]   \n",
       "\n",
       "                         item_name                        title  \\\n",
       "2404            EVGA Precision XOC           EVGA Precision XOC   \n",
       "2870           WARMACHINE: Tactics          WARMACHINE: Tactics   \n",
       "3831         FREE China Theme Pack        FREE China Theme Pack   \n",
       "3917           Parcel - Soundtrack          Parcel - Soundtrack   \n",
       "4025   Oblivious Garden ~White Day  Oblivious Garden ~White Day   \n",
       "22733          Legends of Callasia          Legends of Callasia   \n",
       "24999          Syber Steam Machine          Syber Steam Machine   \n",
       "25000      Alienware Steam Machine      Alienware Steam Machine   \n",
       "26216       Area-X - Extra Gallery       Area-X - Extra Gallery   \n",
       "31836               Peggle Extreme               Peggle Extreme   \n",
       "\n",
       "                                                     url release_date  \\\n",
       "2404   http://store.steampowered.com/app/268850/EVGA_...   2014-09-19   \n",
       "2870   http://store.steampowered.com/app/253510/WARMA...   2014-11-20   \n",
       "3831   http://store.steampowered.com/app/370880/FREE_...   2015-06-10   \n",
       "3917   http://store.steampowered.com/app/362970/Parce...   2015-07-02   \n",
       "4025   http://store.steampowered.com/app/345040/Obliv...   2015-07-20   \n",
       "22733  http://store.steampowered.com/app/438920/Legen...   2016-06-10   \n",
       "24999  http://store.steampowered.com/app/353420/Syber...   2015-11-10   \n",
       "25000  http://store.steampowered.com/app/353390/Alien...   2015-11-10   \n",
       "26216  http://store.steampowered.com/app/383860/AreaX...   2015-06-24   \n",
       "31836  http://store.steampowered.com/app/3483/Peggle_...   2007-09-11   \n",
       "\n",
       "                                                    tags  \\\n",
       "2404                 [Utilities, Software, Free to Play]   \n",
       "2870   [Strategy, Turn-Based, Turn-Based Strategy, St...   \n",
       "3831         [Adventure, RPG, Indie, Casual, Simulation]   \n",
       "3917                                             [Indie]   \n",
       "4025                                     [Casual, Indie]   \n",
       "22733  [Strategy, Wargame, Fantasy, Multiplayer, Turn...   \n",
       "24999                          [Steam Machine, Hardware]   \n",
       "25000  [Steam Machine, Hardware, Gaming, Futuristic, ...   \n",
       "26216             [Adventure, Indie, Casual, Simulation]   \n",
       "31836             [Casual, Puzzle, Free to Play, Action]   \n",
       "\n",
       "                                             reviews_url  \\\n",
       "2404   http://steamcommunity.com/app/268850/reviews/?...   \n",
       "2870   http://steamcommunity.com/app/253510/reviews/?...   \n",
       "3831   http://steamcommunity.com/app/370880/reviews/?...   \n",
       "3917   http://steamcommunity.com/app/362970/reviews/?...   \n",
       "4025   http://steamcommunity.com/app/345040/reviews/?...   \n",
       "22733  http://steamcommunity.com/app/438920/reviews/?...   \n",
       "24999  http://steamcommunity.com/app/353420/reviews/?...   \n",
       "25000  http://steamcommunity.com/app/353390/reviews/?...   \n",
       "26216  http://steamcommunity.com/app/383860/reviews/?...   \n",
       "31836  http://steamcommunity.com/app/3483/reviews/?br...   \n",
       "\n",
       "                                                   specs  \\\n",
       "2404                 [Single-player, Steam Achievements]   \n",
       "2870   [Single-player, Multi-player, Cross-Platform M...   \n",
       "3831   [Single-player, Downloadable Content, Steam Ac...   \n",
       "3917   [Single-player, Shared/Split Screen, Downloada...   \n",
       "4025   [Single-player, Downloadable Content, Steam Ac...   \n",
       "22733  [Single-player, Multi-player, Online Multi-Pla...   \n",
       "24999                                                NaN   \n",
       "25000                                                NaN   \n",
       "26216              [Single-player, Downloadable Content]   \n",
       "31836                                    [Single-player]   \n",
       "\n",
       "                               price early_access item_id  \\\n",
       "2404                     Install Now        False  268850   \n",
       "2870   Play WARMACHINE: Tactics Demo        False  253510   \n",
       "3831                   Install Theme        False  370880   \n",
       "3917                     Third-party        False  362970   \n",
       "4025                        Play Now        False  345040   \n",
       "22733                  Play the Demo        False  438920   \n",
       "24999            Starting at $499.00        False  353420   \n",
       "25000            Starting at $449.00        False  353390   \n",
       "26216                       Play Now        False  383860   \n",
       "31836                    Third-party        False    3483   \n",
       "\n",
       "                    developer  is_equal release_year  \n",
       "2404                     EVGA      True         2014  \n",
       "2870         WhiteMoon Dreams      True         2014  \n",
       "3831       Stolen Couch Games      True         2015  \n",
       "3917          Polar Bunny Ltd      True         2015  \n",
       "4025   CorypheeSoft,DigitalEZ      True         2015  \n",
       "22733   Boomzap Entertainment      True         2016  \n",
       "24999                 unknown      True         2015  \n",
       "25000                 unknown      True         2015  \n",
       "26216               Zeiva Inc      True         2015  \n",
       "31836      PopCap Games, Inc.      True         2007  "
      ],
      "text/html": [
       "<div>\n",
       "<style scoped>\n",
       "    .dataframe tbody tr th:only-of-type {\n",
       "        vertical-align: middle;\n",
       "    }\n",
       "\n",
       "    .dataframe tbody tr th {\n",
       "        vertical-align: top;\n",
       "    }\n",
       "\n",
       "    .dataframe thead th {\n",
       "        text-align: right;\n",
       "    }\n",
       "</style>\n",
       "<table border=\"1\" class=\"dataframe\">\n",
       "  <thead>\n",
       "    <tr style=\"text-align: right;\">\n",
       "      <th></th>\n",
       "      <th>publisher</th>\n",
       "      <th>genres</th>\n",
       "      <th>item_name</th>\n",
       "      <th>title</th>\n",
       "      <th>url</th>\n",
       "      <th>release_date</th>\n",
       "      <th>tags</th>\n",
       "      <th>reviews_url</th>\n",
       "      <th>specs</th>\n",
       "      <th>price</th>\n",
       "      <th>early_access</th>\n",
       "      <th>item_id</th>\n",
       "      <th>developer</th>\n",
       "      <th>is_equal</th>\n",
       "      <th>release_year</th>\n",
       "    </tr>\n",
       "  </thead>\n",
       "  <tbody>\n",
       "    <tr>\n",
       "      <th>2404</th>\n",
       "      <td>EVGA</td>\n",
       "      <td>[Utilities]</td>\n",
       "      <td>EVGA Precision XOC</td>\n",
       "      <td>EVGA Precision XOC</td>\n",
       "      <td>http://store.steampowered.com/app/268850/EVGA_...</td>\n",
       "      <td>2014-09-19</td>\n",
       "      <td>[Utilities, Software, Free to Play]</td>\n",
       "      <td>http://steamcommunity.com/app/268850/reviews/?...</td>\n",
       "      <td>[Single-player, Steam Achievements]</td>\n",
       "      <td>Install Now</td>\n",
       "      <td>False</td>\n",
       "      <td>268850</td>\n",
       "      <td>EVGA</td>\n",
       "      <td>True</td>\n",
       "      <td>2014</td>\n",
       "    </tr>\n",
       "    <tr>\n",
       "      <th>2870</th>\n",
       "      <td>Privateer Press Interactive</td>\n",
       "      <td>[Indie, Strategy]</td>\n",
       "      <td>WARMACHINE: Tactics</td>\n",
       "      <td>WARMACHINE: Tactics</td>\n",
       "      <td>http://store.steampowered.com/app/253510/WARMA...</td>\n",
       "      <td>2014-11-20</td>\n",
       "      <td>[Strategy, Turn-Based, Turn-Based Strategy, St...</td>\n",
       "      <td>http://steamcommunity.com/app/253510/reviews/?...</td>\n",
       "      <td>[Single-player, Multi-player, Cross-Platform M...</td>\n",
       "      <td>Play WARMACHINE: Tactics Demo</td>\n",
       "      <td>False</td>\n",
       "      <td>253510</td>\n",
       "      <td>WhiteMoon Dreams</td>\n",
       "      <td>True</td>\n",
       "      <td>2014</td>\n",
       "    </tr>\n",
       "    <tr>\n",
       "      <th>3831</th>\n",
       "      <td>unknown</td>\n",
       "      <td>[Adventure, Casual, Indie, RPG, Simulation]</td>\n",
       "      <td>FREE China Theme Pack</td>\n",
       "      <td>FREE China Theme Pack</td>\n",
       "      <td>http://store.steampowered.com/app/370880/FREE_...</td>\n",
       "      <td>2015-06-10</td>\n",
       "      <td>[Adventure, RPG, Indie, Casual, Simulation]</td>\n",
       "      <td>http://steamcommunity.com/app/370880/reviews/?...</td>\n",
       "      <td>[Single-player, Downloadable Content, Steam Ac...</td>\n",
       "      <td>Install Theme</td>\n",
       "      <td>False</td>\n",
       "      <td>370880</td>\n",
       "      <td>Stolen Couch Games</td>\n",
       "      <td>True</td>\n",
       "      <td>2015</td>\n",
       "    </tr>\n",
       "    <tr>\n",
       "      <th>3917</th>\n",
       "      <td>unknown</td>\n",
       "      <td>[Indie]</td>\n",
       "      <td>Parcel - Soundtrack</td>\n",
       "      <td>Parcel - Soundtrack</td>\n",
       "      <td>http://store.steampowered.com/app/362970/Parce...</td>\n",
       "      <td>2015-07-02</td>\n",
       "      <td>[Indie]</td>\n",
       "      <td>http://steamcommunity.com/app/362970/reviews/?...</td>\n",
       "      <td>[Single-player, Shared/Split Screen, Downloada...</td>\n",
       "      <td>Third-party</td>\n",
       "      <td>False</td>\n",
       "      <td>362970</td>\n",
       "      <td>Polar Bunny Ltd</td>\n",
       "      <td>True</td>\n",
       "      <td>2015</td>\n",
       "    </tr>\n",
       "    <tr>\n",
       "      <th>4025</th>\n",
       "      <td>DigitalEZ</td>\n",
       "      <td>[Casual, Indie]</td>\n",
       "      <td>Oblivious Garden ~White Day</td>\n",
       "      <td>Oblivious Garden ~White Day</td>\n",
       "      <td>http://store.steampowered.com/app/345040/Obliv...</td>\n",
       "      <td>2015-07-20</td>\n",
       "      <td>[Casual, Indie]</td>\n",
       "      <td>http://steamcommunity.com/app/345040/reviews/?...</td>\n",
       "      <td>[Single-player, Downloadable Content, Steam Ac...</td>\n",
       "      <td>Play Now</td>\n",
       "      <td>False</td>\n",
       "      <td>345040</td>\n",
       "      <td>CorypheeSoft,DigitalEZ</td>\n",
       "      <td>True</td>\n",
       "      <td>2015</td>\n",
       "    </tr>\n",
       "    <tr>\n",
       "      <th>22733</th>\n",
       "      <td>Boomzap Entertainment</td>\n",
       "      <td>[Strategy]</td>\n",
       "      <td>Legends of Callasia</td>\n",
       "      <td>Legends of Callasia</td>\n",
       "      <td>http://store.steampowered.com/app/438920/Legen...</td>\n",
       "      <td>2016-06-10</td>\n",
       "      <td>[Strategy, Wargame, Fantasy, Multiplayer, Turn...</td>\n",
       "      <td>http://steamcommunity.com/app/438920/reviews/?...</td>\n",
       "      <td>[Single-player, Multi-player, Online Multi-Pla...</td>\n",
       "      <td>Play the Demo</td>\n",
       "      <td>False</td>\n",
       "      <td>438920</td>\n",
       "      <td>Boomzap Entertainment</td>\n",
       "      <td>True</td>\n",
       "      <td>2016</td>\n",
       "    </tr>\n",
       "    <tr>\n",
       "      <th>24999</th>\n",
       "      <td>unknown</td>\n",
       "      <td>NaN</td>\n",
       "      <td>Syber Steam Machine</td>\n",
       "      <td>Syber Steam Machine</td>\n",
       "      <td>http://store.steampowered.com/app/353420/Syber...</td>\n",
       "      <td>2015-11-10</td>\n",
       "      <td>[Steam Machine, Hardware]</td>\n",
       "      <td>http://steamcommunity.com/app/353420/reviews/?...</td>\n",
       "      <td>NaN</td>\n",
       "      <td>Starting at $499.00</td>\n",
       "      <td>False</td>\n",
       "      <td>353420</td>\n",
       "      <td>unknown</td>\n",
       "      <td>True</td>\n",
       "      <td>2015</td>\n",
       "    </tr>\n",
       "    <tr>\n",
       "      <th>25000</th>\n",
       "      <td>unknown</td>\n",
       "      <td>NaN</td>\n",
       "      <td>Alienware Steam Machine</td>\n",
       "      <td>Alienware Steam Machine</td>\n",
       "      <td>http://store.steampowered.com/app/353390/Alien...</td>\n",
       "      <td>2015-11-10</td>\n",
       "      <td>[Steam Machine, Hardware, Gaming, Futuristic, ...</td>\n",
       "      <td>http://steamcommunity.com/app/353390/reviews/?...</td>\n",
       "      <td>NaN</td>\n",
       "      <td>Starting at $449.00</td>\n",
       "      <td>False</td>\n",
       "      <td>353390</td>\n",
       "      <td>unknown</td>\n",
       "      <td>True</td>\n",
       "      <td>2015</td>\n",
       "    </tr>\n",
       "    <tr>\n",
       "      <th>26216</th>\n",
       "      <td>unknown</td>\n",
       "      <td>[Adventure, Casual, Indie, Simulation]</td>\n",
       "      <td>Area-X - Extra Gallery</td>\n",
       "      <td>Area-X - Extra Gallery</td>\n",
       "      <td>http://store.steampowered.com/app/383860/AreaX...</td>\n",
       "      <td>2015-06-24</td>\n",
       "      <td>[Adventure, Indie, Casual, Simulation]</td>\n",
       "      <td>http://steamcommunity.com/app/383860/reviews/?...</td>\n",
       "      <td>[Single-player, Downloadable Content]</td>\n",
       "      <td>Play Now</td>\n",
       "      <td>False</td>\n",
       "      <td>383860</td>\n",
       "      <td>Zeiva Inc</td>\n",
       "      <td>True</td>\n",
       "      <td>2015</td>\n",
       "    </tr>\n",
       "    <tr>\n",
       "      <th>31836</th>\n",
       "      <td>PopCap Games, Inc.</td>\n",
       "      <td>[Casual]</td>\n",
       "      <td>Peggle Extreme</td>\n",
       "      <td>Peggle Extreme</td>\n",
       "      <td>http://store.steampowered.com/app/3483/Peggle_...</td>\n",
       "      <td>2007-09-11</td>\n",
       "      <td>[Casual, Puzzle, Free to Play, Action]</td>\n",
       "      <td>http://steamcommunity.com/app/3483/reviews/?br...</td>\n",
       "      <td>[Single-player]</td>\n",
       "      <td>Third-party</td>\n",
       "      <td>False</td>\n",
       "      <td>3483</td>\n",
       "      <td>PopCap Games, Inc.</td>\n",
       "      <td>True</td>\n",
       "      <td>2007</td>\n",
       "    </tr>\n",
       "  </tbody>\n",
       "</table>\n",
       "</div>"
      ]
     },
     "execution_count": 74,
     "metadata": {},
     "output_type": "execute_result"
    }
   ],
   "execution_count": 74
  },
  {
   "cell_type": "markdown",
   "id": "595ea0b9b20521fb",
   "metadata": {},
   "source": [
    "Transformamos los valores que no representan un precio en 0."
   ]
  },
  {
   "cell_type": "markdown",
   "id": "78601406bdd23ab4",
   "metadata": {},
   "source": []
  },
  {
   "cell_type": "code",
   "id": "d31796ffc4f84f47",
   "metadata": {
    "ExecuteTime": {
     "end_time": "2024-03-17T05:14:40.049564Z",
     "start_time": "2024-03-17T05:14:40.032371Z"
    }
   },
   "source": [
    "df_games.loc[df_games['price'] == 'Starting at $499.00', 'price'] = 499\n",
    "df_games.loc[df_games['price'] == 'Starting at $449.00', 'price'] = 449\n",
    "non_price_values = ['Install Now', 'Play WARMACHINE: Tactics Demo', 'Install Theme', 'Third-party', 'Play Now', 'Play the Demo']\n",
    "df_games.loc[df_games['price'].isin(non_price_values), 'price'] = 0"
   ],
   "outputs": [],
   "execution_count": 75
  },
  {
   "cell_type": "markdown",
   "id": "572259cd7503a650",
   "metadata": {},
   "source": [
    "Se calcula la media, la moda y la mediana de la columna price para imputar los nulos restantes."
   ]
  },
  {
   "cell_type": "code",
   "id": "dfddbb71a1532894",
   "metadata": {
    "ExecuteTime": {
     "end_time": "2024-03-17T05:14:40.078886Z",
     "start_time": "2024-03-17T05:14:40.054239Z"
    }
   },
   "source": [
    "media = df_games['price'].mean()\n",
    "moda = df_games['price'].mode()[0]\n",
    "mediana = df_games['price'].median()\n",
    "\n",
    "print(f\"La media de los precios de juegos Steam es {media:.2f}\")\n",
    "print(f\"La moda de los precios de juegos Steam es {moda:.2f}\")\n",
    "print(f\"La mediana de los precios de juegos Steam es {mediana:.2f}\")"
   ],
   "outputs": [
    {
     "name": "stdout",
     "output_type": "stream",
     "text": [
      "La media de los precios de juegos Steam es 8.84\n",
      "La moda de los precios de juegos Steam es 4.99\n",
      "La mediana de los precios de juegos Steam es 4.99\n"
     ]
    }
   ],
   "execution_count": 76
  },
  {
   "cell_type": "markdown",
   "id": "720dfc722a60cf55",
   "metadata": {},
   "source": [
    "Inputamos los nulos con la mediana."
   ]
  },
  {
   "cell_type": "code",
   "id": "3d7c96daeeed9ee0",
   "metadata": {
    "ExecuteTime": {
     "end_time": "2024-03-17T05:14:40.161576Z",
     "start_time": "2024-03-17T05:14:40.082315Z"
    }
   },
   "source": [
    "df_games['price'].fillna(df_games['price'].median(), inplace=True)\n",
    "df_games.isnull().sum()"
   ],
   "outputs": [
    {
     "name": "stderr",
     "output_type": "stream",
     "text": [
      "/tmp/ipykernel_250/4128492194.py:1: FutureWarning: A value is trying to be set on a copy of a DataFrame or Series through chained assignment using an inplace method.\n",
      "The behavior will change in pandas 3.0. This inplace method will never work because the intermediate object on which we are setting values always behaves as a copy.\n",
      "\n",
      "For example, when doing 'df[col].method(value, inplace=True)', try using 'df.method({col: value}, inplace=True)' or df[col] = df[col].method(value) instead, to perform the operation inplace on the original object.\n",
      "\n",
      "\n",
      "  df_games['price'].fillna(df_games['price'].median(), inplace=True)\n",
      "/tmp/ipykernel_250/4128492194.py:1: FutureWarning: Downcasting object dtype arrays on .fillna, .ffill, .bfill is deprecated and will change in a future version. Call result.infer_objects(copy=False) instead. To opt-in to the future behavior, set `pd.set_option('future.no_silent_downcasting', True)`\n",
      "  df_games['price'].fillna(df_games['price'].median(), inplace=True)\n"
     ]
    },
    {
     "data": {
      "text/plain": [
       "publisher          0\n",
       "genres          3282\n",
       "item_name          0\n",
       "title              0\n",
       "url                0\n",
       "release_date       0\n",
       "tags             162\n",
       "reviews_url        0\n",
       "specs            669\n",
       "price              0\n",
       "early_access       0\n",
       "item_id            0\n",
       "developer          0\n",
       "is_equal           0\n",
       "release_year       0\n",
       "dtype: int64"
      ]
     },
     "execution_count": 77,
     "metadata": {},
     "output_type": "execute_result"
    }
   ],
   "execution_count": 77
  },
  {
   "cell_type": "markdown",
   "id": "944755f732d66a1a",
   "metadata": {},
   "source": []
  },
  {
   "cell_type": "markdown",
   "id": "1ce7b16e97b54e9c",
   "metadata": {},
   "source": [
    "#### Columnas de Generos, Tags y Especificaciones\n",
    "- Gestión de nulos"
   ]
  },
  {
   "cell_type": "code",
   "id": "fa4dd6add93be881",
   "metadata": {
    "ExecuteTime": {
     "end_time": "2024-03-17T05:14:40.206924Z",
     "start_time": "2024-03-17T05:14:40.166686Z"
    }
   },
   "source": [
    "df_games[df_games['genres'].isnull()][['genres','tags', 'specs']].sample(10)"
   ],
   "outputs": [
    {
     "data": {
      "text/plain": [
       "      genres                                               tags  \\\n",
       "7568     NaN                 [Martial Arts, Movie, Documentary]   \n",
       "17938    NaN                                            [Movie]   \n",
       "9889     NaN                                        [Indie, VR]   \n",
       "10164    NaN  [Animation & Modeling, Design & Illustration, ...   \n",
       "23156    NaN                              [Movie, Drama, Crime]   \n",
       "6962     NaN                        [Design & Illustration, VR]   \n",
       "8290     NaN  [Early Access, Action, Simulation, Indie, Casu...   \n",
       "18371    NaN             [Early Access, Simulation, Sports, VR]   \n",
       "23689    NaN                             [Anime, Movie, Action]   \n",
       "15442    NaN                               [Casual, Simulation]   \n",
       "\n",
       "                                                   specs  \n",
       "7568                                [Captions available]  \n",
       "17938                               [Captions available]  \n",
       "9889   [Single-player, HTC Vive, Tracked Motion Contr...  \n",
       "10164                                                NaN  \n",
       "23156                               [Captions available]  \n",
       "6962   [HTC Vive, Tracked Motion Controllers, Seated,...  \n",
       "8290   [Single-player, Multi-player, Online Multi-Pla...  \n",
       "18371  [Single-player, Steam Achievements, Steam Lead...  \n",
       "23689                               [Captions available]  \n",
       "15442  [Single-player, HTC Vive, Oculus Rift, Tracked...  "
      ],
      "text/html": [
       "<div>\n",
       "<style scoped>\n",
       "    .dataframe tbody tr th:only-of-type {\n",
       "        vertical-align: middle;\n",
       "    }\n",
       "\n",
       "    .dataframe tbody tr th {\n",
       "        vertical-align: top;\n",
       "    }\n",
       "\n",
       "    .dataframe thead th {\n",
       "        text-align: right;\n",
       "    }\n",
       "</style>\n",
       "<table border=\"1\" class=\"dataframe\">\n",
       "  <thead>\n",
       "    <tr style=\"text-align: right;\">\n",
       "      <th></th>\n",
       "      <th>genres</th>\n",
       "      <th>tags</th>\n",
       "      <th>specs</th>\n",
       "    </tr>\n",
       "  </thead>\n",
       "  <tbody>\n",
       "    <tr>\n",
       "      <th>7568</th>\n",
       "      <td>NaN</td>\n",
       "      <td>[Martial Arts, Movie, Documentary]</td>\n",
       "      <td>[Captions available]</td>\n",
       "    </tr>\n",
       "    <tr>\n",
       "      <th>17938</th>\n",
       "      <td>NaN</td>\n",
       "      <td>[Movie]</td>\n",
       "      <td>[Captions available]</td>\n",
       "    </tr>\n",
       "    <tr>\n",
       "      <th>9889</th>\n",
       "      <td>NaN</td>\n",
       "      <td>[Indie, VR]</td>\n",
       "      <td>[Single-player, HTC Vive, Tracked Motion Contr...</td>\n",
       "    </tr>\n",
       "    <tr>\n",
       "      <th>10164</th>\n",
       "      <td>NaN</td>\n",
       "      <td>[Animation &amp; Modeling, Design &amp; Illustration, ...</td>\n",
       "      <td>NaN</td>\n",
       "    </tr>\n",
       "    <tr>\n",
       "      <th>23156</th>\n",
       "      <td>NaN</td>\n",
       "      <td>[Movie, Drama, Crime]</td>\n",
       "      <td>[Captions available]</td>\n",
       "    </tr>\n",
       "    <tr>\n",
       "      <th>6962</th>\n",
       "      <td>NaN</td>\n",
       "      <td>[Design &amp; Illustration, VR]</td>\n",
       "      <td>[HTC Vive, Tracked Motion Controllers, Seated,...</td>\n",
       "    </tr>\n",
       "    <tr>\n",
       "      <th>8290</th>\n",
       "      <td>NaN</td>\n",
       "      <td>[Early Access, Action, Simulation, Indie, Casu...</td>\n",
       "      <td>[Single-player, Multi-player, Online Multi-Pla...</td>\n",
       "    </tr>\n",
       "    <tr>\n",
       "      <th>18371</th>\n",
       "      <td>NaN</td>\n",
       "      <td>[Early Access, Simulation, Sports, VR]</td>\n",
       "      <td>[Single-player, Steam Achievements, Steam Lead...</td>\n",
       "    </tr>\n",
       "    <tr>\n",
       "      <th>23689</th>\n",
       "      <td>NaN</td>\n",
       "      <td>[Anime, Movie, Action]</td>\n",
       "      <td>[Captions available]</td>\n",
       "    </tr>\n",
       "    <tr>\n",
       "      <th>15442</th>\n",
       "      <td>NaN</td>\n",
       "      <td>[Casual, Simulation]</td>\n",
       "      <td>[Single-player, HTC Vive, Oculus Rift, Tracked...</td>\n",
       "    </tr>\n",
       "  </tbody>\n",
       "</table>\n",
       "</div>"
      ]
     },
     "execution_count": 78,
     "metadata": {},
     "output_type": "execute_result"
    }
   ],
   "execution_count": 78
  },
  {
   "cell_type": "code",
   "id": "92914a46ab2d4e10",
   "metadata": {
    "ExecuteTime": {
     "end_time": "2024-03-17T05:14:40.226788Z",
     "start_time": "2024-03-17T05:14:40.210978Z"
    }
   },
   "source": [
    "df_games.genres.isnull().sum()"
   ],
   "outputs": [
    {
     "data": {
      "text/plain": [
       "3282"
      ]
     },
     "execution_count": 79,
     "metadata": {},
     "output_type": "execute_result"
    }
   ],
   "execution_count": 79
  },
  {
   "cell_type": "code",
   "id": "9a96d13dc9c72e3b",
   "metadata": {
    "ExecuteTime": {
     "end_time": "2024-03-17T05:14:40.267707Z",
     "start_time": "2024-03-17T05:14:40.230877Z"
    }
   },
   "source": [
    "# Exploramos el contenido de genres, tags y specs.\n",
    "\n",
    "columns = ['genres', 'tags','specs']\n",
    "df_games[columns].sample(10)"
   ],
   "outputs": [
    {
     "data": {
      "text/plain": [
       "                                genres  \\\n",
       "7505                               NaN   \n",
       "14073                          [Indie]   \n",
       "10754                            [RPG]   \n",
       "11398          [Indie, Racing, Sports]   \n",
       "24776                  [Casual, Indie]   \n",
       "16326  [Action, Adventure, Indie, RPG]   \n",
       "14278             [Action, Indie, RPG]   \n",
       "18189                              NaN   \n",
       "30736                         [Action]   \n",
       "13146                              NaN   \n",
       "\n",
       "                                                    tags  \\\n",
       "7505   [VR, Casual, Indie, Massively Multiplayer, Adv...   \n",
       "14073  [Bullet Hell, Great Soundtrack, Difficult, Fem...   \n",
       "10754                                              [RPG]   \n",
       "11398                            [Racing, Sports, Indie]   \n",
       "24776                                    [Indie, Casual]   \n",
       "16326  [RPG, Indie, Adventure, Action, Rogue-like, Pi...   \n",
       "14278  [RPG, Action, Indie, Card Game, Singleplayer, ...   \n",
       "18189      [Early Access, Simulation, Indie, Casual, VR]   \n",
       "30736                                           [Action]   \n",
       "13146                                [Indie, Sports, VR]   \n",
       "\n",
       "                                                   specs  \n",
       "7505   [Single-player, Multi-player, Online Multi-Pla...  \n",
       "14073                                    [Single-player]  \n",
       "10754  [Single-player, Downloadable Content, Full con...  \n",
       "11398  [Single-player, Steam Achievements, Full contr...  \n",
       "24776  [Single-player, Steam Achievements, Steam Trad...  \n",
       "16326                [Single-player, Steam Achievements]  \n",
       "14278  [Single-player, Steam Achievements, Full contr...  \n",
       "18189  [Single-player, HTC Vive, Tracked Motion Contr...  \n",
       "30736  [Single-player, Multi-player, Co-op, Downloada...  \n",
       "13146  [Single-player, Local Multi-Player, Steam Achi...  "
      ],
      "text/html": [
       "<div>\n",
       "<style scoped>\n",
       "    .dataframe tbody tr th:only-of-type {\n",
       "        vertical-align: middle;\n",
       "    }\n",
       "\n",
       "    .dataframe tbody tr th {\n",
       "        vertical-align: top;\n",
       "    }\n",
       "\n",
       "    .dataframe thead th {\n",
       "        text-align: right;\n",
       "    }\n",
       "</style>\n",
       "<table border=\"1\" class=\"dataframe\">\n",
       "  <thead>\n",
       "    <tr style=\"text-align: right;\">\n",
       "      <th></th>\n",
       "      <th>genres</th>\n",
       "      <th>tags</th>\n",
       "      <th>specs</th>\n",
       "    </tr>\n",
       "  </thead>\n",
       "  <tbody>\n",
       "    <tr>\n",
       "      <th>7505</th>\n",
       "      <td>NaN</td>\n",
       "      <td>[VR, Casual, Indie, Massively Multiplayer, Adv...</td>\n",
       "      <td>[Single-player, Multi-player, Online Multi-Pla...</td>\n",
       "    </tr>\n",
       "    <tr>\n",
       "      <th>14073</th>\n",
       "      <td>[Indie]</td>\n",
       "      <td>[Bullet Hell, Great Soundtrack, Difficult, Fem...</td>\n",
       "      <td>[Single-player]</td>\n",
       "    </tr>\n",
       "    <tr>\n",
       "      <th>10754</th>\n",
       "      <td>[RPG]</td>\n",
       "      <td>[RPG]</td>\n",
       "      <td>[Single-player, Downloadable Content, Full con...</td>\n",
       "    </tr>\n",
       "    <tr>\n",
       "      <th>11398</th>\n",
       "      <td>[Indie, Racing, Sports]</td>\n",
       "      <td>[Racing, Sports, Indie]</td>\n",
       "      <td>[Single-player, Steam Achievements, Full contr...</td>\n",
       "    </tr>\n",
       "    <tr>\n",
       "      <th>24776</th>\n",
       "      <td>[Casual, Indie]</td>\n",
       "      <td>[Indie, Casual]</td>\n",
       "      <td>[Single-player, Steam Achievements, Steam Trad...</td>\n",
       "    </tr>\n",
       "    <tr>\n",
       "      <th>16326</th>\n",
       "      <td>[Action, Adventure, Indie, RPG]</td>\n",
       "      <td>[RPG, Indie, Adventure, Action, Rogue-like, Pi...</td>\n",
       "      <td>[Single-player, Steam Achievements]</td>\n",
       "    </tr>\n",
       "    <tr>\n",
       "      <th>14278</th>\n",
       "      <td>[Action, Indie, RPG]</td>\n",
       "      <td>[RPG, Action, Indie, Card Game, Singleplayer, ...</td>\n",
       "      <td>[Single-player, Steam Achievements, Full contr...</td>\n",
       "    </tr>\n",
       "    <tr>\n",
       "      <th>18189</th>\n",
       "      <td>NaN</td>\n",
       "      <td>[Early Access, Simulation, Indie, Casual, VR]</td>\n",
       "      <td>[Single-player, HTC Vive, Tracked Motion Contr...</td>\n",
       "    </tr>\n",
       "    <tr>\n",
       "      <th>30736</th>\n",
       "      <td>[Action]</td>\n",
       "      <td>[Action]</td>\n",
       "      <td>[Single-player, Multi-player, Co-op, Downloada...</td>\n",
       "    </tr>\n",
       "    <tr>\n",
       "      <th>13146</th>\n",
       "      <td>NaN</td>\n",
       "      <td>[Indie, Sports, VR]</td>\n",
       "      <td>[Single-player, Local Multi-Player, Steam Achi...</td>\n",
       "    </tr>\n",
       "  </tbody>\n",
       "</table>\n",
       "</div>"
      ]
     },
     "execution_count": 80,
     "metadata": {},
     "output_type": "execute_result"
    }
   ],
   "execution_count": 80
  },
  {
   "cell_type": "markdown",
   "id": "83e49382866af37c",
   "metadata": {},
   "source": [
    "Podemos observar que tags contiene tambien a genres por lo que podemos usarla para imputar los nulos en genres."
   ]
  },
  {
   "cell_type": "code",
   "id": "1365b1eae45c6506",
   "metadata": {
    "ExecuteTime": {
     "end_time": "2024-03-17T05:14:41.862561Z",
     "start_time": "2024-03-17T05:14:40.271422Z"
    }
   },
   "source": [
    "# Creamos una lista de géneros únicos\n",
    "unique_genres = df_games['genres'].explode().unique()\n",
    "\n",
    "# Definimos una función para buscar géneros en tags\n",
    "def find_genres(row):\n",
    "    if isinstance(row['tags'], list):\n",
    "        genres_in_tags = [tag for tag in row['tags'] if tag in unique_genres]\n",
    "        if genres_in_tags:\n",
    "            return genres_in_tags\n",
    "    return row['genres']\n",
    "\n",
    "# Aplicamos la función a cada fila y almacenamos en la columna temporal 'genres_2'\n",
    "df_games['genres_2'] = df_games.apply(find_genres, axis=1)\n",
    "df_games[df_games['genres'].isnull()][['genres', 'genres_2', 'tags']].head()"
   ],
   "outputs": [
    {
     "data": {
      "text/plain": [
       "   genres                                          genres_2  \\\n",
       "4     NaN                   [Action, Indie, Casual, Sports]   \n",
       "11    NaN                                          [Casual]   \n",
       "19    NaN                             [Early Access, Indie]   \n",
       "20    NaN  [Early Access, Action, Adventure, Indie, Casual]   \n",
       "22    NaN   [Early Access, Strategy, Action, Indie, Casual]   \n",
       "\n",
       "                                                 tags  \n",
       "4                     [Action, Indie, Casual, Sports]  \n",
       "11                                           [Casual]  \n",
       "19                          [Early Access, Indie, VR]  \n",
       "20   [Early Access, Action, Adventure, Indie, Casual]  \n",
       "22  [Early Access, Strategy, Action, Indie, Casual...  "
      ],
      "text/html": [
       "<div>\n",
       "<style scoped>\n",
       "    .dataframe tbody tr th:only-of-type {\n",
       "        vertical-align: middle;\n",
       "    }\n",
       "\n",
       "    .dataframe tbody tr th {\n",
       "        vertical-align: top;\n",
       "    }\n",
       "\n",
       "    .dataframe thead th {\n",
       "        text-align: right;\n",
       "    }\n",
       "</style>\n",
       "<table border=\"1\" class=\"dataframe\">\n",
       "  <thead>\n",
       "    <tr style=\"text-align: right;\">\n",
       "      <th></th>\n",
       "      <th>genres</th>\n",
       "      <th>genres_2</th>\n",
       "      <th>tags</th>\n",
       "    </tr>\n",
       "  </thead>\n",
       "  <tbody>\n",
       "    <tr>\n",
       "      <th>4</th>\n",
       "      <td>NaN</td>\n",
       "      <td>[Action, Indie, Casual, Sports]</td>\n",
       "      <td>[Action, Indie, Casual, Sports]</td>\n",
       "    </tr>\n",
       "    <tr>\n",
       "      <th>11</th>\n",
       "      <td>NaN</td>\n",
       "      <td>[Casual]</td>\n",
       "      <td>[Casual]</td>\n",
       "    </tr>\n",
       "    <tr>\n",
       "      <th>19</th>\n",
       "      <td>NaN</td>\n",
       "      <td>[Early Access, Indie]</td>\n",
       "      <td>[Early Access, Indie, VR]</td>\n",
       "    </tr>\n",
       "    <tr>\n",
       "      <th>20</th>\n",
       "      <td>NaN</td>\n",
       "      <td>[Early Access, Action, Adventure, Indie, Casual]</td>\n",
       "      <td>[Early Access, Action, Adventure, Indie, Casual]</td>\n",
       "    </tr>\n",
       "    <tr>\n",
       "      <th>22</th>\n",
       "      <td>NaN</td>\n",
       "      <td>[Early Access, Strategy, Action, Indie, Casual]</td>\n",
       "      <td>[Early Access, Strategy, Action, Indie, Casual...</td>\n",
       "    </tr>\n",
       "  </tbody>\n",
       "</table>\n",
       "</div>"
      ]
     },
     "execution_count": 81,
     "metadata": {},
     "output_type": "execute_result"
    }
   ],
   "execution_count": 81
  },
  {
   "cell_type": "markdown",
   "id": "2aa80caca88060df",
   "metadata": {},
   "source": [
    "Eliminamos la columna 'genres' para posteriormente reemplazarla por la columna 'genres_2'. y tambien se eliminará la columna 'tags' y la 'specs' porque no aportan información."
   ]
  },
  {
   "cell_type": "code",
   "id": "92f6f6d482a191b1",
   "metadata": {
    "ExecuteTime": {
     "end_time": "2024-03-17T05:14:41.981610Z",
     "start_time": "2024-03-17T05:14:41.865129Z"
    }
   },
   "source": [
    "\n",
    "columns = ['genres', 'tags', 'specs']\n",
    "df_games.drop(columns, axis=1, inplace=True)\n",
    "# Renombramos la columna genres_2 como genres\n",
    "df_games = df_games.rename(columns={'genres_2': 'genres'})\n",
    "df_games.columns"
   ],
   "outputs": [
    {
     "data": {
      "text/plain": [
       "Index(['publisher', 'item_name', 'title', 'url', 'release_date', 'reviews_url',\n",
       "       'price', 'early_access', 'item_id', 'developer', 'is_equal',\n",
       "       'release_year', 'genres'],\n",
       "      dtype='object')"
      ]
     },
     "execution_count": 82,
     "metadata": {},
     "output_type": "execute_result"
    }
   ],
   "execution_count": 82
  },
  {
   "metadata": {},
   "cell_type": "markdown",
   "source": "Remplazamos los valores nulos en la columna 'genres' por un valor unknown.",
   "id": "17f2831f2ef55ccb"
  },
  {
   "metadata": {
    "ExecuteTime": {
     "end_time": "2024-03-17T05:14:42.039327Z",
     "start_time": "2024-03-17T05:14:41.984900Z"
    }
   },
   "cell_type": "code",
   "source": [
    "df_games['genres'] = df_games['genres'].apply(lambda x: ['unknown'] if isinstance(x, float) else x)\n",
    "df_games.isnull().sum()"
   ],
   "id": "e7822e4005ac4082",
   "outputs": [
    {
     "data": {
      "text/plain": [
       "publisher       0\n",
       "item_name       0\n",
       "title           0\n",
       "url             0\n",
       "release_date    0\n",
       "reviews_url     0\n",
       "price           0\n",
       "early_access    0\n",
       "item_id         0\n",
       "developer       0\n",
       "is_equal        0\n",
       "release_year    0\n",
       "genres          0\n",
       "dtype: int64"
      ]
     },
     "execution_count": 83,
     "metadata": {},
     "output_type": "execute_result"
    }
   ],
   "execution_count": 83
  },
  {
   "metadata": {
    "ExecuteTime": {
     "end_time": "2024-03-17T05:14:42.300111Z",
     "start_time": "2024-03-17T05:14:42.041872Z"
    }
   },
   "cell_type": "code",
   "source": [
    "df_games = df_games.explode('genres')\n",
    "df_games.head()"
   ],
   "id": "135de167a14b31d4",
   "outputs": [
    {
     "data": {
      "text/plain": [
       "   publisher            item_name                title  \\\n",
       "0  Kotoshiro  Lost Summoner Kitty  Lost Summoner Kitty   \n",
       "0  Kotoshiro  Lost Summoner Kitty  Lost Summoner Kitty   \n",
       "0  Kotoshiro  Lost Summoner Kitty  Lost Summoner Kitty   \n",
       "0  Kotoshiro  Lost Summoner Kitty  Lost Summoner Kitty   \n",
       "0  Kotoshiro  Lost Summoner Kitty  Lost Summoner Kitty   \n",
       "\n",
       "                                                 url release_date  \\\n",
       "0  http://store.steampowered.com/app/761140/Lost_...   2018-01-04   \n",
       "0  http://store.steampowered.com/app/761140/Lost_...   2018-01-04   \n",
       "0  http://store.steampowered.com/app/761140/Lost_...   2018-01-04   \n",
       "0  http://store.steampowered.com/app/761140/Lost_...   2018-01-04   \n",
       "0  http://store.steampowered.com/app/761140/Lost_...   2018-01-04   \n",
       "\n",
       "                                         reviews_url  price early_access  \\\n",
       "0  http://steamcommunity.com/app/761140/reviews/?...   4.99        False   \n",
       "0  http://steamcommunity.com/app/761140/reviews/?...   4.99        False   \n",
       "0  http://steamcommunity.com/app/761140/reviews/?...   4.99        False   \n",
       "0  http://steamcommunity.com/app/761140/reviews/?...   4.99        False   \n",
       "0  http://steamcommunity.com/app/761140/reviews/?...   4.99        False   \n",
       "\n",
       "  item_id  developer  is_equal release_year      genres  \n",
       "0  761140  Kotoshiro      True         2018    Strategy  \n",
       "0  761140  Kotoshiro      True         2018      Action  \n",
       "0  761140  Kotoshiro      True         2018       Indie  \n",
       "0  761140  Kotoshiro      True         2018      Casual  \n",
       "0  761140  Kotoshiro      True         2018  Simulation  "
      ],
      "text/html": [
       "<div>\n",
       "<style scoped>\n",
       "    .dataframe tbody tr th:only-of-type {\n",
       "        vertical-align: middle;\n",
       "    }\n",
       "\n",
       "    .dataframe tbody tr th {\n",
       "        vertical-align: top;\n",
       "    }\n",
       "\n",
       "    .dataframe thead th {\n",
       "        text-align: right;\n",
       "    }\n",
       "</style>\n",
       "<table border=\"1\" class=\"dataframe\">\n",
       "  <thead>\n",
       "    <tr style=\"text-align: right;\">\n",
       "      <th></th>\n",
       "      <th>publisher</th>\n",
       "      <th>item_name</th>\n",
       "      <th>title</th>\n",
       "      <th>url</th>\n",
       "      <th>release_date</th>\n",
       "      <th>reviews_url</th>\n",
       "      <th>price</th>\n",
       "      <th>early_access</th>\n",
       "      <th>item_id</th>\n",
       "      <th>developer</th>\n",
       "      <th>is_equal</th>\n",
       "      <th>release_year</th>\n",
       "      <th>genres</th>\n",
       "    </tr>\n",
       "  </thead>\n",
       "  <tbody>\n",
       "    <tr>\n",
       "      <th>0</th>\n",
       "      <td>Kotoshiro</td>\n",
       "      <td>Lost Summoner Kitty</td>\n",
       "      <td>Lost Summoner Kitty</td>\n",
       "      <td>http://store.steampowered.com/app/761140/Lost_...</td>\n",
       "      <td>2018-01-04</td>\n",
       "      <td>http://steamcommunity.com/app/761140/reviews/?...</td>\n",
       "      <td>4.99</td>\n",
       "      <td>False</td>\n",
       "      <td>761140</td>\n",
       "      <td>Kotoshiro</td>\n",
       "      <td>True</td>\n",
       "      <td>2018</td>\n",
       "      <td>Strategy</td>\n",
       "    </tr>\n",
       "    <tr>\n",
       "      <th>0</th>\n",
       "      <td>Kotoshiro</td>\n",
       "      <td>Lost Summoner Kitty</td>\n",
       "      <td>Lost Summoner Kitty</td>\n",
       "      <td>http://store.steampowered.com/app/761140/Lost_...</td>\n",
       "      <td>2018-01-04</td>\n",
       "      <td>http://steamcommunity.com/app/761140/reviews/?...</td>\n",
       "      <td>4.99</td>\n",
       "      <td>False</td>\n",
       "      <td>761140</td>\n",
       "      <td>Kotoshiro</td>\n",
       "      <td>True</td>\n",
       "      <td>2018</td>\n",
       "      <td>Action</td>\n",
       "    </tr>\n",
       "    <tr>\n",
       "      <th>0</th>\n",
       "      <td>Kotoshiro</td>\n",
       "      <td>Lost Summoner Kitty</td>\n",
       "      <td>Lost Summoner Kitty</td>\n",
       "      <td>http://store.steampowered.com/app/761140/Lost_...</td>\n",
       "      <td>2018-01-04</td>\n",
       "      <td>http://steamcommunity.com/app/761140/reviews/?...</td>\n",
       "      <td>4.99</td>\n",
       "      <td>False</td>\n",
       "      <td>761140</td>\n",
       "      <td>Kotoshiro</td>\n",
       "      <td>True</td>\n",
       "      <td>2018</td>\n",
       "      <td>Indie</td>\n",
       "    </tr>\n",
       "    <tr>\n",
       "      <th>0</th>\n",
       "      <td>Kotoshiro</td>\n",
       "      <td>Lost Summoner Kitty</td>\n",
       "      <td>Lost Summoner Kitty</td>\n",
       "      <td>http://store.steampowered.com/app/761140/Lost_...</td>\n",
       "      <td>2018-01-04</td>\n",
       "      <td>http://steamcommunity.com/app/761140/reviews/?...</td>\n",
       "      <td>4.99</td>\n",
       "      <td>False</td>\n",
       "      <td>761140</td>\n",
       "      <td>Kotoshiro</td>\n",
       "      <td>True</td>\n",
       "      <td>2018</td>\n",
       "      <td>Casual</td>\n",
       "    </tr>\n",
       "    <tr>\n",
       "      <th>0</th>\n",
       "      <td>Kotoshiro</td>\n",
       "      <td>Lost Summoner Kitty</td>\n",
       "      <td>Lost Summoner Kitty</td>\n",
       "      <td>http://store.steampowered.com/app/761140/Lost_...</td>\n",
       "      <td>2018-01-04</td>\n",
       "      <td>http://steamcommunity.com/app/761140/reviews/?...</td>\n",
       "      <td>4.99</td>\n",
       "      <td>False</td>\n",
       "      <td>761140</td>\n",
       "      <td>Kotoshiro</td>\n",
       "      <td>True</td>\n",
       "      <td>2018</td>\n",
       "      <td>Simulation</td>\n",
       "    </tr>\n",
       "  </tbody>\n",
       "</table>\n",
       "</div>"
      ]
     },
     "execution_count": 84,
     "metadata": {},
     "output_type": "execute_result"
    }
   ],
   "execution_count": 84
  },
  {
   "cell_type": "markdown",
   "id": "d89ccc6c97e43f94",
   "metadata": {},
   "source": []
  },
  {
   "cell_type": "markdown",
   "id": "768a9acd367bc8b",
   "metadata": {},
   "source": [
    "#### Columnas de URL y Reviews URL\n"
   ]
  },
  {
   "cell_type": "code",
   "id": "9b3d295d4f94ad55",
   "metadata": {
    "ExecuteTime": {
     "end_time": "2024-03-17T05:14:42.391947Z",
     "start_time": "2024-03-17T05:14:42.303513Z"
    }
   },
   "source": [
    "import pyarrow\n",
    "\n",
    "# Elimina las columnas 'url' y 'reviews_url' del dataframe.\n",
    "columns = ['url', 'reviews_url']\n",
    "df_games.drop(columns, axis=1, inplace=True)\n",
    "\n",
    "# Cambia el tipo de dato de la columna 'early_access' a booleano.\n",
    "df_games['early_access'] = df_games['early_access'].astype(bool)\n",
    "df_games.info()"
   ],
   "outputs": [
    {
     "name": "stdout",
     "output_type": "stream",
     "text": [
      "<class 'pandas.core.frame.DataFrame'>\n",
      "Index: 82806 entries, 0 to 32132\n",
      "Data columns (total 11 columns):\n",
      " #   Column        Non-Null Count  Dtype  \n",
      "---  ------        --------------  -----  \n",
      " 0   publisher     82806 non-null  object \n",
      " 1   item_name     82806 non-null  object \n",
      " 2   title         82806 non-null  object \n",
      " 3   release_date  82806 non-null  object \n",
      " 4   price         82806 non-null  float64\n",
      " 5   early_access  82806 non-null  bool   \n",
      " 6   item_id       82806 non-null  object \n",
      " 7   developer     82806 non-null  object \n",
      " 8   is_equal      82806 non-null  bool   \n",
      " 9   release_year  82806 non-null  object \n",
      " 10  genres        82806 non-null  object \n",
      "dtypes: bool(2), float64(1), object(8)\n",
      "memory usage: 6.5+ MB\n"
     ]
    }
   ],
   "execution_count": 85
  },
  {
   "cell_type": "markdown",
   "id": "1ef11996ae6fc4ee",
   "metadata": {},
   "source": []
  },
  {
   "cell_type": "markdown",
   "id": "3f1cd67fcf7a6f99",
   "metadata": {},
   "source": [
    "# Carga"
   ]
  },
  {
   "cell_type": "markdown",
   "id": "f0b007d9d499fc7",
   "metadata": {},
   "source": [
    "##### Cargamos el dataset con el dataset limpio y formato comprimido."
   ]
  },
  {
   "cell_type": "code",
   "id": "14b9ca185c45a9e",
   "metadata": {
    "ExecuteTime": {
     "end_time": "2024-03-17T05:14:42.719673Z",
     "start_time": "2024-03-17T05:14:42.396108Z"
    }
   },
   "source": [
    "# Definimos la ruta de destino y el nombre del archivo.\n",
    "folder_path = '../dataset/'\n",
    "file_name = 'steam_games.parquet'\n",
    "\n",
    "# Verificamos si el folder_path existe\n",
    "if not os.path.exists(folder_path):\n",
    "    # Si no existe, lo creamos\n",
    "    os.makedirs(folder_path)\n",
    "\n",
    "# Exportamos el DataFrame a un archivo Parquet\n",
    "df_games.to_parquet(os.path.join(folder_path, file_name), engine='pyarrow', compression='zstd')\n",
    "\n",
    "print(f'El archivo {file_name} se guardó correctamente en {folder_path}')"
   ],
   "outputs": [
    {
     "name": "stdout",
     "output_type": "stream",
     "text": [
      "El archivo steam_games.parquet se guardó correctamente en ../dataset/\n"
     ]
    }
   ],
   "execution_count": 86
  }
 ],
 "metadata": {
  "kernelspec": {
   "display_name": "Python 3 (ipykernel)",
   "language": "python",
   "name": "python3"
  },
  "language_info": {
   "codemirror_mode": {
    "name": "ipython",
    "version": 3
   },
   "file_extension": ".py",
   "mimetype": "text/x-python",
   "name": "python",
   "nbconvert_exporter": "python",
   "pygments_lexer": "ipython3",
   "version": "3.11.8"
  }
 },
 "nbformat": 4,
 "nbformat_minor": 5
}
