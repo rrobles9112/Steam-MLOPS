{
 "cells": [
  {
   "cell_type": "markdown",
   "id": "6860093d",
   "metadata": {},
   "source": [
    "# Extraccion de los datos \n",
    " Se descomprime el json comprimido usando la funcion nativa de Pandas 2.0 read_json con los parametros. Luego se almacena en una variable de tipo dataframe con los datos brutos provenientes del json descomprimido"
   ]
  },
  {
   "cell_type": "code",
   "execution_count": 3,
   "id": "initial_id",
   "metadata": {
    "ExecuteTime": {
     "end_time": "2024-03-12T04:18:42.150919Z",
     "start_time": "2024-03-12T04:18:39.312233Z"
    },
    "is_executing": true
   },
   "outputs": [
    {
     "name": "stdout",
     "output_type": "stream",
     "text": [
      "  publisher genres app_name title   url release_date  tags reviews_url specs  \\\n",
      "0      None   None     None  None  None         None  None        None  None   \n",
      "1      None   None     None  None  None         None  None        None  None   \n",
      "2      None   None     None  None  None         None  None        None  None   \n",
      "3      None   None     None  None  None         None  None        None  None   \n",
      "4      None   None     None  None  None         None  None        None  None   \n",
      "\n",
      "  price  early_access  id developer  \n",
      "0  None           NaN NaN      None  \n",
      "1  None           NaN NaN      None  \n",
      "2  None           NaN NaN      None  \n",
      "3  None           NaN NaN      None  \n",
      "4  None           NaN NaN      None  \n",
      "              publisher                                 genres  \\\n",
      "120440  Ghost_RUS Games  [Casual, Indie, Simulation, Strategy]   \n",
      "120441           Sacada              [Casual, Indie, Strategy]   \n",
      "120442     Laush Studio            [Indie, Racing, Simulation]   \n",
      "120443         SIXNAILS                        [Casual, Indie]   \n",
      "120444             None                                   None   \n",
      "\n",
      "                        app_name                     title  \\\n",
      "120440            Colony On Mars            Colony On Mars   \n",
      "120441  LOGistICAL: South Africa  LOGistICAL: South Africa   \n",
      "120442             Russian Roads             Russian Roads   \n",
      "120443       EXIT 2 - Directions       EXIT 2 - Directions   \n",
      "120444               Maze Run VR                      None   \n",
      "\n",
      "                                                      url release_date  \\\n",
      "120440  http://store.steampowered.com/app/773640/Colon...   2018-01-04   \n",
      "120441  http://store.steampowered.com/app/733530/LOGis...   2018-01-04   \n",
      "120442  http://store.steampowered.com/app/610660/Russi...   2018-01-04   \n",
      "120443  http://store.steampowered.com/app/658870/EXIT_...   2017-09-02   \n",
      "120444  http://store.steampowered.com/app/681550/Maze_...         None   \n",
      "\n",
      "                                                     tags  \\\n",
      "120440              [Strategy, Indie, Casual, Simulation]   \n",
      "120441                          [Strategy, Indie, Casual]   \n",
      "120442                        [Indie, Simulation, Racing]   \n",
      "120443  [Indie, Casual, Puzzle, Singleplayer, Atmosphe...   \n",
      "120444  [Early Access, Adventure, Indie, Action, Simul...   \n",
      "\n",
      "                                              reviews_url  \\\n",
      "120440  http://steamcommunity.com/app/773640/reviews/?...   \n",
      "120441  http://steamcommunity.com/app/733530/reviews/?...   \n",
      "120442  http://steamcommunity.com/app/610660/reviews/?...   \n",
      "120443  http://steamcommunity.com/app/658870/reviews/?...   \n",
      "120444  http://steamcommunity.com/app/681550/reviews/?...   \n",
      "\n",
      "                                                    specs price  early_access  \\\n",
      "120440                [Single-player, Steam Achievements]  1.99           0.0   \n",
      "120441  [Single-player, Steam Achievements, Steam Clou...  4.99           0.0   \n",
      "120442  [Single-player, Steam Achievements, Steam Trad...  1.99           0.0   \n",
      "120443   [Single-player, Steam Achievements, Steam Cloud]  4.99           0.0   \n",
      "120444  [Single-player, Stats, Steam Leaderboards, HTC...  4.99           1.0   \n",
      "\n",
      "              id                 developer  \n",
      "120440  773640.0        Nikita \"Ghost_RUS\"  \n",
      "120441  733530.0                    Sacada  \n",
      "120442  610660.0  Laush Dmitriy Sergeevich  \n",
      "120443  658870.0             xropi,stev3ns  \n",
      "120444  681550.0                      None  \n"
     ]
    }
   ],
   "source": [
    "import numpy as np\n",
    "import pandas as pd\n",
    "import gzip\n",
    "import os\n",
    "import json\n",
    "import ast\n",
    "\n",
    "df_games = pd.read_json('/app/dataset/steam_games.json.gz', lines=True, compression='gzip')\n",
    "\n",
    "print(df_games.head())\n",
    "print(df_games.tail())\n",
    "\n"
   ]
  },
  {
   "cell_type": "markdown",
   "id": "d039e49e",
   "metadata": {},
   "source": [
    "Hacemos un resumen consiso de los Dataframe"
   ]
  },
  {
   "cell_type": "code",
   "execution_count": 4,
   "id": "1eb65336",
   "metadata": {
    "ExecuteTime": {
     "end_time": "2024-03-12T04:18:42.221166Z",
     "start_time": "2024-03-12T04:18:42.154119Z"
    }
   },
   "outputs": [
    {
     "name": "stdout",
     "output_type": "stream",
     "text": [
      "<class 'pandas.core.frame.DataFrame'>\n",
      "RangeIndex: 120445 entries, 0 to 120444\n",
      "Data columns (total 13 columns):\n",
      " #   Column        Non-Null Count  Dtype  \n",
      "---  ------        --------------  -----  \n",
      " 0   publisher     24083 non-null  object \n",
      " 1   genres        28852 non-null  object \n",
      " 2   app_name      32133 non-null  object \n",
      " 3   title         30085 non-null  object \n",
      " 4   url           32135 non-null  object \n",
      " 5   release_date  30068 non-null  object \n",
      " 6   tags          31972 non-null  object \n",
      " 7   reviews_url   32133 non-null  object \n",
      " 8   specs         31465 non-null  object \n",
      " 9   price         30758 non-null  object \n",
      " 10  early_access  32135 non-null  float64\n",
      " 11  id            32133 non-null  float64\n",
      " 12  developer     28836 non-null  object \n",
      "dtypes: float64(2), object(11)\n",
      "memory usage: 11.9+ MB\n"
     ]
    }
   ],
   "source": [
    "df_games.info()"
   ]
  },
  {
   "cell_type": "code",
   "execution_count": 5,
   "id": "3b844b64",
   "metadata": {
    "ExecuteTime": {
     "end_time": "2024-03-12T04:18:42.300836Z",
     "start_time": "2024-03-12T04:18:42.224066Z"
    }
   },
   "outputs": [
    {
     "data": {
      "text/html": [
       "<div>\n",
       "<style scoped>\n",
       "    .dataframe tbody tr th:only-of-type {\n",
       "        vertical-align: middle;\n",
       "    }\n",
       "\n",
       "    .dataframe tbody tr th {\n",
       "        vertical-align: top;\n",
       "    }\n",
       "\n",
       "    .dataframe thead th {\n",
       "        text-align: right;\n",
       "    }\n",
       "</style>\n",
       "<table border=\"1\" class=\"dataframe\">\n",
       "  <thead>\n",
       "    <tr style=\"text-align: right;\">\n",
       "      <th></th>\n",
       "      <th>% de Nulos</th>\n",
       "    </tr>\n",
       "  </thead>\n",
       "  <tbody>\n",
       "    <tr>\n",
       "      <th>publisher</th>\n",
       "      <td>80.00</td>\n",
       "    </tr>\n",
       "    <tr>\n",
       "      <th>genres</th>\n",
       "      <td>76.05</td>\n",
       "    </tr>\n",
       "    <tr>\n",
       "      <th>app_name</th>\n",
       "      <td>73.32</td>\n",
       "    </tr>\n",
       "    <tr>\n",
       "      <th>title</th>\n",
       "      <td>75.02</td>\n",
       "    </tr>\n",
       "    <tr>\n",
       "      <th>url</th>\n",
       "      <td>73.32</td>\n",
       "    </tr>\n",
       "    <tr>\n",
       "      <th>release_date</th>\n",
       "      <td>75.04</td>\n",
       "    </tr>\n",
       "    <tr>\n",
       "      <th>tags</th>\n",
       "      <td>73.46</td>\n",
       "    </tr>\n",
       "    <tr>\n",
       "      <th>reviews_url</th>\n",
       "      <td>73.32</td>\n",
       "    </tr>\n",
       "    <tr>\n",
       "      <th>specs</th>\n",
       "      <td>73.88</td>\n",
       "    </tr>\n",
       "    <tr>\n",
       "      <th>price</th>\n",
       "      <td>74.46</td>\n",
       "    </tr>\n",
       "    <tr>\n",
       "      <th>early_access</th>\n",
       "      <td>73.32</td>\n",
       "    </tr>\n",
       "    <tr>\n",
       "      <th>id</th>\n",
       "      <td>73.32</td>\n",
       "    </tr>\n",
       "    <tr>\n",
       "      <th>developer</th>\n",
       "      <td>76.06</td>\n",
       "    </tr>\n",
       "  </tbody>\n",
       "</table>\n",
       "</div>"
      ],
      "text/plain": [
       "              % de Nulos\n",
       "publisher          80.00\n",
       "genres             76.05\n",
       "app_name           73.32\n",
       "title              75.02\n",
       "url                73.32\n",
       "release_date       75.04\n",
       "tags               73.46\n",
       "reviews_url        73.32\n",
       "specs              73.88\n",
       "price              74.46\n",
       "early_access       73.32\n",
       "id                 73.32\n",
       "developer          76.06"
      ]
     },
     "execution_count": 5,
     "metadata": {},
     "output_type": "execute_result"
    }
   ],
   "source": [
    "round(df_games.isna().sum().to_frame('% de Nulos')*100/len(df_games),2)"
   ]
  },
  {
   "cell_type": "code",
   "execution_count": 6,
   "id": "1201946a",
   "metadata": {
    "ExecuteTime": {
     "end_time": "2024-03-12T04:19:12.951146Z",
     "start_time": "2024-03-12T04:18:42.304723Z"
    }
   },
   "outputs": [
    {
     "data": {
      "text/html": [
       "<div>\n",
       "<style scoped>\n",
       "    .dataframe tbody tr th:only-of-type {\n",
       "        vertical-align: middle;\n",
       "    }\n",
       "\n",
       "    .dataframe tbody tr th {\n",
       "        vertical-align: top;\n",
       "    }\n",
       "\n",
       "    .dataframe thead th {\n",
       "        text-align: right;\n",
       "    }\n",
       "</style>\n",
       "<table border=\"1\" class=\"dataframe\">\n",
       "  <thead>\n",
       "    <tr style=\"text-align: right;\">\n",
       "      <th></th>\n",
       "      <th>publisher</th>\n",
       "      <th>genres</th>\n",
       "      <th>app_name</th>\n",
       "      <th>title</th>\n",
       "      <th>url</th>\n",
       "      <th>release_date</th>\n",
       "      <th>tags</th>\n",
       "      <th>reviews_url</th>\n",
       "      <th>specs</th>\n",
       "      <th>price</th>\n",
       "      <th>early_access</th>\n",
       "      <th>id</th>\n",
       "      <th>developer</th>\n",
       "    </tr>\n",
       "  </thead>\n",
       "  <tbody>\n",
       "    <tr>\n",
       "      <th>count</th>\n",
       "      <td>24083</td>\n",
       "      <td>28852</td>\n",
       "      <td>32133</td>\n",
       "      <td>30085</td>\n",
       "      <td>32135</td>\n",
       "      <td>30068</td>\n",
       "      <td>31972</td>\n",
       "      <td>32133</td>\n",
       "      <td>31465</td>\n",
       "      <td>30758.00</td>\n",
       "      <td>32135.000000</td>\n",
       "      <td>3.213300e+04</td>\n",
       "      <td>28836</td>\n",
       "    </tr>\n",
       "    <tr>\n",
       "      <th>unique</th>\n",
       "      <td>8239</td>\n",
       "      <td>883</td>\n",
       "      <td>32094</td>\n",
       "      <td>30054</td>\n",
       "      <td>32135</td>\n",
       "      <td>3582</td>\n",
       "      <td>15395</td>\n",
       "      <td>32132</td>\n",
       "      <td>4649</td>\n",
       "      <td>162.00</td>\n",
       "      <td>NaN</td>\n",
       "      <td>NaN</td>\n",
       "      <td>10992</td>\n",
       "    </tr>\n",
       "    <tr>\n",
       "      <th>top</th>\n",
       "      <td>Ubisoft</td>\n",
       "      <td>[Action]</td>\n",
       "      <td>Soundtrack</td>\n",
       "      <td>Soundtrack</td>\n",
       "      <td>http://store.steampowered.com/app/761140/Lost_...</td>\n",
       "      <td>2012-10-16</td>\n",
       "      <td>[Casual, Simulation]</td>\n",
       "      <td>http://steamcommunity.com/app/612880/reviews/?...</td>\n",
       "      <td>[Single-player]</td>\n",
       "      <td>4.99</td>\n",
       "      <td>NaN</td>\n",
       "      <td>NaN</td>\n",
       "      <td>Ubisoft - San Francisco</td>\n",
       "    </tr>\n",
       "    <tr>\n",
       "      <th>freq</th>\n",
       "      <td>385</td>\n",
       "      <td>1880</td>\n",
       "      <td>3</td>\n",
       "      <td>3</td>\n",
       "      <td>1</td>\n",
       "      <td>100</td>\n",
       "      <td>1292</td>\n",
       "      <td>2</td>\n",
       "      <td>2794</td>\n",
       "      <td>4278.00</td>\n",
       "      <td>NaN</td>\n",
       "      <td>NaN</td>\n",
       "      <td>1259</td>\n",
       "    </tr>\n",
       "    <tr>\n",
       "      <th>mean</th>\n",
       "      <td>NaN</td>\n",
       "      <td>NaN</td>\n",
       "      <td>NaN</td>\n",
       "      <td>NaN</td>\n",
       "      <td>NaN</td>\n",
       "      <td>NaN</td>\n",
       "      <td>NaN</td>\n",
       "      <td>NaN</td>\n",
       "      <td>NaN</td>\n",
       "      <td>NaN</td>\n",
       "      <td>0.060588</td>\n",
       "      <td>4.517574e+05</td>\n",
       "      <td>NaN</td>\n",
       "    </tr>\n",
       "    <tr>\n",
       "      <th>std</th>\n",
       "      <td>NaN</td>\n",
       "      <td>NaN</td>\n",
       "      <td>NaN</td>\n",
       "      <td>NaN</td>\n",
       "      <td>NaN</td>\n",
       "      <td>NaN</td>\n",
       "      <td>NaN</td>\n",
       "      <td>NaN</td>\n",
       "      <td>NaN</td>\n",
       "      <td>NaN</td>\n",
       "      <td>0.238577</td>\n",
       "      <td>1.827140e+05</td>\n",
       "      <td>NaN</td>\n",
       "    </tr>\n",
       "    <tr>\n",
       "      <th>min</th>\n",
       "      <td>NaN</td>\n",
       "      <td>NaN</td>\n",
       "      <td>NaN</td>\n",
       "      <td>NaN</td>\n",
       "      <td>NaN</td>\n",
       "      <td>NaN</td>\n",
       "      <td>NaN</td>\n",
       "      <td>NaN</td>\n",
       "      <td>NaN</td>\n",
       "      <td>NaN</td>\n",
       "      <td>0.000000</td>\n",
       "      <td>1.000000e+01</td>\n",
       "      <td>NaN</td>\n",
       "    </tr>\n",
       "    <tr>\n",
       "      <th>25%</th>\n",
       "      <td>NaN</td>\n",
       "      <td>NaN</td>\n",
       "      <td>NaN</td>\n",
       "      <td>NaN</td>\n",
       "      <td>NaN</td>\n",
       "      <td>NaN</td>\n",
       "      <td>NaN</td>\n",
       "      <td>NaN</td>\n",
       "      <td>NaN</td>\n",
       "      <td>NaN</td>\n",
       "      <td>0.000000</td>\n",
       "      <td>3.292800e+05</td>\n",
       "      <td>NaN</td>\n",
       "    </tr>\n",
       "    <tr>\n",
       "      <th>50%</th>\n",
       "      <td>NaN</td>\n",
       "      <td>NaN</td>\n",
       "      <td>NaN</td>\n",
       "      <td>NaN</td>\n",
       "      <td>NaN</td>\n",
       "      <td>NaN</td>\n",
       "      <td>NaN</td>\n",
       "      <td>NaN</td>\n",
       "      <td>NaN</td>\n",
       "      <td>NaN</td>\n",
       "      <td>0.000000</td>\n",
       "      <td>4.520600e+05</td>\n",
       "      <td>NaN</td>\n",
       "    </tr>\n",
       "    <tr>\n",
       "      <th>75%</th>\n",
       "      <td>NaN</td>\n",
       "      <td>NaN</td>\n",
       "      <td>NaN</td>\n",
       "      <td>NaN</td>\n",
       "      <td>NaN</td>\n",
       "      <td>NaN</td>\n",
       "      <td>NaN</td>\n",
       "      <td>NaN</td>\n",
       "      <td>NaN</td>\n",
       "      <td>NaN</td>\n",
       "      <td>0.000000</td>\n",
       "      <td>5.934000e+05</td>\n",
       "      <td>NaN</td>\n",
       "    </tr>\n",
       "    <tr>\n",
       "      <th>max</th>\n",
       "      <td>NaN</td>\n",
       "      <td>NaN</td>\n",
       "      <td>NaN</td>\n",
       "      <td>NaN</td>\n",
       "      <td>NaN</td>\n",
       "      <td>NaN</td>\n",
       "      <td>NaN</td>\n",
       "      <td>NaN</td>\n",
       "      <td>NaN</td>\n",
       "      <td>NaN</td>\n",
       "      <td>1.000000</td>\n",
       "      <td>2.028850e+06</td>\n",
       "      <td>NaN</td>\n",
       "    </tr>\n",
       "  </tbody>\n",
       "</table>\n",
       "</div>"
      ],
      "text/plain": [
       "       publisher    genres    app_name       title  \\\n",
       "count      24083     28852       32133       30085   \n",
       "unique      8239       883       32094       30054   \n",
       "top      Ubisoft  [Action]  Soundtrack  Soundtrack   \n",
       "freq         385      1880           3           3   \n",
       "mean         NaN       NaN         NaN         NaN   \n",
       "std          NaN       NaN         NaN         NaN   \n",
       "min          NaN       NaN         NaN         NaN   \n",
       "25%          NaN       NaN         NaN         NaN   \n",
       "50%          NaN       NaN         NaN         NaN   \n",
       "75%          NaN       NaN         NaN         NaN   \n",
       "max          NaN       NaN         NaN         NaN   \n",
       "\n",
       "                                                      url release_date  \\\n",
       "count                                               32135        30068   \n",
       "unique                                              32135         3582   \n",
       "top     http://store.steampowered.com/app/761140/Lost_...   2012-10-16   \n",
       "freq                                                    1          100   \n",
       "mean                                                  NaN          NaN   \n",
       "std                                                   NaN          NaN   \n",
       "min                                                   NaN          NaN   \n",
       "25%                                                   NaN          NaN   \n",
       "50%                                                   NaN          NaN   \n",
       "75%                                                   NaN          NaN   \n",
       "max                                                   NaN          NaN   \n",
       "\n",
       "                        tags  \\\n",
       "count                  31972   \n",
       "unique                 15395   \n",
       "top     [Casual, Simulation]   \n",
       "freq                    1292   \n",
       "mean                     NaN   \n",
       "std                      NaN   \n",
       "min                      NaN   \n",
       "25%                      NaN   \n",
       "50%                      NaN   \n",
       "75%                      NaN   \n",
       "max                      NaN   \n",
       "\n",
       "                                              reviews_url            specs  \\\n",
       "count                                               32133            31465   \n",
       "unique                                              32132             4649   \n",
       "top     http://steamcommunity.com/app/612880/reviews/?...  [Single-player]   \n",
       "freq                                                    2             2794   \n",
       "mean                                                  NaN              NaN   \n",
       "std                                                   NaN              NaN   \n",
       "min                                                   NaN              NaN   \n",
       "25%                                                   NaN              NaN   \n",
       "50%                                                   NaN              NaN   \n",
       "75%                                                   NaN              NaN   \n",
       "max                                                   NaN              NaN   \n",
       "\n",
       "           price  early_access            id                developer  \n",
       "count   30758.00  32135.000000  3.213300e+04                    28836  \n",
       "unique    162.00           NaN           NaN                    10992  \n",
       "top         4.99           NaN           NaN  Ubisoft - San Francisco  \n",
       "freq     4278.00           NaN           NaN                     1259  \n",
       "mean         NaN      0.060588  4.517574e+05                      NaN  \n",
       "std          NaN      0.238577  1.827140e+05                      NaN  \n",
       "min          NaN      0.000000  1.000000e+01                      NaN  \n",
       "25%          NaN      0.000000  3.292800e+05                      NaN  \n",
       "50%          NaN      0.000000  4.520600e+05                      NaN  \n",
       "75%          NaN      0.000000  5.934000e+05                      NaN  \n",
       "max          NaN      1.000000  2.028850e+06                      NaN  "
      ]
     },
     "execution_count": 6,
     "metadata": {},
     "output_type": "execute_result"
    }
   ],
   "source": [
    "# Describe todas las columnas del dataframe df_games\n",
    "df_games.describe(include='all')\n"
   ]
  },
  {
   "cell_type": "markdown",
   "id": "551d5801",
   "metadata": {},
   "source": [
    "#### Descripción de los datos.\n",
    "A partir del análisis exploratorio anterior, podemos observar que el conjunto de datos contiene 120445 registros y 13 variables con información sobre juegos de Steam. Sin embargo, hay una gran cantidad de datos nulos (75% en promedio). A continuación, se describen las variables:\n",
    "\n",
    "\n",
    "- publisher: empresa publicadora del juego\n",
    "- genres: género del juego. Esta formado por una lista de uno o mas géneros por registro\n",
    "- app_name: nombre del juego\n",
    "- title: título del juego\n",
    "- url: URL de publicación del juego\n",
    "- release_date: fecha de lanzamiento en formato 2018-01-04\n",
    "- tags: etiquetas del juego. Esta formado por una lista de uno o más etiquetas por registro\n",
    "- reviews_url: reviews del juego\n",
    "- specs: especificaciones. Es una lista con uno o mas string con las especificaciones\n",
    "- price: precio del juego\n",
    "- early_access: indica el acceso temprano al juego con un True/False\n",
    "- id: identificador único del juego\n",
    "- developer: desarrollador del juego"
   ]
  },
  {
   "cell_type": "markdown",
   "id": "85af3cb7",
   "metadata": {},
   "source": [
    "# Transformación\n",
    "En esta sección, realizamos la limpieza inicial de los datos y las transformaciones necesarias. Esto puede incluir la creación de nuevas columnas a partir de las existentes, la eliminación de duplicados o columnas innecesarias, la gestión de valores nulos o la corrección de tipos de datos."
   ]
  },
  {
   "cell_type": "code",
   "execution_count": 7,
   "id": "3daca67f",
   "metadata": {
    "ExecuteTime": {
     "end_time": "2024-03-12T04:19:12.985868Z",
     "start_time": "2024-03-12T04:19:12.954828Z"
    }
   },
   "outputs": [
    {
     "data": {
      "text/plain": [
       "(32133, 13)"
      ]
     },
     "execution_count": 7,
     "metadata": {},
     "output_type": "execute_result"
    }
   ],
   "source": [
    "df_games.dropna(subset='id', inplace=True)\n",
    "df_games.reset_index(drop=True, inplace=True)\n",
    "df_games.shape"
   ]
  },
  {
   "cell_type": "markdown",
   "id": "4c1d257c",
   "metadata": {},
   "source": [
    "#### Verificación de duplicados\n",
    "Del análisis exploratorio anterior notamos que el id 612880 esta duplicado. Se procede a verificar:"
   ]
  },
  {
   "cell_type": "code",
   "execution_count": 8,
   "id": "aebdc179",
   "metadata": {
    "ExecuteTime": {
     "end_time": "2024-03-12T04:19:13.015989Z",
     "start_time": "2024-03-12T04:19:12.989091Z"
    }
   },
   "outputs": [
    {
     "data": {
      "text/html": [
       "<div>\n",
       "<style scoped>\n",
       "    .dataframe tbody tr th:only-of-type {\n",
       "        vertical-align: middle;\n",
       "    }\n",
       "\n",
       "    .dataframe tbody tr th {\n",
       "        vertical-align: top;\n",
       "    }\n",
       "\n",
       "    .dataframe thead th {\n",
       "        text-align: right;\n",
       "    }\n",
       "</style>\n",
       "<table border=\"1\" class=\"dataframe\">\n",
       "  <thead>\n",
       "    <tr style=\"text-align: right;\">\n",
       "      <th></th>\n",
       "      <th>publisher</th>\n",
       "      <th>genres</th>\n",
       "      <th>app_name</th>\n",
       "      <th>title</th>\n",
       "      <th>url</th>\n",
       "      <th>release_date</th>\n",
       "      <th>tags</th>\n",
       "      <th>reviews_url</th>\n",
       "      <th>specs</th>\n",
       "      <th>price</th>\n",
       "      <th>early_access</th>\n",
       "      <th>id</th>\n",
       "      <th>developer</th>\n",
       "    </tr>\n",
       "  </thead>\n",
       "  <tbody>\n",
       "    <tr>\n",
       "      <th>13893</th>\n",
       "      <td>Bethesda Softworks</td>\n",
       "      <td>[Action]</td>\n",
       "      <td>Wolfenstein II: The New Colossus</td>\n",
       "      <td>Wolfenstein II: The New Colossus</td>\n",
       "      <td>http://store.steampowered.com/app/612880/</td>\n",
       "      <td>2017-10-26</td>\n",
       "      <td>[Action, FPS, Gore, Violent, Alternate History...</td>\n",
       "      <td>http://steamcommunity.com/app/612880/reviews/?...</td>\n",
       "      <td>[Single-player, Steam Achievements, Full contr...</td>\n",
       "      <td>59.99</td>\n",
       "      <td>0.0</td>\n",
       "      <td>612880.0</td>\n",
       "      <td>Machine Games</td>\n",
       "    </tr>\n",
       "    <tr>\n",
       "      <th>14572</th>\n",
       "      <td>Bethesda Softworks</td>\n",
       "      <td>[Action]</td>\n",
       "      <td>Wolfenstein II: The New Colossus</td>\n",
       "      <td>Wolfenstein II: The New Colossus</td>\n",
       "      <td>http://store.steampowered.com/app/612880/Wolfe...</td>\n",
       "      <td>2017-10-26</td>\n",
       "      <td>[Action, FPS, Gore, Violent, Alternate History...</td>\n",
       "      <td>http://steamcommunity.com/app/612880/reviews/?...</td>\n",
       "      <td>[Single-player, Steam Achievements, Full contr...</td>\n",
       "      <td>59.99</td>\n",
       "      <td>0.0</td>\n",
       "      <td>612880.0</td>\n",
       "      <td>Machine Games</td>\n",
       "    </tr>\n",
       "  </tbody>\n",
       "</table>\n",
       "</div>"
      ],
      "text/plain": [
       "                publisher    genres                          app_name  \\\n",
       "13893  Bethesda Softworks  [Action]  Wolfenstein II: The New Colossus   \n",
       "14572  Bethesda Softworks  [Action]  Wolfenstein II: The New Colossus   \n",
       "\n",
       "                                  title  \\\n",
       "13893  Wolfenstein II: The New Colossus   \n",
       "14572  Wolfenstein II: The New Colossus   \n",
       "\n",
       "                                                     url release_date  \\\n",
       "13893          http://store.steampowered.com/app/612880/   2017-10-26   \n",
       "14572  http://store.steampowered.com/app/612880/Wolfe...   2017-10-26   \n",
       "\n",
       "                                                    tags  \\\n",
       "13893  [Action, FPS, Gore, Violent, Alternate History...   \n",
       "14572  [Action, FPS, Gore, Violent, Alternate History...   \n",
       "\n",
       "                                             reviews_url  \\\n",
       "13893  http://steamcommunity.com/app/612880/reviews/?...   \n",
       "14572  http://steamcommunity.com/app/612880/reviews/?...   \n",
       "\n",
       "                                                   specs  price  early_access  \\\n",
       "13893  [Single-player, Steam Achievements, Full contr...  59.99           0.0   \n",
       "14572  [Single-player, Steam Achievements, Full contr...  59.99           0.0   \n",
       "\n",
       "             id      developer  \n",
       "13893  612880.0  Machine Games  \n",
       "14572  612880.0  Machine Games  "
      ]
     },
     "execution_count": 8,
     "metadata": {},
     "output_type": "execute_result"
    }
   ],
   "source": [
    "df_games[df_games['id'].duplicated(keep=False)]"
   ]
  },
  {
   "cell_type": "code",
   "execution_count": 9,
   "id": "17006d37",
   "metadata": {
    "ExecuteTime": {
     "end_time": "2024-03-12T04:19:13.047251Z",
     "start_time": "2024-03-12T04:19:13.018920Z"
    }
   },
   "outputs": [
    {
     "data": {
      "text/plain": [
       "(32132, 13)"
      ]
     },
     "execution_count": 9,
     "metadata": {},
     "output_type": "execute_result"
    }
   ],
   "source": [
    "# Eliminamos duplicados por id\n",
    "df_games.drop_duplicates(subset='id', inplace=True)\n",
    "df_games.shape"
   ]
  },
  {
   "cell_type": "code",
   "execution_count": 10,
   "id": "ce0b05bd",
   "metadata": {
    "ExecuteTime": {
     "end_time": "2024-03-12T04:19:13.058189Z",
     "start_time": "2024-03-12T04:19:13.049469Z"
    }
   },
   "outputs": [
    {
     "data": {
      "text/plain": [
       "Index(['publisher', 'genres', 'app_name', 'title', 'url', 'release_date',\n",
       "       'tags', 'reviews_url', 'specs', 'price', 'early_access', 'item_id',\n",
       "       'developer'],\n",
       "      dtype='object')"
      ]
     },
     "execution_count": 10,
     "metadata": {},
     "output_type": "execute_result"
    }
   ],
   "source": [
    "# Renombramos la columna 'id' a 'item_id'\n",
    "df_games.rename(columns={'id': 'item_id'}, inplace=True)\n",
    "df_games.columns"
   ]
  },
  {
   "cell_type": "markdown",
   "id": "0f776c2b",
   "metadata": {},
   "source": [
    "#### Columnas title y app_name\n",
    "##### Gestión de nulos\n",
    "Notamos que ambas columnas contienen valores nulos que procedemos a reemplazar con 'unknown'."
   ]
  },
  {
   "cell_type": "code",
   "execution_count": 11,
   "id": "6f36f1ea",
   "metadata": {
    "ExecuteTime": {
     "end_time": "2024-03-12T04:19:13.126357Z",
     "start_time": "2024-03-12T04:19:13.061103Z"
    }
   },
   "outputs": [
    {
     "data": {
      "text/plain": [
       "publisher       8051\n",
       "genres          3282\n",
       "app_name           0\n",
       "title              0\n",
       "url                0\n",
       "release_date    2066\n",
       "tags             162\n",
       "reviews_url        0\n",
       "specs            669\n",
       "price           1377\n",
       "early_access       0\n",
       "item_id            0\n",
       "developer       3298\n",
       "dtype: int64"
      ]
     },
     "execution_count": 11,
     "metadata": {},
     "output_type": "execute_result"
    }
   ],
   "source": [
    "columns = ['title', 'app_name']\n",
    "df_games[columns] = df_games[columns].fillna('unknown')\n",
    "df_games.isnull().sum()"
   ]
  },
  {
   "cell_type": "code",
   "execution_count": 12,
   "id": "0049f808",
   "metadata": {
    "ExecuteTime": {
     "end_time": "2024-03-12T04:19:13.144804Z",
     "start_time": "2024-03-12T04:19:13.130493Z"
    }
   },
   "outputs": [
    {
     "name": "stdout",
     "output_type": "stream",
     "text": [
      "El porcentaje de filas donde 'app_name' y 'title' son iguales es: 91.9%\n"
     ]
    }
   ],
   "source": [
    "# Realizamos la comparación y creamos una columna con el resultado.\n",
    "df_games['is_equal'] = df_games['app_name'] == df_games['title']\n",
    "\n",
    "# Calculamos el porcentaje de filas donde 'app_name' y 'title' son iguales\n",
    "equal_percentage = round((df_games['is_equal'].sum() / len(df_games)) * 100, 2)\n",
    "\n",
    "print(f\"El porcentaje de filas donde 'app_name' y 'title' son iguales es: {equal_percentage}%\")"
   ]
  },
  {
   "cell_type": "code",
   "execution_count": 13,
   "id": "7f791e8b",
   "metadata": {
    "ExecuteTime": {
     "end_time": "2024-03-12T04:19:13.168416Z",
     "start_time": "2024-03-12T04:19:13.150685Z"
    }
   },
   "outputs": [
    {
     "data": {
      "text/html": [
       "<div>\n",
       "<style scoped>\n",
       "    .dataframe tbody tr th:only-of-type {\n",
       "        vertical-align: middle;\n",
       "    }\n",
       "\n",
       "    .dataframe tbody tr th {\n",
       "        vertical-align: top;\n",
       "    }\n",
       "\n",
       "    .dataframe thead th {\n",
       "        text-align: right;\n",
       "    }\n",
       "</style>\n",
       "<table border=\"1\" class=\"dataframe\">\n",
       "  <thead>\n",
       "    <tr style=\"text-align: right;\">\n",
       "      <th></th>\n",
       "      <th>app_name</th>\n",
       "      <th>title</th>\n",
       "    </tr>\n",
       "  </thead>\n",
       "  <tbody>\n",
       "    <tr>\n",
       "      <th>4</th>\n",
       "      <td>Log Challenge</td>\n",
       "      <td>unknown</td>\n",
       "    </tr>\n",
       "    <tr>\n",
       "      <th>11</th>\n",
       "      <td>Icarus Six Sixty Six</td>\n",
       "      <td>unknown</td>\n",
       "    </tr>\n",
       "    <tr>\n",
       "      <th>19</th>\n",
       "      <td>After Life VR</td>\n",
       "      <td>unknown</td>\n",
       "    </tr>\n",
       "    <tr>\n",
       "      <th>20</th>\n",
       "      <td>Kitty Hawk</td>\n",
       "      <td>unknown</td>\n",
       "    </tr>\n",
       "    <tr>\n",
       "      <th>22</th>\n",
       "      <td>Mortars VR</td>\n",
       "      <td>unknown</td>\n",
       "    </tr>\n",
       "    <tr>\n",
       "      <th>...</th>\n",
       "      <td>...</td>\n",
       "      <td>...</td>\n",
       "    </tr>\n",
       "    <tr>\n",
       "      <th>32071</th>\n",
       "      <td>Tank of War-VR</td>\n",
       "      <td>unknown</td>\n",
       "    </tr>\n",
       "    <tr>\n",
       "      <th>32074</th>\n",
       "      <td>Flappy Arms</td>\n",
       "      <td>unknown</td>\n",
       "    </tr>\n",
       "    <tr>\n",
       "      <th>32075</th>\n",
       "      <td>SpaceWalker</td>\n",
       "      <td>unknown</td>\n",
       "    </tr>\n",
       "    <tr>\n",
       "      <th>32083</th>\n",
       "      <td>LIV Client</td>\n",
       "      <td>unknown</td>\n",
       "    </tr>\n",
       "    <tr>\n",
       "      <th>32132</th>\n",
       "      <td>Maze Run VR</td>\n",
       "      <td>unknown</td>\n",
       "    </tr>\n",
       "  </tbody>\n",
       "</table>\n",
       "<p>2603 rows × 2 columns</p>\n",
       "</div>"
      ],
      "text/plain": [
       "                   app_name    title\n",
       "4             Log Challenge  unknown\n",
       "11     Icarus Six Sixty Six  unknown\n",
       "19            After Life VR  unknown\n",
       "20               Kitty Hawk  unknown\n",
       "22               Mortars VR  unknown\n",
       "...                     ...      ...\n",
       "32071        Tank of War-VR  unknown\n",
       "32074           Flappy Arms  unknown\n",
       "32075           SpaceWalker  unknown\n",
       "32083            LIV Client  unknown\n",
       "32132           Maze Run VR  unknown\n",
       "\n",
       "[2603 rows x 2 columns]"
      ]
     },
     "execution_count": 13,
     "metadata": {},
     "output_type": "execute_result"
    }
   ],
   "source": [
    "# Filtramos las filas donde 'app_name' y 'title' no son iguales.\n",
    "not_equal_df = df_games.loc[df_games['is_equal'] == False]\n",
    "not_equal_df[['app_name', 'title']]"
   ]
  },
  {
   "cell_type": "markdown",
   "id": "ef1c8ea4",
   "metadata": {},
   "source": [
    "Cambiamos el nombre de la columna <code>app_name</code> por uno mas representativo como <code>item_name</code>."
   ]
  },
  {
   "cell_type": "code",
   "execution_count": 14,
   "id": "58ed4b75",
   "metadata": {
    "ExecuteTime": {
     "end_time": "2024-03-12T04:19:13.178881Z",
     "start_time": "2024-03-12T04:19:13.170741Z"
    }
   },
   "outputs": [
    {
     "data": {
      "text/plain": [
       "Index(['publisher', 'genres', 'item_name', 'title', 'url', 'release_date',\n",
       "       'tags', 'reviews_url', 'specs', 'price', 'early_access', 'item_id',\n",
       "       'developer', 'is_equal'],\n",
       "      dtype='object')"
      ]
     },
     "execution_count": 14,
     "metadata": {},
     "output_type": "execute_result"
    }
   ],
   "source": [
    "df_games.rename(columns={'app_name': 'item_name'}, inplace=True)\n",
    "df_games.columns"
   ]
  },
  {
   "cell_type": "markdown",
   "id": "c0493c61",
   "metadata": {},
   "source": [
    "##### Tratamiento Columas <code>publisher</code>\n",
    "Gestión de nulos\n",
    "Notamos que también tenemos valores nulos para la columnas publisher y developer que reemplazamos con 'unknown'."
   ]
  },
  {
   "cell_type": "code",
   "execution_count": 15,
   "id": "d4b040241a52bf9c",
   "metadata": {
    "ExecuteTime": {
     "end_time": "2024-03-12T04:19:13.253549Z",
     "start_time": "2024-03-12T04:19:13.182729Z"
    }
   },
   "outputs": [
    {
     "data": {
      "text/plain": [
       "publisher          0\n",
       "genres          3282\n",
       "item_name          0\n",
       "title              0\n",
       "url                0\n",
       "release_date    2066\n",
       "tags             162\n",
       "reviews_url        0\n",
       "specs            669\n",
       "price           1377\n",
       "early_access       0\n",
       "item_id            0\n",
       "developer          0\n",
       "is_equal           0\n",
       "dtype: int64"
      ]
     },
     "execution_count": 15,
     "metadata": {},
     "output_type": "execute_result"
    }
   ],
   "source": [
    "# Reemplazamos los valores nulos con 'unknown'\n",
    "columns = ['publisher', 'developer']\n",
    "df_games[columns] = df_games[columns].fillna('unknown')\n",
    "df_games.isnull().sum()"
   ]
  },
  {
   "cell_type": "markdown",
   "id": "5dd6b2ac0d466137",
   "metadata": {},
   "source": [
    "##### Tratamiento de <code>release_date</code>\n",
    "Valor de nulos"
   ]
  },
  {
   "cell_type": "code",
   "execution_count": 16,
   "id": "fa93fa1f0051f32",
   "metadata": {
    "ExecuteTime": {
     "end_time": "2024-03-12T04:19:13.301381Z",
     "start_time": "2024-03-12T04:19:13.257028Z"
    }
   },
   "outputs": [],
   "source": [
    "import re\n",
    "mask = df_games['release_date'].apply(lambda x: not re.match(r'\\d{4}-\\d{2}-\\d{2}', str(x)))"
   ]
  },
  {
   "cell_type": "markdown",
   "id": "6d7d0e16cf479d5f",
   "metadata": {},
   "source": [
    "- Filtramos las filas donde la máscara es True."
   ]
  },
  {
   "cell_type": "code",
   "execution_count": 17,
   "id": "a175aba16e1a491a",
   "metadata": {
    "ExecuteTime": {
     "end_time": "2024-03-12T04:19:13.314665Z",
     "start_time": "2024-03-12T04:19:13.304461Z"
    }
   },
   "outputs": [
    {
     "data": {
      "text/plain": [
       "4                None\n",
       "10             Soon..\n",
       "11               None\n",
       "19               None\n",
       "20               None\n",
       "             ...     \n",
       "32085     Coming Soon\n",
       "32086            None\n",
       "32095            2016\n",
       "32121    January 2018\n",
       "32132            None\n",
       "Name: release_date, Length: 2351, dtype: object"
      ]
     },
     "execution_count": 17,
     "metadata": {},
     "output_type": "execute_result"
    }
   ],
   "source": [
    "invalid_dates = df_games.loc[mask, 'release_date']\n",
    "invalid_dates"
   ]
  },
  {
   "cell_type": "markdown",
   "id": "6183f318f365bdf1",
   "metadata": {},
   "source": [
    "<h1>Extracción del año.</h1>\n",
    "Para los endpoints que se consumirán en la API solo necesitamos el año de lanzamiento del item, para ello lo extraemos de release_date de la siguiente manera:"
   ]
  },
  {
   "cell_type": "markdown",
   "id": "84a87a2531de0fb",
   "metadata": {},
   "source": [
    "- Creamos una máscara booleana donde release_date no coincide con el formato YYYY-MM-DD."
   ]
  },
  {
   "cell_type": "code",
   "execution_count": 18,
   "id": "85aa017b16d80051",
   "metadata": {
    "ExecuteTime": {
     "end_time": "2024-03-12T04:19:13.372198Z",
     "start_time": "2024-03-12T04:19:13.319205Z"
    }
   },
   "outputs": [
    {
     "data": {
      "text/plain": [
       "4                None\n",
       "10             Soon..\n",
       "11               None\n",
       "19               None\n",
       "20               None\n",
       "             ...     \n",
       "32085     Coming Soon\n",
       "32086            None\n",
       "32095            2016\n",
       "32121    January 2018\n",
       "32132            None\n",
       "Name: release_date, Length: 2351, dtype: object"
      ]
     },
     "execution_count": 18,
     "metadata": {},
     "output_type": "execute_result"
    }
   ],
   "source": [
    "mask = df_games['release_date'].apply(lambda x: not re.match(r'\\d{4}-\\d{2}-\\d{2}', str(x)))\n",
    "\n",
    "# Filtramos las filas donde la máscara es True\n",
    "invalid_dates = df_games.loc[mask, 'release_date']\n",
    "invalid_dates"
   ]
  },
  {
   "cell_type": "code",
   "execution_count": 19,
   "id": "69bab5148f09e86b",
   "metadata": {
    "ExecuteTime": {
     "end_time": "2024-03-12T04:19:13.453816Z",
     "start_time": "2024-03-12T04:19:13.375711Z"
    }
   },
   "outputs": [
    {
     "data": {
      "text/plain": [
       "0           2018\n",
       "1           2018\n",
       "2           2017\n",
       "3           2017\n",
       "4        unknown\n",
       "          ...   \n",
       "32128       2018\n",
       "32129       2018\n",
       "32130       2018\n",
       "32131       2017\n",
       "32132    unknown\n",
       "Name: release_year, Length: 32132, dtype: object"
      ]
     },
     "execution_count": 19,
     "metadata": {},
     "output_type": "execute_result"
    }
   ],
   "source": [
    "# Extraemos el año en una nueva columna y si no existe reemplazamos por 'unknown'.\n",
    "df_games['release_year'] = df_games['release_date'].str.extract(r'(\\d{4})').fillna('unknown')\n",
    "df_games['release_year']"
   ]
  },
  {
   "cell_type": "markdown",
   "id": "99ea3b21a750c6fa",
   "metadata": {},
   "source": []
  },
  {
   "cell_type": "code",
   "execution_count": 20,
   "id": "d2d6065ae18b1b12",
   "metadata": {
    "ExecuteTime": {
     "end_time": "2024-03-12T04:19:13.472491Z",
     "start_time": "2024-03-12T04:19:13.456642Z"
    }
   },
   "outputs": [
    {
     "data": {
      "text/html": [
       "<div>\n",
       "<style scoped>\n",
       "    .dataframe tbody tr th:only-of-type {\n",
       "        vertical-align: middle;\n",
       "    }\n",
       "\n",
       "    .dataframe tbody tr th {\n",
       "        vertical-align: top;\n",
       "    }\n",
       "\n",
       "    .dataframe thead th {\n",
       "        text-align: right;\n",
       "    }\n",
       "</style>\n",
       "<table border=\"1\" class=\"dataframe\">\n",
       "  <thead>\n",
       "    <tr style=\"text-align: right;\">\n",
       "      <th></th>\n",
       "      <th>release_date</th>\n",
       "      <th>release_year</th>\n",
       "    </tr>\n",
       "  </thead>\n",
       "  <tbody>\n",
       "    <tr>\n",
       "      <th>32121</th>\n",
       "      <td>January 2018</td>\n",
       "      <td>2018</td>\n",
       "    </tr>\n",
       "    <tr>\n",
       "      <th>32095</th>\n",
       "      <td>2016</td>\n",
       "      <td>2016</td>\n",
       "    </tr>\n",
       "    <tr>\n",
       "      <th>32085</th>\n",
       "      <td>Coming Soon</td>\n",
       "      <td>unknown</td>\n",
       "    </tr>\n",
       "  </tbody>\n",
       "</table>\n",
       "</div>"
      ],
      "text/plain": [
       "       release_date release_year\n",
       "32121  January 2018         2018\n",
       "32095          2016         2016\n",
       "32085   Coming Soon      unknown"
      ]
     },
     "execution_count": 20,
     "metadata": {},
     "output_type": "execute_result"
    }
   ],
   "source": [
    "# Comprobamos que se haya extraido correctamente el año:\n",
    "df_games[['release_date', 'release_year']].loc[[32121, 32095, 32085 ]]"
   ]
  },
  {
   "cell_type": "markdown",
   "id": "103871730440cc5e",
   "metadata": {},
   "source": [
    "##### Buscamos años inexistentes en <code>release_year</code> y los pasamos a 'unknown'."
   ]
  },
  {
   "cell_type": "code",
   "execution_count": 21,
   "id": "11de5eadce9ba52c",
   "metadata": {
    "ExecuteTime": {
     "end_time": "2024-03-12T04:19:13.488007Z",
     "start_time": "2024-03-12T04:19:13.475342Z"
    }
   },
   "outputs": [
    {
     "data": {
      "text/plain": [
       "array(['2018', '2017', 'unknown', '1997', '1998', '2016', '2006', '2005',\n",
       "       '2003', '2007', '2002', '2000', '1995', '1996', '1994', '2001',\n",
       "       '1993', '2004', '1999', '2008', '2009', '1992', '1989', '2010',\n",
       "       '2011', '2013', '2012', '2014', '1983', '1984', '2015', '1990',\n",
       "       '1988', '1991', '1985', '1982', '1987', '1981', '1986', '2021',\n",
       "       '5275', '2019', '1975', '1970', '1980'], dtype=object)"
      ]
     },
     "execution_count": 21,
     "metadata": {},
     "output_type": "execute_result"
    }
   ],
   "source": [
    "df_games['release_year'].unique()"
   ]
  },
  {
   "cell_type": "code",
   "execution_count": 22,
   "id": "dcf010e27a76ac1b",
   "metadata": {
    "ExecuteTime": {
     "end_time": "2024-03-12T04:19:13.514967Z",
     "start_time": "2024-03-12T04:19:13.490386Z"
    }
   },
   "outputs": [
    {
     "data": {
      "text/html": [
       "<div>\n",
       "<style scoped>\n",
       "    .dataframe tbody tr th:only-of-type {\n",
       "        vertical-align: middle;\n",
       "    }\n",
       "\n",
       "    .dataframe tbody tr th {\n",
       "        vertical-align: top;\n",
       "    }\n",
       "\n",
       "    .dataframe thead th {\n",
       "        text-align: right;\n",
       "    }\n",
       "</style>\n",
       "<table border=\"1\" class=\"dataframe\">\n",
       "  <thead>\n",
       "    <tr style=\"text-align: right;\">\n",
       "      <th></th>\n",
       "      <th>publisher</th>\n",
       "      <th>genres</th>\n",
       "      <th>item_name</th>\n",
       "      <th>title</th>\n",
       "      <th>url</th>\n",
       "      <th>release_date</th>\n",
       "      <th>tags</th>\n",
       "      <th>reviews_url</th>\n",
       "      <th>specs</th>\n",
       "      <th>price</th>\n",
       "      <th>early_access</th>\n",
       "      <th>item_id</th>\n",
       "      <th>developer</th>\n",
       "      <th>is_equal</th>\n",
       "      <th>release_year</th>\n",
       "    </tr>\n",
       "  </thead>\n",
       "  <tbody>\n",
       "    <tr>\n",
       "      <th>13427</th>\n",
       "      <td>一次元创作组</td>\n",
       "      <td>[Casual, Indie, Early Access]</td>\n",
       "      <td>Puzzle Sisters Foer</td>\n",
       "      <td>Puzzle Sisters Foer</td>\n",
       "      <td>http://store.steampowered.com/app/710190/Puzzl...</td>\n",
       "      <td>预热群52756441</td>\n",
       "      <td>[Early Access, Casual, Indie]</td>\n",
       "      <td>http://steamcommunity.com/app/710190/reviews/?...</td>\n",
       "      <td>[Single-player, Steam Achievements, Steam Trad...</td>\n",
       "      <td>None</td>\n",
       "      <td>1.0</td>\n",
       "      <td>710190.0</td>\n",
       "      <td>一次元创作组</td>\n",
       "      <td>True</td>\n",
       "      <td>5275</td>\n",
       "    </tr>\n",
       "  </tbody>\n",
       "</table>\n",
       "</div>"
      ],
      "text/plain": [
       "      publisher                         genres            item_name  \\\n",
       "13427    一次元创作组  [Casual, Indie, Early Access]  Puzzle Sisters Foer   \n",
       "\n",
       "                     title                                                url  \\\n",
       "13427  Puzzle Sisters Foer  http://store.steampowered.com/app/710190/Puzzl...   \n",
       "\n",
       "      release_date                           tags  \\\n",
       "13427  预热群52756441  [Early Access, Casual, Indie]   \n",
       "\n",
       "                                             reviews_url  \\\n",
       "13427  http://steamcommunity.com/app/710190/reviews/?...   \n",
       "\n",
       "                                                   specs price  early_access  \\\n",
       "13427  [Single-player, Steam Achievements, Steam Trad...  None           1.0   \n",
       "\n",
       "        item_id developer  is_equal release_year  \n",
       "13427  710190.0    一次元创作组      True         5275  "
      ]
     },
     "execution_count": 22,
     "metadata": {},
     "output_type": "execute_result"
    }
   ],
   "source": [
    "df_games[df_games['release_year'] == \"5275\"]"
   ]
  },
  {
   "cell_type": "code",
   "execution_count": 23,
   "id": "d4a453dcf046096",
   "metadata": {
    "ExecuteTime": {
     "end_time": "2024-03-12T04:19:13.538495Z",
     "start_time": "2024-03-12T04:19:13.518025Z"
    }
   },
   "outputs": [
    {
     "data": {
      "text/plain": [
       "array(['2018', '2017', 'unknown', '1997', '1998', '2016', '2006', '2005',\n",
       "       '2003', '2007', '2002', '2000', '1995', '1996', '1994', '2001',\n",
       "       '1993', '2004', '1999', '2008', '2009', '1992', '1989', '2010',\n",
       "       '2011', '2013', '2012', '2014', '1983', '1984', '2015', '1990',\n",
       "       '1988', '1991', '1985', '1982', '1987', '1981', '1986', '2021',\n",
       "       '2019', '1975', '1970', '1980'], dtype=object)"
      ]
     },
     "execution_count": 23,
     "metadata": {},
     "output_type": "execute_result"
    }
   ],
   "source": [
    "df_games['release_year'] = df_games['release_year'].replace('5275', 'unknown')\n",
    "df_games['release_year'].unique()"
   ]
  },
  {
   "cell_type": "markdown",
   "id": "6646a209d62f137c",
   "metadata": {},
   "source": [
    "#### Columnas de Precio\n",
    "- Gestión de nulos"
   ]
  },
  {
   "cell_type": "code",
   "execution_count": 24,
   "id": "b44fc6625b6e8080",
   "metadata": {
    "ExecuteTime": {
     "end_time": "2024-03-12T04:19:13.565206Z",
     "start_time": "2024-03-12T04:19:13.541252Z"
    }
   },
   "outputs": [
    {
     "data": {
      "text/html": [
       "<div>\n",
       "<style scoped>\n",
       "    .dataframe tbody tr th:only-of-type {\n",
       "        vertical-align: middle;\n",
       "    }\n",
       "\n",
       "    .dataframe tbody tr th {\n",
       "        vertical-align: top;\n",
       "    }\n",
       "\n",
       "    .dataframe thead th {\n",
       "        text-align: right;\n",
       "    }\n",
       "</style>\n",
       "<table border=\"1\" class=\"dataframe\">\n",
       "  <thead>\n",
       "    <tr style=\"text-align: right;\">\n",
       "      <th></th>\n",
       "      <th>price</th>\n",
       "      <th>genres</th>\n",
       "      <th>tags</th>\n",
       "    </tr>\n",
       "  </thead>\n",
       "  <tbody>\n",
       "    <tr>\n",
       "      <th>26461</th>\n",
       "      <td>None</td>\n",
       "      <td>[Indie, RPG, Strategy]</td>\n",
       "      <td>[Strategy, RPG, Indie]</td>\n",
       "    </tr>\n",
       "    <tr>\n",
       "      <th>20119</th>\n",
       "      <td>None</td>\n",
       "      <td>[Action, Adventure, Casual, Indie, Simulation,...</td>\n",
       "      <td>[Adventure, Casual, Indie, Simulation, Strateg...</td>\n",
       "    </tr>\n",
       "    <tr>\n",
       "      <th>28660</th>\n",
       "      <td>None</td>\n",
       "      <td>[Action, Casual, Indie, RPG]</td>\n",
       "      <td>[RPG, Indie, Casual, Action]</td>\n",
       "    </tr>\n",
       "    <tr>\n",
       "      <th>3268</th>\n",
       "      <td>None</td>\n",
       "      <td>[Action, Indie, Strategy]</td>\n",
       "      <td>[Strategy, Action, Indie]</td>\n",
       "    </tr>\n",
       "    <tr>\n",
       "      <th>26213</th>\n",
       "      <td>None</td>\n",
       "      <td>[Action, Adventure, Indie, Simulation]</td>\n",
       "      <td>[Adventure, Indie, Simulation, Action]</td>\n",
       "    </tr>\n",
       "    <tr>\n",
       "      <th>29714</th>\n",
       "      <td>None</td>\n",
       "      <td>[Strategy]</td>\n",
       "      <td>[Strategy]</td>\n",
       "    </tr>\n",
       "    <tr>\n",
       "      <th>4128</th>\n",
       "      <td>None</td>\n",
       "      <td>[Indie, RPG, Sports, Strategy, Early Access]</td>\n",
       "      <td>[Early Access, Sports, Strategy, RPG, Indie]</td>\n",
       "    </tr>\n",
       "    <tr>\n",
       "      <th>31245</th>\n",
       "      <td>None</td>\n",
       "      <td>[Casual, Indie, Simulation]</td>\n",
       "      <td>[Simulation, Sandbox, Space, Physics, Science,...</td>\n",
       "    </tr>\n",
       "    <tr>\n",
       "      <th>24950</th>\n",
       "      <td>None</td>\n",
       "      <td>[Adventure, RPG]</td>\n",
       "      <td>[Adventure, RPG]</td>\n",
       "    </tr>\n",
       "    <tr>\n",
       "      <th>23322</th>\n",
       "      <td>None</td>\n",
       "      <td>[Casual, Indie]</td>\n",
       "      <td>[Indie, Casual]</td>\n",
       "    </tr>\n",
       "  </tbody>\n",
       "</table>\n",
       "</div>"
      ],
      "text/plain": [
       "      price                                             genres  \\\n",
       "26461  None                             [Indie, RPG, Strategy]   \n",
       "20119  None  [Action, Adventure, Casual, Indie, Simulation,...   \n",
       "28660  None                       [Action, Casual, Indie, RPG]   \n",
       "3268   None                          [Action, Indie, Strategy]   \n",
       "26213  None             [Action, Adventure, Indie, Simulation]   \n",
       "29714  None                                         [Strategy]   \n",
       "4128   None       [Indie, RPG, Sports, Strategy, Early Access]   \n",
       "31245  None                        [Casual, Indie, Simulation]   \n",
       "24950  None                                   [Adventure, RPG]   \n",
       "23322  None                                    [Casual, Indie]   \n",
       "\n",
       "                                                    tags  \n",
       "26461                             [Strategy, RPG, Indie]  \n",
       "20119  [Adventure, Casual, Indie, Simulation, Strateg...  \n",
       "28660                       [RPG, Indie, Casual, Action]  \n",
       "3268                           [Strategy, Action, Indie]  \n",
       "26213             [Adventure, Indie, Simulation, Action]  \n",
       "29714                                         [Strategy]  \n",
       "4128        [Early Access, Sports, Strategy, RPG, Indie]  \n",
       "31245  [Simulation, Sandbox, Space, Physics, Science,...  \n",
       "24950                                   [Adventure, RPG]  \n",
       "23322                                    [Indie, Casual]  "
      ]
     },
     "execution_count": 24,
     "metadata": {},
     "output_type": "execute_result"
    }
   ],
   "source": [
    "df_games[df_games['price'].isnull()][['price','genres', 'tags']].sample(10)"
   ]
  },
  {
   "cell_type": "code",
   "execution_count": 25,
   "id": "61df972aa3d5eaf5",
   "metadata": {
    "ExecuteTime": {
     "end_time": "2024-03-12T04:19:13.578060Z",
     "start_time": "2024-03-12T04:19:13.568419Z"
    }
   },
   "outputs": [
    {
     "data": {
      "text/plain": [
       "1377"
      ]
     },
     "execution_count": 25,
     "metadata": {},
     "output_type": "execute_result"
    }
   ],
   "source": [
    "df_games.price.isnull().sum()"
   ]
  },
  {
   "cell_type": "code",
   "execution_count": 26,
   "id": "7267c924e519abe5",
   "metadata": {
    "ExecuteTime": {
     "end_time": "2024-03-12T04:19:13.696910Z",
     "start_time": "2024-03-12T04:19:13.581214Z"
    }
   },
   "outputs": [],
   "source": [
    "# Crea una función para comprobar si un juego es gratis\n",
    "def check_free(val):\n",
    "    if isinstance(val, list):\n",
    "        for item in val:\n",
    "            if 'free' in item.lower():\n",
    "                return True\n",
    "    return False\n",
    "\n",
    "\n",
    "# Aplicamos la función a cada fila del DataFrame\n",
    "df_games['is_free'] = df_games['genres'].apply(check_free) | df_games['tags'].apply(check_free) | df_games['specs'].apply(check_free)\n",
    "\n",
    "# Si un juego es gratuito y su precio es 'NaN', establece su precio en 0\n",
    "df_games.loc[(df_games['is_free'] == True) & (df_games['price'].isnull()), 'price'] = 0\n",
    "\n",
    "# Eliminamos la columna temporal 'is_free'\n",
    "df_games.drop('is_free', axis=1, inplace=True)"
   ]
  },
  {
   "cell_type": "markdown",
   "id": "a436aec49065852d",
   "metadata": {},
   "source": [
    "Observamos que la cantidad de valores nulos ha disminuido, por lo que podemos concluir que teníamos varios juegos gratuitos con precios nulos, pero aún nos falta asignarle precio 0 a los juegos cuyo precio indica que es 'free' en la columna price."
   ]
  },
  {
   "cell_type": "code",
   "execution_count": 27,
   "id": "23ff15bd00a25a98",
   "metadata": {
    "ExecuteTime": {
     "end_time": "2024-03-12T04:19:13.708984Z",
     "start_time": "2024-03-12T04:19:13.700095Z"
    }
   },
   "outputs": [
    {
     "data": {
      "text/plain": [
       "1172"
      ]
     },
     "execution_count": 27,
     "metadata": {},
     "output_type": "execute_result"
    }
   ],
   "source": [
    "df_games.price.isnull().sum()"
   ]
  },
  {
   "cell_type": "code",
   "execution_count": 28,
   "id": "19586c08302fd1f9",
   "metadata": {
    "ExecuteTime": {
     "end_time": "2024-03-12T04:19:13.732484Z",
     "start_time": "2024-03-12T04:19:13.715856Z"
    }
   },
   "outputs": [],
   "source": [
    "def replace_free_with_zero(val):\n",
    "    if isinstance(val, str) and 'free' in val.lower():\n",
    "        return 0\n",
    "    return val\n",
    "\n",
    "# Solo aplica la función a la columna 'price'\n",
    "df_games['price'] = df_games['price'].apply(replace_free_with_zero)"
   ]
  },
  {
   "cell_type": "code",
   "execution_count": 29,
   "id": "a8d0ba322cf3af41",
   "metadata": {
    "ExecuteTime": {
     "end_time": "2024-03-12T04:19:13.747415Z",
     "start_time": "2024-03-12T04:19:13.736231Z"
    }
   },
   "outputs": [
    {
     "data": {
      "text/plain": [
       "array([4.99, 0, 0.99, 2.99, 3.99, 9.99, 18.99, 29.99, None, 10.99,\n",
       "       1.5899999999999999, 14.99, 1.99, 59.99, 8.99, 6.99, 7.99, 39.99,\n",
       "       19.99, 7.49, 12.99, 5.99, 2.49, 15.99, 1.25, 24.99, 17.99, 61.99,\n",
       "       3.49, 11.99, 13.99, 34.99, 74.76, 1.49, 32.99, 99.99, 14.95, 69.99,\n",
       "       16.99, 79.99, 49.99, 5.0, 44.99, 13.98, 29.96, 119.99, 109.99,\n",
       "       149.99, 771.71, 'Install Now', 21.99, 89.99,\n",
       "       'Play WARMACHINE: Tactics Demo', 0.98, 139.92, 4.29, 64.99, 54.99,\n",
       "       74.99, 'Install Theme', 0.89, 'Third-party', 0.5, 'Play Now',\n",
       "       299.99, 1.29, 3.0, 15.0, 5.49, 23.99, 49.0, 20.99, 10.93,\n",
       "       1.3900000000000001, 36.99, 4.49, 2.0, 4.0, 9.0, 234.99,\n",
       "       1.9500000000000002, 1.5, 199.0, 189.0, 6.66, 27.99, 10.49, 129.99,\n",
       "       179.0, 26.99, 399.99, 31.99, 399.0, 20.0, 40.0, 3.33, 199.99,\n",
       "       22.99, 320.0, 38.85, 71.7, 59.95, 995.0, 27.49, 3.39, 6.0, 19.95,\n",
       "       499.99, 16.06, 4.68, 131.4, 44.98, 202.76, 1.0, 2.3,\n",
       "       0.9500000000000001, 172.24, 249.99, 2.9699999999999998, 10.96,\n",
       "       10.0, 30.0, 2.66, 6.48, 19.29, 11.15, 18.9, 2.89, 'Play the Demo',\n",
       "       99.0, 87.94, 599.0, 8.98, 9.69, 0.49, 9.98, 9.95, 7.0,\n",
       "       'Starting at $499.00', 'Starting at $449.00', 12.89, 6.49, 1.87,\n",
       "       42.99, 41.99, 289.99, 23.96, 5.65, 12.0, 13.37, 189.96, 124.99,\n",
       "       19.98, 160.91], dtype=object)"
      ]
     },
     "execution_count": 29,
     "metadata": {},
     "output_type": "execute_result"
    }
   ],
   "source": [
    "df_games['price'].unique()"
   ]
  },
  {
   "cell_type": "code",
   "execution_count": 30,
   "id": "6516f7a7e55d489a",
   "metadata": {
    "ExecuteTime": {
     "end_time": "2024-03-12T04:19:13.784748Z",
     "start_time": "2024-03-12T04:19:13.750271Z"
    }
   },
   "outputs": [
    {
     "data": {
      "text/html": [
       "<div>\n",
       "<style scoped>\n",
       "    .dataframe tbody tr th:only-of-type {\n",
       "        vertical-align: middle;\n",
       "    }\n",
       "\n",
       "    .dataframe tbody tr th {\n",
       "        vertical-align: top;\n",
       "    }\n",
       "\n",
       "    .dataframe thead th {\n",
       "        text-align: right;\n",
       "    }\n",
       "</style>\n",
       "<table border=\"1\" class=\"dataframe\">\n",
       "  <thead>\n",
       "    <tr style=\"text-align: right;\">\n",
       "      <th></th>\n",
       "      <th>publisher</th>\n",
       "      <th>genres</th>\n",
       "      <th>item_name</th>\n",
       "      <th>title</th>\n",
       "      <th>url</th>\n",
       "      <th>release_date</th>\n",
       "      <th>tags</th>\n",
       "      <th>reviews_url</th>\n",
       "      <th>specs</th>\n",
       "      <th>price</th>\n",
       "      <th>early_access</th>\n",
       "      <th>item_id</th>\n",
       "      <th>developer</th>\n",
       "      <th>is_equal</th>\n",
       "      <th>release_year</th>\n",
       "    </tr>\n",
       "  </thead>\n",
       "  <tbody>\n",
       "    <tr>\n",
       "      <th>2404</th>\n",
       "      <td>EVGA</td>\n",
       "      <td>[Utilities]</td>\n",
       "      <td>EVGA Precision XOC</td>\n",
       "      <td>EVGA Precision XOC</td>\n",
       "      <td>http://store.steampowered.com/app/268850/EVGA_...</td>\n",
       "      <td>2014-09-19</td>\n",
       "      <td>[Utilities, Software, Free to Play]</td>\n",
       "      <td>http://steamcommunity.com/app/268850/reviews/?...</td>\n",
       "      <td>[Single-player, Steam Achievements]</td>\n",
       "      <td>Install Now</td>\n",
       "      <td>0.0</td>\n",
       "      <td>268850.0</td>\n",
       "      <td>EVGA</td>\n",
       "      <td>True</td>\n",
       "      <td>2014</td>\n",
       "    </tr>\n",
       "    <tr>\n",
       "      <th>2870</th>\n",
       "      <td>Privateer Press Interactive</td>\n",
       "      <td>[Indie, Strategy]</td>\n",
       "      <td>WARMACHINE: Tactics</td>\n",
       "      <td>WARMACHINE: Tactics</td>\n",
       "      <td>http://store.steampowered.com/app/253510/WARMA...</td>\n",
       "      <td>2014-11-20</td>\n",
       "      <td>[Strategy, Turn-Based, Turn-Based Strategy, St...</td>\n",
       "      <td>http://steamcommunity.com/app/253510/reviews/?...</td>\n",
       "      <td>[Single-player, Multi-player, Cross-Platform M...</td>\n",
       "      <td>Play WARMACHINE: Tactics Demo</td>\n",
       "      <td>0.0</td>\n",
       "      <td>253510.0</td>\n",
       "      <td>WhiteMoon Dreams</td>\n",
       "      <td>True</td>\n",
       "      <td>2014</td>\n",
       "    </tr>\n",
       "    <tr>\n",
       "      <th>3831</th>\n",
       "      <td>unknown</td>\n",
       "      <td>[Adventure, Casual, Indie, RPG, Simulation]</td>\n",
       "      <td>FREE China Theme Pack</td>\n",
       "      <td>FREE China Theme Pack</td>\n",
       "      <td>http://store.steampowered.com/app/370880/FREE_...</td>\n",
       "      <td>2015-06-10</td>\n",
       "      <td>[Adventure, RPG, Indie, Casual, Simulation]</td>\n",
       "      <td>http://steamcommunity.com/app/370880/reviews/?...</td>\n",
       "      <td>[Single-player, Downloadable Content, Steam Ac...</td>\n",
       "      <td>Install Theme</td>\n",
       "      <td>0.0</td>\n",
       "      <td>370880.0</td>\n",
       "      <td>Stolen Couch Games</td>\n",
       "      <td>True</td>\n",
       "      <td>2015</td>\n",
       "    </tr>\n",
       "    <tr>\n",
       "      <th>3917</th>\n",
       "      <td>unknown</td>\n",
       "      <td>[Indie]</td>\n",
       "      <td>Parcel - Soundtrack</td>\n",
       "      <td>Parcel - Soundtrack</td>\n",
       "      <td>http://store.steampowered.com/app/362970/Parce...</td>\n",
       "      <td>2015-07-02</td>\n",
       "      <td>[Indie]</td>\n",
       "      <td>http://steamcommunity.com/app/362970/reviews/?...</td>\n",
       "      <td>[Single-player, Shared/Split Screen, Downloada...</td>\n",
       "      <td>Third-party</td>\n",
       "      <td>0.0</td>\n",
       "      <td>362970.0</td>\n",
       "      <td>Polar Bunny Ltd</td>\n",
       "      <td>True</td>\n",
       "      <td>2015</td>\n",
       "    </tr>\n",
       "    <tr>\n",
       "      <th>4025</th>\n",
       "      <td>DigitalEZ</td>\n",
       "      <td>[Casual, Indie]</td>\n",
       "      <td>Oblivious Garden ~White Day</td>\n",
       "      <td>Oblivious Garden ~White Day</td>\n",
       "      <td>http://store.steampowered.com/app/345040/Obliv...</td>\n",
       "      <td>2015-07-20</td>\n",
       "      <td>[Casual, Indie]</td>\n",
       "      <td>http://steamcommunity.com/app/345040/reviews/?...</td>\n",
       "      <td>[Single-player, Downloadable Content, Steam Ac...</td>\n",
       "      <td>Play Now</td>\n",
       "      <td>0.0</td>\n",
       "      <td>345040.0</td>\n",
       "      <td>CorypheeSoft,DigitalEZ</td>\n",
       "      <td>True</td>\n",
       "      <td>2015</td>\n",
       "    </tr>\n",
       "    <tr>\n",
       "      <th>22733</th>\n",
       "      <td>Boomzap Entertainment</td>\n",
       "      <td>[Strategy]</td>\n",
       "      <td>Legends of Callasia</td>\n",
       "      <td>Legends of Callasia</td>\n",
       "      <td>http://store.steampowered.com/app/438920/Legen...</td>\n",
       "      <td>2016-06-10</td>\n",
       "      <td>[Strategy, Wargame, Fantasy, Multiplayer, Turn...</td>\n",
       "      <td>http://steamcommunity.com/app/438920/reviews/?...</td>\n",
       "      <td>[Single-player, Multi-player, Online Multi-Pla...</td>\n",
       "      <td>Play the Demo</td>\n",
       "      <td>0.0</td>\n",
       "      <td>438920.0</td>\n",
       "      <td>Boomzap Entertainment</td>\n",
       "      <td>True</td>\n",
       "      <td>2016</td>\n",
       "    </tr>\n",
       "    <tr>\n",
       "      <th>24999</th>\n",
       "      <td>unknown</td>\n",
       "      <td>None</td>\n",
       "      <td>Syber Steam Machine</td>\n",
       "      <td>Syber Steam Machine</td>\n",
       "      <td>http://store.steampowered.com/app/353420/Syber...</td>\n",
       "      <td>2015-11-10</td>\n",
       "      <td>[Steam Machine, Hardware]</td>\n",
       "      <td>http://steamcommunity.com/app/353420/reviews/?...</td>\n",
       "      <td>None</td>\n",
       "      <td>Starting at $499.00</td>\n",
       "      <td>0.0</td>\n",
       "      <td>353420.0</td>\n",
       "      <td>unknown</td>\n",
       "      <td>True</td>\n",
       "      <td>2015</td>\n",
       "    </tr>\n",
       "    <tr>\n",
       "      <th>25000</th>\n",
       "      <td>unknown</td>\n",
       "      <td>None</td>\n",
       "      <td>Alienware Steam Machine</td>\n",
       "      <td>Alienware Steam Machine</td>\n",
       "      <td>http://store.steampowered.com/app/353390/Alien...</td>\n",
       "      <td>2015-11-10</td>\n",
       "      <td>[Steam Machine, Hardware, Gaming, Futuristic, ...</td>\n",
       "      <td>http://steamcommunity.com/app/353390/reviews/?...</td>\n",
       "      <td>None</td>\n",
       "      <td>Starting at $449.00</td>\n",
       "      <td>0.0</td>\n",
       "      <td>353390.0</td>\n",
       "      <td>unknown</td>\n",
       "      <td>True</td>\n",
       "      <td>2015</td>\n",
       "    </tr>\n",
       "    <tr>\n",
       "      <th>26216</th>\n",
       "      <td>unknown</td>\n",
       "      <td>[Adventure, Casual, Indie, Simulation]</td>\n",
       "      <td>Area-X - Extra Gallery</td>\n",
       "      <td>Area-X - Extra Gallery</td>\n",
       "      <td>http://store.steampowered.com/app/383860/AreaX...</td>\n",
       "      <td>2015-06-24</td>\n",
       "      <td>[Adventure, Indie, Casual, Simulation]</td>\n",
       "      <td>http://steamcommunity.com/app/383860/reviews/?...</td>\n",
       "      <td>[Single-player, Downloadable Content]</td>\n",
       "      <td>Play Now</td>\n",
       "      <td>0.0</td>\n",
       "      <td>383860.0</td>\n",
       "      <td>Zeiva Inc</td>\n",
       "      <td>True</td>\n",
       "      <td>2015</td>\n",
       "    </tr>\n",
       "    <tr>\n",
       "      <th>31836</th>\n",
       "      <td>PopCap Games, Inc.</td>\n",
       "      <td>[Casual]</td>\n",
       "      <td>Peggle Extreme</td>\n",
       "      <td>Peggle Extreme</td>\n",
       "      <td>http://store.steampowered.com/app/3483/Peggle_...</td>\n",
       "      <td>2007-09-11</td>\n",
       "      <td>[Casual, Puzzle, Free to Play, Action]</td>\n",
       "      <td>http://steamcommunity.com/app/3483/reviews/?br...</td>\n",
       "      <td>[Single-player]</td>\n",
       "      <td>Third-party</td>\n",
       "      <td>0.0</td>\n",
       "      <td>3483.0</td>\n",
       "      <td>PopCap Games, Inc.</td>\n",
       "      <td>True</td>\n",
       "      <td>2007</td>\n",
       "    </tr>\n",
       "  </tbody>\n",
       "</table>\n",
       "</div>"
      ],
      "text/plain": [
       "                         publisher  \\\n",
       "2404                          EVGA   \n",
       "2870   Privateer Press Interactive   \n",
       "3831                       unknown   \n",
       "3917                       unknown   \n",
       "4025                     DigitalEZ   \n",
       "22733        Boomzap Entertainment   \n",
       "24999                      unknown   \n",
       "25000                      unknown   \n",
       "26216                      unknown   \n",
       "31836           PopCap Games, Inc.   \n",
       "\n",
       "                                            genres  \\\n",
       "2404                                   [Utilities]   \n",
       "2870                             [Indie, Strategy]   \n",
       "3831   [Adventure, Casual, Indie, RPG, Simulation]   \n",
       "3917                                       [Indie]   \n",
       "4025                               [Casual, Indie]   \n",
       "22733                                   [Strategy]   \n",
       "24999                                         None   \n",
       "25000                                         None   \n",
       "26216       [Adventure, Casual, Indie, Simulation]   \n",
       "31836                                     [Casual]   \n",
       "\n",
       "                         item_name                        title  \\\n",
       "2404            EVGA Precision XOC           EVGA Precision XOC   \n",
       "2870           WARMACHINE: Tactics          WARMACHINE: Tactics   \n",
       "3831         FREE China Theme Pack        FREE China Theme Pack   \n",
       "3917           Parcel - Soundtrack          Parcel - Soundtrack   \n",
       "4025   Oblivious Garden ~White Day  Oblivious Garden ~White Day   \n",
       "22733          Legends of Callasia          Legends of Callasia   \n",
       "24999          Syber Steam Machine          Syber Steam Machine   \n",
       "25000      Alienware Steam Machine      Alienware Steam Machine   \n",
       "26216       Area-X - Extra Gallery       Area-X - Extra Gallery   \n",
       "31836               Peggle Extreme               Peggle Extreme   \n",
       "\n",
       "                                                     url release_date  \\\n",
       "2404   http://store.steampowered.com/app/268850/EVGA_...   2014-09-19   \n",
       "2870   http://store.steampowered.com/app/253510/WARMA...   2014-11-20   \n",
       "3831   http://store.steampowered.com/app/370880/FREE_...   2015-06-10   \n",
       "3917   http://store.steampowered.com/app/362970/Parce...   2015-07-02   \n",
       "4025   http://store.steampowered.com/app/345040/Obliv...   2015-07-20   \n",
       "22733  http://store.steampowered.com/app/438920/Legen...   2016-06-10   \n",
       "24999  http://store.steampowered.com/app/353420/Syber...   2015-11-10   \n",
       "25000  http://store.steampowered.com/app/353390/Alien...   2015-11-10   \n",
       "26216  http://store.steampowered.com/app/383860/AreaX...   2015-06-24   \n",
       "31836  http://store.steampowered.com/app/3483/Peggle_...   2007-09-11   \n",
       "\n",
       "                                                    tags  \\\n",
       "2404                 [Utilities, Software, Free to Play]   \n",
       "2870   [Strategy, Turn-Based, Turn-Based Strategy, St...   \n",
       "3831         [Adventure, RPG, Indie, Casual, Simulation]   \n",
       "3917                                             [Indie]   \n",
       "4025                                     [Casual, Indie]   \n",
       "22733  [Strategy, Wargame, Fantasy, Multiplayer, Turn...   \n",
       "24999                          [Steam Machine, Hardware]   \n",
       "25000  [Steam Machine, Hardware, Gaming, Futuristic, ...   \n",
       "26216             [Adventure, Indie, Casual, Simulation]   \n",
       "31836             [Casual, Puzzle, Free to Play, Action]   \n",
       "\n",
       "                                             reviews_url  \\\n",
       "2404   http://steamcommunity.com/app/268850/reviews/?...   \n",
       "2870   http://steamcommunity.com/app/253510/reviews/?...   \n",
       "3831   http://steamcommunity.com/app/370880/reviews/?...   \n",
       "3917   http://steamcommunity.com/app/362970/reviews/?...   \n",
       "4025   http://steamcommunity.com/app/345040/reviews/?...   \n",
       "22733  http://steamcommunity.com/app/438920/reviews/?...   \n",
       "24999  http://steamcommunity.com/app/353420/reviews/?...   \n",
       "25000  http://steamcommunity.com/app/353390/reviews/?...   \n",
       "26216  http://steamcommunity.com/app/383860/reviews/?...   \n",
       "31836  http://steamcommunity.com/app/3483/reviews/?br...   \n",
       "\n",
       "                                                   specs  \\\n",
       "2404                 [Single-player, Steam Achievements]   \n",
       "2870   [Single-player, Multi-player, Cross-Platform M...   \n",
       "3831   [Single-player, Downloadable Content, Steam Ac...   \n",
       "3917   [Single-player, Shared/Split Screen, Downloada...   \n",
       "4025   [Single-player, Downloadable Content, Steam Ac...   \n",
       "22733  [Single-player, Multi-player, Online Multi-Pla...   \n",
       "24999                                               None   \n",
       "25000                                               None   \n",
       "26216              [Single-player, Downloadable Content]   \n",
       "31836                                    [Single-player]   \n",
       "\n",
       "                               price  early_access   item_id  \\\n",
       "2404                     Install Now           0.0  268850.0   \n",
       "2870   Play WARMACHINE: Tactics Demo           0.0  253510.0   \n",
       "3831                   Install Theme           0.0  370880.0   \n",
       "3917                     Third-party           0.0  362970.0   \n",
       "4025                        Play Now           0.0  345040.0   \n",
       "22733                  Play the Demo           0.0  438920.0   \n",
       "24999            Starting at $499.00           0.0  353420.0   \n",
       "25000            Starting at $449.00           0.0  353390.0   \n",
       "26216                       Play Now           0.0  383860.0   \n",
       "31836                    Third-party           0.0    3483.0   \n",
       "\n",
       "                    developer  is_equal release_year  \n",
       "2404                     EVGA      True         2014  \n",
       "2870         WhiteMoon Dreams      True         2014  \n",
       "3831       Stolen Couch Games      True         2015  \n",
       "3917          Polar Bunny Ltd      True         2015  \n",
       "4025   CorypheeSoft,DigitalEZ      True         2015  \n",
       "22733   Boomzap Entertainment      True         2016  \n",
       "24999                 unknown      True         2015  \n",
       "25000                 unknown      True         2015  \n",
       "26216               Zeiva Inc      True         2015  \n",
       "31836      PopCap Games, Inc.      True         2007  "
      ]
     },
     "execution_count": 30,
     "metadata": {},
     "output_type": "execute_result"
    }
   ],
   "source": [
    "non_price_values = ['Install Now', 'Play WARMACHINE: Tactics Demo', 'Install Theme', 'Third-party', 'Play Now', 'Play the Demo', 'Starting at $499.00', 'Starting at $449.00']\n",
    "df_games[df_games['price'].isin(non_price_values)]"
   ]
  },
  {
   "cell_type": "markdown",
   "id": "595ea0b9b20521fb",
   "metadata": {},
   "source": [
    "Transformamos los valores que no representan un precio en 0."
   ]
  },
  {
   "cell_type": "markdown",
   "id": "78601406bdd23ab4",
   "metadata": {},
   "source": []
  },
  {
   "cell_type": "code",
   "execution_count": 31,
   "id": "d31796ffc4f84f47",
   "metadata": {
    "ExecuteTime": {
     "end_time": "2024-03-12T04:19:13.806774Z",
     "start_time": "2024-03-12T04:19:13.788089Z"
    }
   },
   "outputs": [],
   "source": [
    "df_games.loc[df_games['price'] == 'Starting at $499.00', 'price'] = 499\n",
    "df_games.loc[df_games['price'] == 'Starting at $449.00', 'price'] = 449\n",
    "non_price_values = ['Install Now', 'Play WARMACHINE: Tactics Demo', 'Install Theme', 'Third-party', 'Play Now', 'Play the Demo']\n",
    "df_games.loc[df_games['price'].isin(non_price_values), 'price'] = 0"
   ]
  },
  {
   "cell_type": "markdown",
   "id": "572259cd7503a650",
   "metadata": {},
   "source": [
    "Se calcula la media, la moda y la mediana de la columna price para imputar los nulos restantes."
   ]
  },
  {
   "cell_type": "code",
   "execution_count": 32,
   "id": "dfddbb71a1532894",
   "metadata": {
    "ExecuteTime": {
     "end_time": "2024-03-12T04:19:13.831692Z",
     "start_time": "2024-03-12T04:19:13.810259Z"
    }
   },
   "outputs": [
    {
     "name": "stdout",
     "output_type": "stream",
     "text": [
      "La media de los precios de juegos Steam es 8.84\n",
      "La moda de los precios de juegos Steam es 4.99\n",
      "La mediana de los precios de juegos Steam es 4.99\n"
     ]
    }
   ],
   "source": [
    "media = df_games['price'].mean()\n",
    "moda = df_games['price'].mode()[0]\n",
    "mediana = df_games['price'].median()\n",
    "\n",
    "print(f\"La media de los precios de juegos Steam es {media:.2f}\")\n",
    "print(f\"La moda de los precios de juegos Steam es {moda:.2f}\")\n",
    "print(f\"La mediana de los precios de juegos Steam es {mediana:.2f}\")"
   ]
  },
  {
   "cell_type": "markdown",
   "id": "720dfc722a60cf55",
   "metadata": {},
   "source": [
    "Inputamos los nulos con la mediana."
   ]
  },
  {
   "cell_type": "code",
   "execution_count": 33,
   "id": "3d7c96daeeed9ee0",
   "metadata": {
    "ExecuteTime": {
     "end_time": "2024-03-12T04:19:13.897630Z",
     "start_time": "2024-03-12T04:19:13.835641Z"
    }
   },
   "outputs": [
    {
     "name": "stderr",
     "output_type": "stream",
     "text": [
      "/tmp/ipykernel_446/4128492194.py:1: FutureWarning: A value is trying to be set on a copy of a DataFrame or Series through chained assignment using an inplace method.\n",
      "The behavior will change in pandas 3.0. This inplace method will never work because the intermediate object on which we are setting values always behaves as a copy.\n",
      "\n",
      "For example, when doing 'df[col].method(value, inplace=True)', try using 'df.method({col: value}, inplace=True)' or df[col] = df[col].method(value) instead, to perform the operation inplace on the original object.\n",
      "\n",
      "\n",
      "  df_games['price'].fillna(df_games['price'].median(), inplace=True)\n",
      "/tmp/ipykernel_446/4128492194.py:1: FutureWarning: Downcasting object dtype arrays on .fillna, .ffill, .bfill is deprecated and will change in a future version. Call result.infer_objects(copy=False) instead. To opt-in to the future behavior, set `pd.set_option('future.no_silent_downcasting', True)`\n",
      "  df_games['price'].fillna(df_games['price'].median(), inplace=True)\n"
     ]
    },
    {
     "data": {
      "text/plain": [
       "publisher          0\n",
       "genres          3282\n",
       "item_name          0\n",
       "title              0\n",
       "url                0\n",
       "release_date    2066\n",
       "tags             162\n",
       "reviews_url        0\n",
       "specs            669\n",
       "price              0\n",
       "early_access       0\n",
       "item_id            0\n",
       "developer          0\n",
       "is_equal           0\n",
       "release_year       0\n",
       "dtype: int64"
      ]
     },
     "execution_count": 33,
     "metadata": {},
     "output_type": "execute_result"
    }
   ],
   "source": [
    "df_games['price'].fillna(df_games['price'].median(), inplace=True)\n",
    "df_games.isnull().sum()"
   ]
  },
  {
   "cell_type": "markdown",
   "id": "944755f732d66a1a",
   "metadata": {},
   "source": []
  },
  {
   "cell_type": "markdown",
   "id": "1ce7b16e97b54e9c",
   "metadata": {},
   "source": [
    "#### Columnas de Generos, Tags y Especificaciones\n",
    "- Gestión de nulos"
   ]
  },
  {
   "cell_type": "code",
   "execution_count": 34,
   "id": "fa4dd6add93be881",
   "metadata": {
    "ExecuteTime": {
     "end_time": "2024-03-12T04:19:13.932181Z",
     "start_time": "2024-03-12T04:19:13.900538Z"
    }
   },
   "outputs": [
    {
     "data": {
      "text/html": [
       "<div>\n",
       "<style scoped>\n",
       "    .dataframe tbody tr th:only-of-type {\n",
       "        vertical-align: middle;\n",
       "    }\n",
       "\n",
       "    .dataframe tbody tr th {\n",
       "        vertical-align: top;\n",
       "    }\n",
       "\n",
       "    .dataframe thead th {\n",
       "        text-align: right;\n",
       "    }\n",
       "</style>\n",
       "<table border=\"1\" class=\"dataframe\">\n",
       "  <thead>\n",
       "    <tr style=\"text-align: right;\">\n",
       "      <th></th>\n",
       "      <th>genres</th>\n",
       "      <th>tags</th>\n",
       "      <th>specs</th>\n",
       "    </tr>\n",
       "  </thead>\n",
       "  <tbody>\n",
       "    <tr>\n",
       "      <th>21327</th>\n",
       "      <td>None</td>\n",
       "      <td>[Indie, VR, Rhythm, Music]</td>\n",
       "      <td>[Single-player, HTC Vive, Oculus Rift, Tracked...</td>\n",
       "    </tr>\n",
       "    <tr>\n",
       "      <th>7611</th>\n",
       "      <td>None</td>\n",
       "      <td>[Action, Adventure, Simulation, VR]</td>\n",
       "      <td>[Single-player, Full controller support, HTC V...</td>\n",
       "    </tr>\n",
       "    <tr>\n",
       "      <th>23400</th>\n",
       "      <td>None</td>\n",
       "      <td>[Movie, Satire, Comedy, Music, Documentary]</td>\n",
       "      <td>[Captions available]</td>\n",
       "    </tr>\n",
       "    <tr>\n",
       "      <th>8452</th>\n",
       "      <td>None</td>\n",
       "      <td>[Indie, Casual, VR]</td>\n",
       "      <td>[Single-player, Multi-player, Local Multi-Play...</td>\n",
       "    </tr>\n",
       "    <tr>\n",
       "      <th>18118</th>\n",
       "      <td>None</td>\n",
       "      <td>[Casual, Simulation, Strategy, Adventure, Indi...</td>\n",
       "      <td>[Single-player, Full controller support, HTC V...</td>\n",
       "    </tr>\n",
       "    <tr>\n",
       "      <th>4745</th>\n",
       "      <td>None</td>\n",
       "      <td>[Tutorial, Design &amp; Illustration]</td>\n",
       "      <td>None</td>\n",
       "    </tr>\n",
       "    <tr>\n",
       "      <th>19691</th>\n",
       "      <td>None</td>\n",
       "      <td>[Adventure, Indie, Casual, Action, Strategy, V...</td>\n",
       "      <td>[Single-player, Steam Trading Cards, HTC Vive,...</td>\n",
       "    </tr>\n",
       "    <tr>\n",
       "      <th>8947</th>\n",
       "      <td>None</td>\n",
       "      <td>[Early Access, Design &amp; Illustration]</td>\n",
       "      <td>[Includes level editor, HTC Vive, Tracked Moti...</td>\n",
       "    </tr>\n",
       "    <tr>\n",
       "      <th>4017</th>\n",
       "      <td>None</td>\n",
       "      <td>[Drama, Movie, Comedy, Indie]</td>\n",
       "      <td>None</td>\n",
       "    </tr>\n",
       "    <tr>\n",
       "      <th>8290</th>\n",
       "      <td>None</td>\n",
       "      <td>[Early Access, Action, Simulation, Indie, Casu...</td>\n",
       "      <td>[Single-player, Multi-player, Online Multi-Pla...</td>\n",
       "    </tr>\n",
       "  </tbody>\n",
       "</table>\n",
       "</div>"
      ],
      "text/plain": [
       "      genres                                               tags  \\\n",
       "21327   None                         [Indie, VR, Rhythm, Music]   \n",
       "7611    None                [Action, Adventure, Simulation, VR]   \n",
       "23400   None        [Movie, Satire, Comedy, Music, Documentary]   \n",
       "8452    None                                [Indie, Casual, VR]   \n",
       "18118   None  [Casual, Simulation, Strategy, Adventure, Indi...   \n",
       "4745    None                  [Tutorial, Design & Illustration]   \n",
       "19691   None  [Adventure, Indie, Casual, Action, Strategy, V...   \n",
       "8947    None              [Early Access, Design & Illustration]   \n",
       "4017    None                      [Drama, Movie, Comedy, Indie]   \n",
       "8290    None  [Early Access, Action, Simulation, Indie, Casu...   \n",
       "\n",
       "                                                   specs  \n",
       "21327  [Single-player, HTC Vive, Oculus Rift, Tracked...  \n",
       "7611   [Single-player, Full controller support, HTC V...  \n",
       "23400                               [Captions available]  \n",
       "8452   [Single-player, Multi-player, Local Multi-Play...  \n",
       "18118  [Single-player, Full controller support, HTC V...  \n",
       "4745                                                None  \n",
       "19691  [Single-player, Steam Trading Cards, HTC Vive,...  \n",
       "8947   [Includes level editor, HTC Vive, Tracked Moti...  \n",
       "4017                                                None  \n",
       "8290   [Single-player, Multi-player, Online Multi-Pla...  "
      ]
     },
     "execution_count": 34,
     "metadata": {},
     "output_type": "execute_result"
    }
   ],
   "source": [
    "df_games[df_games['genres'].isnull()][['genres','tags', 'specs']].sample(10)"
   ]
  },
  {
   "cell_type": "code",
   "execution_count": 35,
   "id": "92914a46ab2d4e10",
   "metadata": {
    "ExecuteTime": {
     "end_time": "2024-03-12T04:19:13.948266Z",
     "start_time": "2024-03-12T04:19:13.934999Z"
    }
   },
   "outputs": [
    {
     "data": {
      "text/plain": [
       "3282"
      ]
     },
     "execution_count": 35,
     "metadata": {},
     "output_type": "execute_result"
    }
   ],
   "source": [
    "df_games.genres.isnull().sum()"
   ]
  },
  {
   "cell_type": "code",
   "execution_count": 36,
   "id": "9a96d13dc9c72e3b",
   "metadata": {
    "ExecuteTime": {
     "end_time": "2024-03-12T04:19:13.980009Z",
     "start_time": "2024-03-12T04:19:13.951534Z"
    }
   },
   "outputs": [
    {
     "data": {
      "text/html": [
       "<div>\n",
       "<style scoped>\n",
       "    .dataframe tbody tr th:only-of-type {\n",
       "        vertical-align: middle;\n",
       "    }\n",
       "\n",
       "    .dataframe tbody tr th {\n",
       "        vertical-align: top;\n",
       "    }\n",
       "\n",
       "    .dataframe thead th {\n",
       "        text-align: right;\n",
       "    }\n",
       "</style>\n",
       "<table border=\"1\" class=\"dataframe\">\n",
       "  <thead>\n",
       "    <tr style=\"text-align: right;\">\n",
       "      <th></th>\n",
       "      <th>genres</th>\n",
       "      <th>tags</th>\n",
       "      <th>specs</th>\n",
       "    </tr>\n",
       "  </thead>\n",
       "  <tbody>\n",
       "    <tr>\n",
       "      <th>130</th>\n",
       "      <td>[Casual, Simulation]</td>\n",
       "      <td>[Casual, Simulation]</td>\n",
       "      <td>[Single-player]</td>\n",
       "    </tr>\n",
       "    <tr>\n",
       "      <th>223</th>\n",
       "      <td>[Action, Indie]</td>\n",
       "      <td>[Indie, Platformer, Cute, Action, Puzzle, Casu...</td>\n",
       "      <td>[Single-player, Steam Achievements]</td>\n",
       "    </tr>\n",
       "    <tr>\n",
       "      <th>23405</th>\n",
       "      <td>None</td>\n",
       "      <td>[Movie, Drama, War]</td>\n",
       "      <td>[Captions available]</td>\n",
       "    </tr>\n",
       "    <tr>\n",
       "      <th>2103</th>\n",
       "      <td>[Adventure, Casual]</td>\n",
       "      <td>[Adventure, Casual, Point &amp; Click, Mystery, Fi...</td>\n",
       "      <td>[Single-player]</td>\n",
       "    </tr>\n",
       "    <tr>\n",
       "      <th>23541</th>\n",
       "      <td>[Action, Indie, Sports]</td>\n",
       "      <td>[Great Soundtrack, Action, Local Multiplayer, ...</td>\n",
       "      <td>[Single-player, Local Multi-Player, Local Co-o...</td>\n",
       "    </tr>\n",
       "    <tr>\n",
       "      <th>3005</th>\n",
       "      <td>[Simulation]</td>\n",
       "      <td>[Simulation]</td>\n",
       "      <td>[Single-player, Multi-player, Cross-Platform M...</td>\n",
       "    </tr>\n",
       "    <tr>\n",
       "      <th>16679</th>\n",
       "      <td>[Action, Indie]</td>\n",
       "      <td>[Sexual Content, Nudity, Violent, Action, Indie]</td>\n",
       "      <td>[Single-player, Multi-player, Shared/Split Scr...</td>\n",
       "    </tr>\n",
       "    <tr>\n",
       "      <th>3967</th>\n",
       "      <td>[Action, Adventure, Indie]</td>\n",
       "      <td>[Action, Adventure, Indie]</td>\n",
       "      <td>[Downloadable Content]</td>\n",
       "    </tr>\n",
       "    <tr>\n",
       "      <th>23967</th>\n",
       "      <td>[Adventure, Indie, RPG]</td>\n",
       "      <td>[Adventure, RPG, Indie]</td>\n",
       "      <td>[Single-player, Multi-player, Co-op, Shared/Sp...</td>\n",
       "    </tr>\n",
       "    <tr>\n",
       "      <th>9591</th>\n",
       "      <td>[Casual, Strategy]</td>\n",
       "      <td>[Casual, Strategy]</td>\n",
       "      <td>[Single-player, In-App Purchases]</td>\n",
       "    </tr>\n",
       "  </tbody>\n",
       "</table>\n",
       "</div>"
      ],
      "text/plain": [
       "                           genres  \\\n",
       "130          [Casual, Simulation]   \n",
       "223               [Action, Indie]   \n",
       "23405                        None   \n",
       "2103          [Adventure, Casual]   \n",
       "23541     [Action, Indie, Sports]   \n",
       "3005                 [Simulation]   \n",
       "16679             [Action, Indie]   \n",
       "3967   [Action, Adventure, Indie]   \n",
       "23967     [Adventure, Indie, RPG]   \n",
       "9591           [Casual, Strategy]   \n",
       "\n",
       "                                                    tags  \\\n",
       "130                                 [Casual, Simulation]   \n",
       "223    [Indie, Platformer, Cute, Action, Puzzle, Casu...   \n",
       "23405                                [Movie, Drama, War]   \n",
       "2103   [Adventure, Casual, Point & Click, Mystery, Fi...   \n",
       "23541  [Great Soundtrack, Action, Local Multiplayer, ...   \n",
       "3005                                        [Simulation]   \n",
       "16679   [Sexual Content, Nudity, Violent, Action, Indie]   \n",
       "3967                          [Action, Adventure, Indie]   \n",
       "23967                            [Adventure, RPG, Indie]   \n",
       "9591                                  [Casual, Strategy]   \n",
       "\n",
       "                                                   specs  \n",
       "130                                      [Single-player]  \n",
       "223                  [Single-player, Steam Achievements]  \n",
       "23405                               [Captions available]  \n",
       "2103                                     [Single-player]  \n",
       "23541  [Single-player, Local Multi-Player, Local Co-o...  \n",
       "3005   [Single-player, Multi-player, Cross-Platform M...  \n",
       "16679  [Single-player, Multi-player, Shared/Split Scr...  \n",
       "3967                              [Downloadable Content]  \n",
       "23967  [Single-player, Multi-player, Co-op, Shared/Sp...  \n",
       "9591                   [Single-player, In-App Purchases]  "
      ]
     },
     "execution_count": 36,
     "metadata": {},
     "output_type": "execute_result"
    }
   ],
   "source": [
    "# Exploramos el contenido de genres, tags y specs.\n",
    "\n",
    "columns = ['genres', 'tags','specs']\n",
    "df_games[columns].sample(10)"
   ]
  },
  {
   "cell_type": "markdown",
   "id": "83e49382866af37c",
   "metadata": {},
   "source": [
    "Podemos observar que tags contiene tambien a genres por lo que podemos usarla para imputar los nulos en genres."
   ]
  },
  {
   "cell_type": "code",
   "execution_count": 37,
   "id": "1365b1eae45c6506",
   "metadata": {
    "ExecuteTime": {
     "end_time": "2024-03-12T04:19:15.984406Z",
     "start_time": "2024-03-12T04:19:13.983224Z"
    }
   },
   "outputs": [
    {
     "data": {
      "text/html": [
       "<div>\n",
       "<style scoped>\n",
       "    .dataframe tbody tr th:only-of-type {\n",
       "        vertical-align: middle;\n",
       "    }\n",
       "\n",
       "    .dataframe tbody tr th {\n",
       "        vertical-align: top;\n",
       "    }\n",
       "\n",
       "    .dataframe thead th {\n",
       "        text-align: right;\n",
       "    }\n",
       "</style>\n",
       "<table border=\"1\" class=\"dataframe\">\n",
       "  <thead>\n",
       "    <tr style=\"text-align: right;\">\n",
       "      <th></th>\n",
       "      <th>genres</th>\n",
       "      <th>genres_2</th>\n",
       "      <th>tags</th>\n",
       "    </tr>\n",
       "  </thead>\n",
       "  <tbody>\n",
       "    <tr>\n",
       "      <th>4</th>\n",
       "      <td>None</td>\n",
       "      <td>[Action, Indie, Casual, Sports]</td>\n",
       "      <td>[Action, Indie, Casual, Sports]</td>\n",
       "    </tr>\n",
       "    <tr>\n",
       "      <th>11</th>\n",
       "      <td>None</td>\n",
       "      <td>[Casual]</td>\n",
       "      <td>[Casual]</td>\n",
       "    </tr>\n",
       "    <tr>\n",
       "      <th>19</th>\n",
       "      <td>None</td>\n",
       "      <td>[Early Access, Indie]</td>\n",
       "      <td>[Early Access, Indie, VR]</td>\n",
       "    </tr>\n",
       "    <tr>\n",
       "      <th>20</th>\n",
       "      <td>None</td>\n",
       "      <td>[Early Access, Action, Adventure, Indie, Casual]</td>\n",
       "      <td>[Early Access, Action, Adventure, Indie, Casual]</td>\n",
       "    </tr>\n",
       "    <tr>\n",
       "      <th>22</th>\n",
       "      <td>None</td>\n",
       "      <td>[Early Access, Strategy, Action, Indie, Casual]</td>\n",
       "      <td>[Early Access, Strategy, Action, Indie, Casual...</td>\n",
       "    </tr>\n",
       "  </tbody>\n",
       "</table>\n",
       "</div>"
      ],
      "text/plain": [
       "   genres                                          genres_2  \\\n",
       "4    None                   [Action, Indie, Casual, Sports]   \n",
       "11   None                                          [Casual]   \n",
       "19   None                             [Early Access, Indie]   \n",
       "20   None  [Early Access, Action, Adventure, Indie, Casual]   \n",
       "22   None   [Early Access, Strategy, Action, Indie, Casual]   \n",
       "\n",
       "                                                 tags  \n",
       "4                     [Action, Indie, Casual, Sports]  \n",
       "11                                           [Casual]  \n",
       "19                          [Early Access, Indie, VR]  \n",
       "20   [Early Access, Action, Adventure, Indie, Casual]  \n",
       "22  [Early Access, Strategy, Action, Indie, Casual...  "
      ]
     },
     "execution_count": 37,
     "metadata": {},
     "output_type": "execute_result"
    }
   ],
   "source": [
    "# Creamos una lista de géneros únicos\n",
    "unique_genres = df_games['genres'].explode().unique()\n",
    "\n",
    "# Definimos una función para buscar géneros en tags\n",
    "def find_genres(row):\n",
    "    if isinstance(row['tags'], list):\n",
    "        genres_in_tags = [tag for tag in row['tags'] if tag in unique_genres]\n",
    "        if genres_in_tags:\n",
    "            return genres_in_tags\n",
    "    return row['genres']\n",
    "\n",
    "# Aplicamos la función a cada fila y almacenamos en la columna temporal 'genres_2'\n",
    "df_games['genres_2'] = df_games.apply(find_genres, axis=1)\n",
    "df_games[df_games['genres'].isnull()][['genres', 'genres_2', 'tags']].head()"
   ]
  },
  {
   "cell_type": "markdown",
   "id": "2aa80caca88060df",
   "metadata": {},
   "source": [
    "Eliminamos la columna 'genres' para posteriormente reemplazarla por la columna 'genres_2'. y tambien se eliminará la columna 'tags' y la 'specs' porque no aportan información."
   ]
  },
  {
   "cell_type": "code",
   "execution_count": 38,
   "id": "92f6f6d482a191b1",
   "metadata": {
    "ExecuteTime": {
     "end_time": "2024-03-12T04:19:16.052326Z",
     "start_time": "2024-03-12T04:19:15.988152Z"
    }
   },
   "outputs": [
    {
     "data": {
      "text/plain": [
       "Index(['publisher', 'item_name', 'title', 'url', 'release_date', 'reviews_url',\n",
       "       'price', 'early_access', 'item_id', 'developer', 'is_equal',\n",
       "       'release_year', 'genres'],\n",
       "      dtype='object')"
      ]
     },
     "execution_count": 38,
     "metadata": {},
     "output_type": "execute_result"
    }
   ],
   "source": [
    "\n",
    "columns = ['genres', 'tags', 'specs']\n",
    "df_games.drop(columns, axis=1, inplace=True)\n",
    "# Renombramos la columna genres_2 como genres\n",
    "df_games = df_games.rename(columns={'genres_2': 'genres'})\n",
    "df_games.columns"
   ]
  },
  {
   "cell_type": "markdown",
   "id": "d89ccc6c97e43f94",
   "metadata": {},
   "source": []
  },
  {
   "cell_type": "markdown",
   "id": "768a9acd367bc8b",
   "metadata": {},
   "source": [
    "#### Columnas de URL y Reviews URL\n"
   ]
  },
  {
   "cell_type": "code",
   "execution_count": 39,
   "id": "9b3d295d4f94ad55",
   "metadata": {
    "ExecuteTime": {
     "end_time": "2024-03-12T04:19:16.109396Z",
     "start_time": "2024-03-12T04:19:16.055876Z"
    }
   },
   "outputs": [
    {
     "name": "stdout",
     "output_type": "stream",
     "text": [
      "<class 'pandas.core.frame.DataFrame'>\n",
      "Index: 32132 entries, 0 to 32132\n",
      "Data columns (total 11 columns):\n",
      " #   Column        Non-Null Count  Dtype  \n",
      "---  ------        --------------  -----  \n",
      " 0   publisher     32132 non-null  object \n",
      " 1   item_name     32132 non-null  object \n",
      " 2   title         32132 non-null  object \n",
      " 3   release_date  30066 non-null  object \n",
      " 4   price         32132 non-null  float64\n",
      " 5   early_access  32132 non-null  bool   \n",
      " 6   item_id       32132 non-null  float64\n",
      " 7   developer     32132 non-null  object \n",
      " 8   is_equal      32132 non-null  bool   \n",
      " 9   release_year  32132 non-null  object \n",
      " 10  genres        31102 non-null  object \n",
      "dtypes: bool(2), float64(2), object(7)\n",
      "memory usage: 3.5+ MB\n"
     ]
    }
   ],
   "source": [
    "import pyarrow\n",
    "\n",
    "# Elimina las columnas 'url' y 'reviews_url' del dataframe.\n",
    "columns = ['url', 'reviews_url']\n",
    "df_games.drop(columns, axis=1, inplace=True)\n",
    "\n",
    "# Cambia el tipo de dato de la columna 'early_access' a booleano.\n",
    "df_games['early_access'] = df_games['early_access'].astype(bool)\n",
    "df_games.info()"
   ]
  },
  {
   "cell_type": "markdown",
   "id": "1ef11996ae6fc4ee",
   "metadata": {},
   "source": []
  },
  {
   "cell_type": "markdown",
   "id": "3f1cd67fcf7a6f99",
   "metadata": {},
   "source": [
    "# Carga"
   ]
  },
  {
   "cell_type": "markdown",
   "id": "f0b007d9d499fc7",
   "metadata": {},
   "source": [
    "##### Cargamos el dataset con el dataset limpio y formato comprimido."
   ]
  },
  {
   "cell_type": "code",
   "execution_count": 40,
   "id": "14b9ca185c45a9e",
   "metadata": {
    "ExecuteTime": {
     "end_time": "2024-03-12T04:19:16.361420Z",
     "start_time": "2024-03-12T04:19:16.111917Z"
    }
   },
   "outputs": [
    {
     "name": "stdout",
     "output_type": "stream",
     "text": [
      "El archivo steam_games.parquet se guardó correctamente en ../dataset/\n"
     ]
    }
   ],
   "source": [
    "# Definimos la ruta de destino y el nombre del archivo.\n",
    "folder_path = '../dataset/'\n",
    "file_name = 'steam_games.parquet'\n",
    "\n",
    "# Verificamos si el folder_path existe\n",
    "if not os.path.exists(folder_path):\n",
    "    # Si no existe, lo creamos\n",
    "    os.makedirs(folder_path)\n",
    "\n",
    "# Exportamos el DataFrame a un archivo Parquet\n",
    "df_games.to_parquet(os.path.join(folder_path, file_name), engine='pyarrow', compression='zstd')\n",
    "\n",
    "print(f'El archivo {file_name} se guardó correctamente en {folder_path}')"
   ]
  }
 ],
 "metadata": {
  "kernelspec": {
   "display_name": "Python 3 (ipykernel)",
   "language": "python",
   "name": "python3"
  },
  "language_info": {
   "codemirror_mode": {
    "name": "ipython",
    "version": 3
   },
   "file_extension": ".py",
   "mimetype": "text/x-python",
   "name": "python",
   "nbconvert_exporter": "python",
   "pygments_lexer": "ipython3",
   "version": "3.11.8"
  }
 },
 "nbformat": 4,
 "nbformat_minor": 5
}
