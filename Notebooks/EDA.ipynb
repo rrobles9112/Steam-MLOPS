{
 "cells": [
  {
   "cell_type": "markdown",
   "id": "1f494cea56726f21",
   "metadata": {},
   "source": [
    "# *Exploratory Data Analysis (EDA)*"
   ]
  },
  {
   "cell_type": "markdown",
   "id": "506f91755a23f6b4",
   "metadata": {},
   "source": [
    " Este notebook tiene como objetivo explorar datos sobre juegos de la plataforma Steam, utilizando tres datasets:\n",
    " \n",
    " - `steam_games`: información de juegos disponibles (nombre, precio, año, género, acceso anticipado).\n",
    " - `user_items`: datos de juegos de usuarios (ID juego, tiempo de juego, ID usuario).\n",
    " - `user_reviews`: reseñas de usuarios (ID juego, recomendación, ID usuario, año, sentimiento).\n",
    "\n",
    "El análisis exploratorio se realizará con Python (pandas, seaborn, matplotlib) y constará de:\n",
    "\n",
    "1. Análisis de juegos: explorar características como precio, año, género y acceso anticipado mediante gráficos de distribución, conteo y caja.\n",
    "2. Análisis del tiempo de juego: explorar tiempo acumulado, por juego y por usuario con gráficos de distribución, dispersión y correlación.\n",
    "3. Análisis de reseñas: explorar recomendaciones, año y sentimiento utilizando gráficos de conteo, barras y torta.\n",
    "Esto permitirá comprender mejor los datos, identificar patrones, anomalías y variables relevantes, y generar hipótesis para análisis o modelos futuros."
   ]
  },
  {
   "cell_type": "markdown",
   "id": "5f469e02475a3c9b",
   "metadata": {},
   "source": [
    "## **Configuraciones Globales e Importaciones**"
   ]
  },
  {
   "cell_type": "code",
   "execution_count": 6,
   "id": "63bcfdab1640c06e",
   "metadata": {
    "ExecuteTime": {
     "end_time": "2024-03-14T03:49:19.288527Z",
     "start_time": "2024-03-14T03:49:19.259513Z"
    }
   },
   "outputs": [
    {
     "name": "stdout",
     "output_type": "stream",
     "text": [
      "System version: 3.11.8 (main, Mar 12 2024, 11:52:02) [GCC 12.2.0]\n",
      "pandas version: 2.2.1\n",
      "matplotlib version: 3.8.3\n",
      "seaborn version: 0.13.2\n"
     ]
    }
   ],
   "source": [
    "import sys\n",
    "import pandas as pd\n",
    "import matplotlib\n",
    "import matplotlib.pyplot as plt\n",
    "import seaborn as sns\n",
    "\n",
    "custom_params = {\"axes.spines.right\": False, \"axes.spines.top\": False}\n",
    "sns.set_theme(style=\"ticks\", rc=custom_params)\n",
    "\n",
    "\n",
    "print(f\"System version: {sys.version}\")\n",
    "print(f\"pandas version: {pd.__version__}\")\n",
    "print(f\"matplotlib version: {matplotlib.__version__}\")\n",
    "print(f\"seaborn version: {sns.__version__}\")\n",
    "\n",
    "%load_ext autoreload\n",
    "%autoreload 2\n",
    "import warnings\n",
    "warnings.filterwarnings(\"ignore\")"
   ]
  },
  {
   "cell_type": "markdown",
   "id": "b17b30f198a1769b",
   "metadata": {},
   "source": [
    "## **Extracción de los datos**\n",
    "\n",
    "Creamos una función que lee cada archivo desde su directorio y lo carga a un DataFrame de pandas."
   ]
  },
  {
   "cell_type": "code",
   "execution_count": 7,
   "id": "3162359bf19a843b",
   "metadata": {
    "ExecuteTime": {
     "end_time": "2024-03-14T03:47:21.273215Z",
     "start_time": "2024-03-14T03:47:21.237850Z"
    }
   },
   "outputs": [],
   "source": [
    "# Cargamos los archivos parquet\n",
    "def read_parquet_files(parquet_files):\n",
    "    dataframes = {}\n",
    "    for name in parquet_files:\n",
    "        dataframes[name] = pd.read_parquet(f'../dataset/{name}.parquet', engine='pyarrow')\n",
    "    return dataframes\n",
    "\n",
    "parquet_files = ['steam_games','user_items', 'user_reviews']\n",
    "dataframes = read_parquet_files(parquet_files)\n",
    "\n",
    "# Convertimos a df.\n",
    "df_steam_games = dataframes['steam_games']\n",
    "df_user_items = dataframes['user_items']\n",
    "df_user_reviews = dataframes['user_reviews']"
   ]
  },
  {
   "cell_type": "markdown",
   "id": "a210f4bd",
   "metadata": {},
   "source": [
    "### Dataset Steam Games"
   ]
  },
  {
   "cell_type": "code",
   "execution_count": 8,
   "id": "49acb194",
   "metadata": {},
   "outputs": [
    {
     "data": {
      "text/html": [
       "<div>\n",
       "<style scoped>\n",
       "    .dataframe tbody tr th:only-of-type {\n",
       "        vertical-align: middle;\n",
       "    }\n",
       "\n",
       "    .dataframe tbody tr th {\n",
       "        vertical-align: top;\n",
       "    }\n",
       "\n",
       "    .dataframe thead th {\n",
       "        text-align: right;\n",
       "    }\n",
       "</style>\n",
       "<table border=\"1\" class=\"dataframe\">\n",
       "  <thead>\n",
       "    <tr style=\"text-align: right;\">\n",
       "      <th></th>\n",
       "      <th>publisher</th>\n",
       "      <th>item_name</th>\n",
       "      <th>title</th>\n",
       "      <th>release_date</th>\n",
       "      <th>price</th>\n",
       "      <th>early_access</th>\n",
       "      <th>item_id</th>\n",
       "      <th>developer</th>\n",
       "      <th>is_equal</th>\n",
       "      <th>release_year</th>\n",
       "      <th>genres</th>\n",
       "    </tr>\n",
       "  </thead>\n",
       "  <tbody>\n",
       "    <tr>\n",
       "      <th>0</th>\n",
       "      <td>Kotoshiro</td>\n",
       "      <td>Lost Summoner Kitty</td>\n",
       "      <td>Lost Summoner Kitty</td>\n",
       "      <td>2018-01-04</td>\n",
       "      <td>4.99</td>\n",
       "      <td>False</td>\n",
       "      <td>761140.0</td>\n",
       "      <td>Kotoshiro</td>\n",
       "      <td>True</td>\n",
       "      <td>2018</td>\n",
       "      <td>[Strategy, Action, Indie, Casual, Simulation]</td>\n",
       "    </tr>\n",
       "    <tr>\n",
       "      <th>1</th>\n",
       "      <td>Making Fun, Inc.</td>\n",
       "      <td>Ironbound</td>\n",
       "      <td>Ironbound</td>\n",
       "      <td>2018-01-04</td>\n",
       "      <td>0.00</td>\n",
       "      <td>False</td>\n",
       "      <td>643980.0</td>\n",
       "      <td>Secret Level SRL</td>\n",
       "      <td>True</td>\n",
       "      <td>2018</td>\n",
       "      <td>[Free to Play, Strategy, Indie, RPG]</td>\n",
       "    </tr>\n",
       "    <tr>\n",
       "      <th>2</th>\n",
       "      <td>Poolians.com</td>\n",
       "      <td>Real Pool 3D - Poolians</td>\n",
       "      <td>Real Pool 3D - Poolians</td>\n",
       "      <td>2017-07-24</td>\n",
       "      <td>0.00</td>\n",
       "      <td>False</td>\n",
       "      <td>670290.0</td>\n",
       "      <td>Poolians.com</td>\n",
       "      <td>True</td>\n",
       "      <td>2017</td>\n",
       "      <td>[Free to Play, Simulation, Sports, Casual, Indie]</td>\n",
       "    </tr>\n",
       "    <tr>\n",
       "      <th>3</th>\n",
       "      <td>彼岸领域</td>\n",
       "      <td>弹炸人2222</td>\n",
       "      <td>弹炸人2222</td>\n",
       "      <td>2017-12-07</td>\n",
       "      <td>0.99</td>\n",
       "      <td>False</td>\n",
       "      <td>767400.0</td>\n",
       "      <td>彼岸领域</td>\n",
       "      <td>True</td>\n",
       "      <td>2017</td>\n",
       "      <td>[Action, Adventure, Casual]</td>\n",
       "    </tr>\n",
       "    <tr>\n",
       "      <th>4</th>\n",
       "      <td>unknown</td>\n",
       "      <td>Log Challenge</td>\n",
       "      <td>unknown</td>\n",
       "      <td>None</td>\n",
       "      <td>2.99</td>\n",
       "      <td>False</td>\n",
       "      <td>773570.0</td>\n",
       "      <td>unknown</td>\n",
       "      <td>False</td>\n",
       "      <td>unknown</td>\n",
       "      <td>[Action, Indie, Casual, Sports]</td>\n",
       "    </tr>\n",
       "  </tbody>\n",
       "</table>\n",
       "</div>"
      ],
      "text/plain": [
       "          publisher                item_name                    title  \\\n",
       "0         Kotoshiro      Lost Summoner Kitty      Lost Summoner Kitty   \n",
       "1  Making Fun, Inc.                Ironbound                Ironbound   \n",
       "2      Poolians.com  Real Pool 3D - Poolians  Real Pool 3D - Poolians   \n",
       "3              彼岸领域                  弹炸人2222                  弹炸人2222   \n",
       "4           unknown            Log Challenge                  unknown   \n",
       "\n",
       "  release_date  price  early_access   item_id         developer  is_equal  \\\n",
       "0   2018-01-04   4.99         False  761140.0         Kotoshiro      True   \n",
       "1   2018-01-04   0.00         False  643980.0  Secret Level SRL      True   \n",
       "2   2017-07-24   0.00         False  670290.0      Poolians.com      True   \n",
       "3   2017-12-07   0.99         False  767400.0              彼岸领域      True   \n",
       "4         None   2.99         False  773570.0           unknown     False   \n",
       "\n",
       "  release_year                                             genres  \n",
       "0         2018      [Strategy, Action, Indie, Casual, Simulation]  \n",
       "1         2018               [Free to Play, Strategy, Indie, RPG]  \n",
       "2         2017  [Free to Play, Simulation, Sports, Casual, Indie]  \n",
       "3         2017                        [Action, Adventure, Casual]  \n",
       "4      unknown                    [Action, Indie, Casual, Sports]  "
      ]
     },
     "execution_count": 8,
     "metadata": {},
     "output_type": "execute_result"
    }
   ],
   "source": [
    "df_steam_games.head()"
   ]
  },
  {
   "cell_type": "code",
   "execution_count": 9,
   "id": "0b3c6441",
   "metadata": {},
   "outputs": [
    {
     "name": "stdout",
     "output_type": "stream",
     "text": [
      "<class 'pandas.core.frame.DataFrame'>\n",
      "Index: 32132 entries, 0 to 32132\n",
      "Data columns (total 11 columns):\n",
      " #   Column        Non-Null Count  Dtype  \n",
      "---  ------        --------------  -----  \n",
      " 0   publisher     32132 non-null  object \n",
      " 1   item_name     32132 non-null  object \n",
      " 2   title         32132 non-null  object \n",
      " 3   release_date  30066 non-null  object \n",
      " 4   price         32132 non-null  float64\n",
      " 5   early_access  32132 non-null  bool   \n",
      " 6   item_id       32132 non-null  float64\n",
      " 7   developer     32132 non-null  object \n",
      " 8   is_equal      32132 non-null  bool   \n",
      " 9   release_year  32132 non-null  object \n",
      " 10  genres        31102 non-null  object \n",
      "dtypes: bool(2), float64(2), object(7)\n",
      "memory usage: 2.5+ MB\n"
     ]
    }
   ],
   "source": [
    "df_steam_games.info()"
   ]
  },
  {
   "cell_type": "markdown",
   "id": "b1e92fe8",
   "metadata": {},
   "source": [
    "#### Columna `publisher`"
   ]
  },
  {
   "cell_type": "code",
   "execution_count": 10,
   "id": "eb734036",
   "metadata": {},
   "outputs": [
    {
     "name": "stdout",
     "output_type": "stream",
     "text": [
      "Tenemos registros de 8240 editoras de juegos.\n"
     ]
    }
   ],
   "source": [
    "publisher = df_steam_games.publisher.nunique()\n",
    "print(f'Tenemos registros de {publisher} editoras de juegos.')"
   ]
  },
  {
   "cell_type": "code",
   "execution_count": 11,
   "id": "ea462ee4",
   "metadata": {},
   "outputs": [
    {
     "data": {
      "text/html": [
       "<div>\n",
       "<style scoped>\n",
       "    .dataframe tbody tr th:only-of-type {\n",
       "        vertical-align: middle;\n",
       "    }\n",
       "\n",
       "    .dataframe tbody tr th {\n",
       "        vertical-align: top;\n",
       "    }\n",
       "\n",
       "    .dataframe thead th {\n",
       "        text-align: right;\n",
       "    }\n",
       "</style>\n",
       "<table border=\"1\" class=\"dataframe\">\n",
       "  <thead>\n",
       "    <tr style=\"text-align: right;\">\n",
       "      <th></th>\n",
       "      <th>publisher</th>\n",
       "      <th>counts</th>\n",
       "      <th>percentage</th>\n",
       "    </tr>\n",
       "  </thead>\n",
       "  <tbody>\n",
       "    <tr>\n",
       "      <th>0</th>\n",
       "      <td>unknown</td>\n",
       "      <td>8051</td>\n",
       "      <td>25.06%</td>\n",
       "    </tr>\n",
       "    <tr>\n",
       "      <th>1</th>\n",
       "      <td>Ubisoft</td>\n",
       "      <td>385</td>\n",
       "      <td>1.2%</td>\n",
       "    </tr>\n",
       "    <tr>\n",
       "      <th>2</th>\n",
       "      <td>Dovetail Games - Trains</td>\n",
       "      <td>360</td>\n",
       "      <td>1.12%</td>\n",
       "    </tr>\n",
       "    <tr>\n",
       "      <th>3</th>\n",
       "      <td>Degica</td>\n",
       "      <td>286</td>\n",
       "      <td>0.89%</td>\n",
       "    </tr>\n",
       "    <tr>\n",
       "      <th>4</th>\n",
       "      <td>Paradox Interactive</td>\n",
       "      <td>271</td>\n",
       "      <td>0.84%</td>\n",
       "    </tr>\n",
       "    <tr>\n",
       "      <th>...</th>\n",
       "      <td>...</td>\n",
       "      <td>...</td>\n",
       "      <td>...</td>\n",
       "    </tr>\n",
       "    <tr>\n",
       "      <th>4452</th>\n",
       "      <td>Anima Locus</td>\n",
       "      <td>1</td>\n",
       "      <td>0.0%</td>\n",
       "    </tr>\n",
       "    <tr>\n",
       "      <th>4451</th>\n",
       "      <td>Valhalla Cats</td>\n",
       "      <td>1</td>\n",
       "      <td>0.0%</td>\n",
       "    </tr>\n",
       "    <tr>\n",
       "      <th>4450</th>\n",
       "      <td>MachineSpirit</td>\n",
       "      <td>1</td>\n",
       "      <td>0.0%</td>\n",
       "    </tr>\n",
       "    <tr>\n",
       "      <th>4449</th>\n",
       "      <td>Real Dynamics</td>\n",
       "      <td>1</td>\n",
       "      <td>0.0%</td>\n",
       "    </tr>\n",
       "    <tr>\n",
       "      <th>8239</th>\n",
       "      <td>Bidoniera Games</td>\n",
       "      <td>1</td>\n",
       "      <td>0.0%</td>\n",
       "    </tr>\n",
       "  </tbody>\n",
       "</table>\n",
       "<p>8240 rows × 3 columns</p>\n",
       "</div>"
      ],
      "text/plain": [
       "                    publisher  counts percentage\n",
       "0                     unknown    8051     25.06%\n",
       "1                     Ubisoft     385       1.2%\n",
       "2     Dovetail Games - Trains     360      1.12%\n",
       "3                      Degica     286      0.89%\n",
       "4         Paradox Interactive     271      0.84%\n",
       "...                       ...     ...        ...\n",
       "4452              Anima Locus       1       0.0%\n",
       "4451            Valhalla Cats       1       0.0%\n",
       "4450            MachineSpirit       1       0.0%\n",
       "4449            Real Dynamics       1       0.0%\n",
       "8239          Bidoniera Games       1       0.0%\n",
       "\n",
       "[8240 rows x 3 columns]"
      ]
     },
     "execution_count": 11,
     "metadata": {},
     "output_type": "execute_result"
    }
   ],
   "source": [
    "counts = df_steam_games[\"publisher\"].value_counts()\n",
    "percentage = df_steam_games[\"publisher\"].value_counts(normalize=True).mul(100).round(2).astype(str) + \"%\"\n",
    "\n",
    "df_publisher = pd.DataFrame({\"publisher\": counts.index, \"counts\": counts.values, \"percentage\": percentage.values})\n",
    "df_publisher.sort_values(\"counts\", ascending=False)"
   ]
  },
  {
   "cell_type": "markdown",
   "id": "89d973ec",
   "metadata": {},
   "source": [
    "#### Columna `price`"
   ]
  },
  {
   "cell_type": "code",
   "execution_count": 15,
   "id": "0636f2f8",
   "metadata": {},
   "outputs": [
    {
     "data": {
      "text/plain": [
       "count    32132.000000\n",
       "mean         8.696098\n",
       "std         16.016766\n",
       "min          0.000000\n",
       "25%          2.990000\n",
       "50%          4.990000\n",
       "75%          9.990000\n",
       "max        995.000000\n",
       "Name: price, dtype: float64"
      ]
     },
     "execution_count": 15,
     "metadata": {},
     "output_type": "execute_result"
    }
   ],
   "source": [
    "# describimos el dataset de games solo tomando la columna precio\n",
    "\n",
    "df_steam_games.price.describe()"
   ]
  },
  {
   "cell_type": "code",
   "execution_count": 16,
   "id": "415d3bba",
   "metadata": {},
   "outputs": [
    {
     "data": {
      "text/html": [
       "<div>\n",
       "<style scoped>\n",
       "    .dataframe tbody tr th:only-of-type {\n",
       "        vertical-align: middle;\n",
       "    }\n",
       "\n",
       "    .dataframe tbody tr th {\n",
       "        vertical-align: top;\n",
       "    }\n",
       "\n",
       "    .dataframe thead th {\n",
       "        text-align: right;\n",
       "    }\n",
       "</style>\n",
       "<table border=\"1\" class=\"dataframe\">\n",
       "  <thead>\n",
       "    <tr style=\"text-align: right;\">\n",
       "      <th></th>\n",
       "      <th>price</th>\n",
       "      <th>counts</th>\n",
       "      <th>percentage</th>\n",
       "    </tr>\n",
       "  </thead>\n",
       "  <tbody>\n",
       "    <tr>\n",
       "      <th>0</th>\n",
       "      <td>4.99</td>\n",
       "      <td>5450</td>\n",
       "      <td>16.96%</td>\n",
       "    </tr>\n",
       "    <tr>\n",
       "      <th>1</th>\n",
       "      <td>9.99</td>\n",
       "      <td>3902</td>\n",
       "      <td>12.14%</td>\n",
       "    </tr>\n",
       "    <tr>\n",
       "      <th>2</th>\n",
       "      <td>2.99</td>\n",
       "      <td>3429</td>\n",
       "      <td>10.67%</td>\n",
       "    </tr>\n",
       "    <tr>\n",
       "      <th>3</th>\n",
       "      <td>0.99</td>\n",
       "      <td>2607</td>\n",
       "      <td>8.11%</td>\n",
       "    </tr>\n",
       "    <tr>\n",
       "      <th>4</th>\n",
       "      <td>1.99</td>\n",
       "      <td>2541</td>\n",
       "      <td>7.91%</td>\n",
       "    </tr>\n",
       "    <tr>\n",
       "      <th>...</th>\n",
       "      <td>...</td>\n",
       "      <td>...</td>\n",
       "      <td>...</td>\n",
       "    </tr>\n",
       "    <tr>\n",
       "      <th>96</th>\n",
       "      <td>6.49</td>\n",
       "      <td>1</td>\n",
       "      <td>0.0%</td>\n",
       "    </tr>\n",
       "    <tr>\n",
       "      <th>95</th>\n",
       "      <td>2.30</td>\n",
       "      <td>1</td>\n",
       "      <td>0.0%</td>\n",
       "    </tr>\n",
       "    <tr>\n",
       "      <th>94</th>\n",
       "      <td>42.99</td>\n",
       "      <td>1</td>\n",
       "      <td>0.0%</td>\n",
       "    </tr>\n",
       "    <tr>\n",
       "      <th>93</th>\n",
       "      <td>41.99</td>\n",
       "      <td>1</td>\n",
       "      <td>0.0%</td>\n",
       "    </tr>\n",
       "    <tr>\n",
       "      <th>146</th>\n",
       "      <td>160.91</td>\n",
       "      <td>1</td>\n",
       "      <td>0.0%</td>\n",
       "    </tr>\n",
       "  </tbody>\n",
       "</table>\n",
       "<p>147 rows × 3 columns</p>\n",
       "</div>"
      ],
      "text/plain": [
       "      price  counts percentage\n",
       "0      4.99    5450     16.96%\n",
       "1      9.99    3902     12.14%\n",
       "2      2.99    3429     10.67%\n",
       "3      0.99    2607      8.11%\n",
       "4      1.99    2541      7.91%\n",
       "..      ...     ...        ...\n",
       "96     6.49       1       0.0%\n",
       "95     2.30       1       0.0%\n",
       "94    42.99       1       0.0%\n",
       "93    41.99       1       0.0%\n",
       "146  160.91       1       0.0%\n",
       "\n",
       "[147 rows x 3 columns]"
      ]
     },
     "execution_count": 16,
     "metadata": {},
     "output_type": "execute_result"
    }
   ],
   "source": [
    "# contamos los valores y calculamos el porcentaje de cada uno de los precios\n",
    "counts = df_steam_games[\"price\"].value_counts()\n",
    "percentage = df_steam_games[\"price\"].value_counts(normalize=True).mul(100).round(2).astype(str) + \"%\"\n",
    "\n",
    "df_price = pd.DataFrame({\"price\": counts.index, \"counts\": counts.values, \"percentage\": percentage.values})\n",
    "df_price.sort_values(\"counts\", ascending=False)"
   ]
  },
  {
   "cell_type": "markdown",
   "id": "22f19416",
   "metadata": {},
   "source": [
    "- Notamos que la gran mayoria de los juegos tienen precio de 4.99. Ademas de que tenemos 7112 juegos gratuitos."
   ]
  },
  {
   "cell_type": "code",
   "execution_count": 17,
   "id": "cc3d3b30",
   "metadata": {},
   "outputs": [
    {
     "data": {
      "image/png": "[encoded data removed]",
      "text/plain": [
       "<Figure size 640x480 with 1 Axes>"
      ]
     },
     "metadata": {},
     "output_type": "display_data"
    }
   ],
   "source": [
    "sns.boxplot(data=df_steam_games, y=\"price\")\n",
    "plt.xlabel(\"Precio (USD)\")\n",
    "plt.title(\"Distribución del precio de los juegos\")\n",
    "plt.show()"
   ]
  }
 ],
 "metadata": {
  "kernelspec": {
   "display_name": "Python 3",
   "language": "python",
   "name": "python3"
  },
  "language_info": {
   "codemirror_mode": {
    "name": "ipython",
    "version": 3
   },
   "file_extension": ".py",
   "mimetype": "text/x-python",
   "name": "python",
   "nbconvert_exporter": "python",
   "pygments_lexer": "ipython3",
   "version": "3.11.8"
  }
 },
 "nbformat": 4,
 "nbformat_minor": 5
}
