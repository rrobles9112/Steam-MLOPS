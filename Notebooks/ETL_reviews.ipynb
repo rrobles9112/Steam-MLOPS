{
 "cells": [
  {
   "cell_type": "markdown",
   "metadata": {
    "id": "1lXSwiQx3jCc"
   },
   "source": [
    "# ETL dataset `user_reviews.gz.json`"
   ]
  },
  {
   "cell_type": "markdown",
   "metadata": {
    "id": "2qgeZ0h0BBn2"
   },
   "source": [
    "En este notebook, nuestro objetivo es realizar el proceso de extracción, transformación y carga (ETL) de los datos que contienen información sobre reseñas realizadas por los usuarios de Steam. Así como preparar los datos para su posterior análisis y modelado."
   ]
  },
  {
   "cell_type": "markdown",
   "metadata": {
    "id": "MAAHYNr13nLW"
   },
   "source": [
    "## Configuraciones Globales e Importaciones"
   ]
  },
  {
   "cell_type": "code",
   "metadata": {
    "colab": {
     "base_uri": "https://localhost:8080/"
    },
    "id": "MQSNXzYaIZg1",
    "outputId": "e714230f-da6e-4688-9e00-d269ac58e20f",
    "ExecuteTime": {
     "end_time": "2024-03-16T19:30:12.801790Z",
     "start_time": "2024-03-16T19:30:09.799690Z"
    }
   },
   "source": [
    "import sys\n",
    "import os\n",
    "import pandas as pd\n",
    "import numpy as np\n",
    "import gzip\n",
    "import ast\n",
    "\n",
    "print(f\"System version: {sys.version}\")\n",
    "print(f\"Pandas version: {pd.__version__}\")\n",
    "print(f\"Numpy version: {np.__version__}\")"
   ],
   "outputs": [
    {
     "name": "stdout",
     "output_type": "stream",
     "text": [
      "System version: 3.11.8 (main, Mar 12 2024, 11:52:02) [GCC 12.2.0]\n",
      "Pandas version: 2.2.1\n",
      "Numpy version: 1.26.4\n"
     ]
    }
   ],
   "execution_count": 1
  },
  {
   "cell_type": "markdown",
   "metadata": {
    "id": "3735XSBx7a23"
   },
   "source": [
    "## Extracción"
   ]
  },
  {
   "cell_type": "markdown",
   "metadata": {
    "id": "e2yZ74Q8Gpv6"
   },
   "source": [
    "En esta sección, extraemos los datos del archivo`user_reviews.gz.json` y describimos a detalle su contenido."
   ]
  },
  {
   "cell_type": "markdown",
   "metadata": {
    "id": "OhTA5DDP79w6"
   },
   "source": [
    "### Extracción de los datos"
   ]
  },
  {
   "cell_type": "markdown",
   "metadata": {
    "id": "f_oRjdvhtRF3"
   },
   "source": [
    "\n",
    "Los datos se extraen descomprimiendo el archivo con el módulo `gzip`, se recorre cada línea del archivo y se interpreta como una estructura de datos de `Python` usando el módulo `ast`. Se almacenan en una lista y se cargan a un Dataframe de `pandas` para observar su contenido."
   ]
  },
  {
   "cell_type": "code",
   "metadata": {
    "colab": {
     "base_uri": "https://localhost:8080/",
     "height": 206
    },
    "id": "1uvfJDttlBoC",
    "outputId": "092621eb-4a27-477f-f557-2f9296b33520",
    "ExecuteTime": {
     "end_time": "2024-03-16T04:38:26.096800Z",
     "start_time": "2024-03-16T04:38:22.289062Z"
    }
   },
   "source": [
    "# Ruta al dataset\n",
    "path = '/app/dataset/user_reviews.json.gz'\n",
    "\n",
    "# Leemos el archivo usando ast.literal_eval para analizar la cadena JSON\n",
    "data = []\n",
    "with gzip.open(path, 'r') as f:\n",
    "    for line in f:\n",
    "        data.append(ast.literal_eval(line.decode(\"utf-8\")))\n",
    "\n",
    "# Convertimos a DataFrame\n",
    "df_reviews = pd.DataFrame(data)\n",
    "df_reviews.head()"
   ],
   "outputs": [
    {
     "data": {
      "text/plain": [
       "             user_id                                           user_url  \\\n",
       "0  76561197970982479  http://steamcommunity.com/profiles/76561197970...   \n",
       "1            js41637               http://steamcommunity.com/id/js41637   \n",
       "2          evcentric             http://steamcommunity.com/id/evcentric   \n",
       "3              doctr                 http://steamcommunity.com/id/doctr   \n",
       "4          maplemage             http://steamcommunity.com/id/maplemage   \n",
       "\n",
       "                                             reviews  \n",
       "0  [{'funny': '', 'posted': 'Posted November 5, 2...  \n",
       "1  [{'funny': '', 'posted': 'Posted June 24, 2014...  \n",
       "2  [{'funny': '', 'posted': 'Posted February 3.',...  \n",
       "3  [{'funny': '', 'posted': 'Posted October 14, 2...  \n",
       "4  [{'funny': '3 people found this review funny',...  "
      ],
      "text/html": [
       "<div>\n",
       "<style scoped>\n",
       "    .dataframe tbody tr th:only-of-type {\n",
       "        vertical-align: middle;\n",
       "    }\n",
       "\n",
       "    .dataframe tbody tr th {\n",
       "        vertical-align: top;\n",
       "    }\n",
       "\n",
       "    .dataframe thead th {\n",
       "        text-align: right;\n",
       "    }\n",
       "</style>\n",
       "<table border=\"1\" class=\"dataframe\">\n",
       "  <thead>\n",
       "    <tr style=\"text-align: right;\">\n",
       "      <th></th>\n",
       "      <th>user_id</th>\n",
       "      <th>user_url</th>\n",
       "      <th>reviews</th>\n",
       "    </tr>\n",
       "  </thead>\n",
       "  <tbody>\n",
       "    <tr>\n",
       "      <th>0</th>\n",
       "      <td>76561197970982479</td>\n",
       "      <td>http://steamcommunity.com/profiles/76561197970...</td>\n",
       "      <td>[{'funny': '', 'posted': 'Posted November 5, 2...</td>\n",
       "    </tr>\n",
       "    <tr>\n",
       "      <th>1</th>\n",
       "      <td>js41637</td>\n",
       "      <td>http://steamcommunity.com/id/js41637</td>\n",
       "      <td>[{'funny': '', 'posted': 'Posted June 24, 2014...</td>\n",
       "    </tr>\n",
       "    <tr>\n",
       "      <th>2</th>\n",
       "      <td>evcentric</td>\n",
       "      <td>http://steamcommunity.com/id/evcentric</td>\n",
       "      <td>[{'funny': '', 'posted': 'Posted February 3.',...</td>\n",
       "    </tr>\n",
       "    <tr>\n",
       "      <th>3</th>\n",
       "      <td>doctr</td>\n",
       "      <td>http://steamcommunity.com/id/doctr</td>\n",
       "      <td>[{'funny': '', 'posted': 'Posted October 14, 2...</td>\n",
       "    </tr>\n",
       "    <tr>\n",
       "      <th>4</th>\n",
       "      <td>maplemage</td>\n",
       "      <td>http://steamcommunity.com/id/maplemage</td>\n",
       "      <td>[{'funny': '3 people found this review funny',...</td>\n",
       "    </tr>\n",
       "  </tbody>\n",
       "</table>\n",
       "</div>"
      ]
     },
     "execution_count": 2,
     "metadata": {},
     "output_type": "execute_result"
    }
   ],
   "execution_count": 2
  },
  {
   "cell_type": "markdown",
   "metadata": {
    "id": "tWiN7gNrtBVx"
   },
   "source": [
    "- Hacemos un resumen del Dataframe para observar los tipos de datos por columnas y verificar nulos."
   ]
  },
  {
   "cell_type": "code",
   "metadata": {
    "colab": {
     "base_uri": "https://localhost:8080/"
    },
    "id": "hIwi32gta6eR",
    "outputId": "4e306f79-07a2-4448-f09d-58ecb7799099",
    "ExecuteTime": {
     "end_time": "2024-03-16T04:38:26.118999Z",
     "start_time": "2024-03-16T04:38:26.098594Z"
    }
   },
   "source": [
    "df_reviews.info()"
   ],
   "outputs": [
    {
     "name": "stdout",
     "output_type": "stream",
     "text": [
      "<class 'pandas.core.frame.DataFrame'>\n",
      "RangeIndex: 25799 entries, 0 to 25798\n",
      "Data columns (total 3 columns):\n",
      " #   Column    Non-Null Count  Dtype \n",
      "---  ------    --------------  ----- \n",
      " 0   user_id   25799 non-null  object\n",
      " 1   user_url  25799 non-null  object\n",
      " 2   reviews   25799 non-null  object\n",
      "dtypes: object(3)\n",
      "memory usage: 604.8+ KB\n"
     ]
    }
   ],
   "execution_count": 3
  },
  {
   "cell_type": "markdown",
   "metadata": {
    "id": "FzRgdPt1d5uF"
   },
   "source": [
    "* Exploramos el contenido de la columna 'review'."
   ]
  },
  {
   "cell_type": "code",
   "metadata": {
    "colab": {
     "base_uri": "https://localhost:8080/"
    },
    "id": "WHNPjToQRKP_",
    "outputId": "1b1d9d3f-be57-4f3a-8ccb-050523a34360",
    "ExecuteTime": {
     "end_time": "2024-03-16T04:38:26.128356Z",
     "start_time": "2024-03-16T04:38:26.121769Z"
    }
   },
   "source": [
    "df_reviews['reviews'][1][:2]"
   ],
   "outputs": [
    {
     "data": {
      "text/plain": [
       "[{'funny': '',\n",
       "  'posted': 'Posted June 24, 2014.',\n",
       "  'last_edited': '',\n",
       "  'item_id': '251610',\n",
       "  'helpful': '15 of 20 people (75%) found this review helpful',\n",
       "  'recommend': True,\n",
       "  'review': 'I know what you think when you see this title \"Barbie Dreamhouse Party\" but do not be intimidated by it\\'s title, this is easily one of my GOTYs. You don\\'t get any of that cliche game mechanics that all the latest games have, this is simply good core gameplay. Yes, you can\\'t 360 noscope your friends, but what you can do is show them up with your bad ♥♥♥ dance moves and put them to shame as you show them what true fashion and color combinations are.I know this game says for kids but, this is easily for any age range and any age will have a blast playing this.8/8'},\n",
       " {'funny': '',\n",
       "  'posted': 'Posted September 8, 2013.',\n",
       "  'last_edited': '',\n",
       "  'item_id': '227300',\n",
       "  'helpful': '0 of 1 people (0%) found this review helpful',\n",
       "  'recommend': True,\n",
       "  'review': \"For a simple (it's actually not all that simple but it can be!) truck driving Simulator, it is quite a fun and relaxing game. Playing on simple (or easy?) its just the basic WASD keys for driving but (if you want) the game can be much harder and realistic with having to manually change gears, much harder turning, etc. And reversing in this game is a ♥♥♥♥♥, as I imagine it would be with an actual truck. Luckily, you don't have to reverse park it but you get extra points if you do cause it is bloody hard. But this is suprisingly a nice truck driving game and I had a bit of fun with it.\"}]"
      ]
     },
     "execution_count": 4,
     "metadata": {},
     "output_type": "execute_result"
    }
   ],
   "execution_count": 4
  },
  {
   "cell_type": "markdown",
   "metadata": {
    "id": "u2OcoRTKfaNh"
   },
   "source": [
    "- Observamos que la estructura de los datos de la columna 'reviews' contiene una lista de diccionarios y procedemos a desanidarlo sin considerar la columna 'user_url' que es irrelevante."
   ]
  },
  {
   "cell_type": "code",
   "metadata": {
    "colab": {
     "base_uri": "https://localhost:8080/",
     "height": 362
    },
    "id": "e9riTx-ZVp4l",
    "outputId": "501409a0-0454-4e9d-9e93-208ef50e1839",
    "ExecuteTime": {
     "end_time": "2024-03-16T04:38:26.789632Z",
     "start_time": "2024-03-16T04:38:26.131944Z"
    }
   },
   "source": [
    "df_reviews_expanded = pd.json_normalize(data, 'reviews', meta='user_id')\n",
    "df_reviews_expanded.head()"
   ],
   "outputs": [
    {
     "data": {
      "text/plain": [
       "  funny                     posted last_edited item_id  \\\n",
       "0         Posted November 5, 2011.                1250   \n",
       "1            Posted July 15, 2011.               22200   \n",
       "2           Posted April 21, 2011.               43110   \n",
       "3            Posted June 24, 2014.              251610   \n",
       "4        Posted September 8, 2013.              227300   \n",
       "\n",
       "                                           helpful  recommend  \\\n",
       "0                                   No ratings yet       True   \n",
       "1                                   No ratings yet       True   \n",
       "2                                   No ratings yet       True   \n",
       "3  15 of 20 people (75%) found this review helpful       True   \n",
       "4     0 of 1 people (0%) found this review helpful       True   \n",
       "\n",
       "                                              review            user_id  \n",
       "0  Simple yet with great replayability. In my opi...  76561197970982479  \n",
       "1               It's unique and worth a playthrough.  76561197970982479  \n",
       "2  Great atmosphere. The gunplay can be a bit chu...  76561197970982479  \n",
       "3  I know what you think when you see this title ...            js41637  \n",
       "4  For a simple (it's actually not all that simpl...            js41637  "
      ],
      "text/html": [
       "<div>\n",
       "<style scoped>\n",
       "    .dataframe tbody tr th:only-of-type {\n",
       "        vertical-align: middle;\n",
       "    }\n",
       "\n",
       "    .dataframe tbody tr th {\n",
       "        vertical-align: top;\n",
       "    }\n",
       "\n",
       "    .dataframe thead th {\n",
       "        text-align: right;\n",
       "    }\n",
       "</style>\n",
       "<table border=\"1\" class=\"dataframe\">\n",
       "  <thead>\n",
       "    <tr style=\"text-align: right;\">\n",
       "      <th></th>\n",
       "      <th>funny</th>\n",
       "      <th>posted</th>\n",
       "      <th>last_edited</th>\n",
       "      <th>item_id</th>\n",
       "      <th>helpful</th>\n",
       "      <th>recommend</th>\n",
       "      <th>review</th>\n",
       "      <th>user_id</th>\n",
       "    </tr>\n",
       "  </thead>\n",
       "  <tbody>\n",
       "    <tr>\n",
       "      <th>0</th>\n",
       "      <td></td>\n",
       "      <td>Posted November 5, 2011.</td>\n",
       "      <td></td>\n",
       "      <td>1250</td>\n",
       "      <td>No ratings yet</td>\n",
       "      <td>True</td>\n",
       "      <td>Simple yet with great replayability. In my opi...</td>\n",
       "      <td>76561197970982479</td>\n",
       "    </tr>\n",
       "    <tr>\n",
       "      <th>1</th>\n",
       "      <td></td>\n",
       "      <td>Posted July 15, 2011.</td>\n",
       "      <td></td>\n",
       "      <td>22200</td>\n",
       "      <td>No ratings yet</td>\n",
       "      <td>True</td>\n",
       "      <td>It's unique and worth a playthrough.</td>\n",
       "      <td>76561197970982479</td>\n",
       "    </tr>\n",
       "    <tr>\n",
       "      <th>2</th>\n",
       "      <td></td>\n",
       "      <td>Posted April 21, 2011.</td>\n",
       "      <td></td>\n",
       "      <td>43110</td>\n",
       "      <td>No ratings yet</td>\n",
       "      <td>True</td>\n",
       "      <td>Great atmosphere. The gunplay can be a bit chu...</td>\n",
       "      <td>76561197970982479</td>\n",
       "    </tr>\n",
       "    <tr>\n",
       "      <th>3</th>\n",
       "      <td></td>\n",
       "      <td>Posted June 24, 2014.</td>\n",
       "      <td></td>\n",
       "      <td>251610</td>\n",
       "      <td>15 of 20 people (75%) found this review helpful</td>\n",
       "      <td>True</td>\n",
       "      <td>I know what you think when you see this title ...</td>\n",
       "      <td>js41637</td>\n",
       "    </tr>\n",
       "    <tr>\n",
       "      <th>4</th>\n",
       "      <td></td>\n",
       "      <td>Posted September 8, 2013.</td>\n",
       "      <td></td>\n",
       "      <td>227300</td>\n",
       "      <td>0 of 1 people (0%) found this review helpful</td>\n",
       "      <td>True</td>\n",
       "      <td>For a simple (it's actually not all that simpl...</td>\n",
       "      <td>js41637</td>\n",
       "    </tr>\n",
       "  </tbody>\n",
       "</table>\n",
       "</div>"
      ]
     },
     "execution_count": 5,
     "metadata": {},
     "output_type": "execute_result"
    }
   ],
   "execution_count": 5
  },
  {
   "cell_type": "code",
   "metadata": {
    "colab": {
     "base_uri": "https://localhost:8080/"
    },
    "id": "H1LLbrSRXOOJ",
    "outputId": "c2165c5f-e149-4821-db9f-98356cb5ed9d",
    "ExecuteTime": {
     "end_time": "2024-03-16T04:38:26.836996Z",
     "start_time": "2024-03-16T04:38:26.792909Z"
    }
   },
   "source": [
    "df_reviews_expanded.info()"
   ],
   "outputs": [
    {
     "name": "stdout",
     "output_type": "stream",
     "text": [
      "<class 'pandas.core.frame.DataFrame'>\n",
      "RangeIndex: 59305 entries, 0 to 59304\n",
      "Data columns (total 8 columns):\n",
      " #   Column       Non-Null Count  Dtype \n",
      "---  ------       --------------  ----- \n",
      " 0   funny        59305 non-null  object\n",
      " 1   posted       59305 non-null  object\n",
      " 2   last_edited  59305 non-null  object\n",
      " 3   item_id      59305 non-null  object\n",
      " 4   helpful      59305 non-null  object\n",
      " 5   recommend    59305 non-null  bool  \n",
      " 6   review       59305 non-null  object\n",
      " 7   user_id      59305 non-null  object\n",
      "dtypes: bool(1), object(7)\n",
      "memory usage: 3.2+ MB\n"
     ]
    }
   ],
   "execution_count": 6
  },
  {
   "cell_type": "markdown",
   "metadata": {
    "id": "TmlkU6fSc3NR"
   },
   "source": [
    "### Descripción del los datos.\n",
    "\n",
    "El conjunto de datos contiene **59305** registros y **9** variables con información sobre reseñas de usuarios de Steam. A continuación, se describe el contenido de las variables:\n",
    "\n",
    "- **user_id**: identificador único de usuario.\n",
    "- **user_url**: URL del perfil del usuario.\n",
    "- **reviews**: review de usuario en formato Json. Para cada usuario se tienen uno o más diccionarios con el review. Cada diccionario contiene:\n",
    "    - **funny**: indica si  el review se consideró gracioso.\n",
    "    - **posted**: fecha de posteo del review en formato Posted April 21, 2011.\n",
    "    - **last_edited**: fecha de la última edición del review.\n",
    "    - **item_id**: identificador único del juego.\n",
    "    - **helpful**: indica si fue útil la información para otros usuarios.\n",
    "    - **recommend**: booleano que indica si el usuario recomienda o no el juego.\n",
    "    - **review**: comentarios sobre el juego."
   ]
  },
  {
   "cell_type": "markdown",
   "metadata": {
    "id": "87Mljn5rIpOr"
   },
   "source": [
    "## Transformación"
   ]
  },
  {
   "cell_type": "markdown",
   "metadata": {
    "id": "2G3I2RLIJDhj"
   },
   "source": [
    "En esta sección, realizamos la limpieza inicial de los datos y las transformaciones necesarias. Esto puede incluir la creación de nuevas columnas a partir de las existentes, la eliminación de duplicados o columnas innecesarias, la gestión de valores nulos o la corrección de tipos de datos."
   ]
  },
  {
   "cell_type": "markdown",
   "metadata": {
    "id": "0mYQPG_oO3aJ"
   },
   "source": [
    "### Gestión de valores nulos"
   ]
  },
  {
   "cell_type": "markdown",
   "metadata": {
    "id": "AaeSVSNqjV8D"
   },
   "source": [
    "* Comprabamos el porcentaje de nulos de cada columna."
   ]
  },
  {
   "cell_type": "code",
   "metadata": {
    "colab": {
     "base_uri": "https://localhost:8080/",
     "height": 300
    },
    "id": "SHmE7a-yYF9U",
    "outputId": "6efb2d8a-6a89-4f3b-e225-c225532a47c5",
    "ExecuteTime": {
     "end_time": "2024-03-16T04:38:26.956475Z",
     "start_time": "2024-03-16T04:38:26.839738Z"
    }
   },
   "source": [
    "df_reviews_expanded.replace('', np.nan, inplace=True)\n",
    "round(df_reviews_expanded.isnull().sum().to_frame('% de Nulos')*100/len(df_reviews_expanded),2)"
   ],
   "outputs": [
    {
     "data": {
      "text/plain": [
       "             % de Nulos\n",
       "funny             86.26\n",
       "posted             0.00\n",
       "last_edited       89.65\n",
       "item_id            0.00\n",
       "helpful            0.00\n",
       "recommend          0.00\n",
       "review             0.05\n",
       "user_id            0.00"
      ],
      "text/html": [
       "<div>\n",
       "<style scoped>\n",
       "    .dataframe tbody tr th:only-of-type {\n",
       "        vertical-align: middle;\n",
       "    }\n",
       "\n",
       "    .dataframe tbody tr th {\n",
       "        vertical-align: top;\n",
       "    }\n",
       "\n",
       "    .dataframe thead th {\n",
       "        text-align: right;\n",
       "    }\n",
       "</style>\n",
       "<table border=\"1\" class=\"dataframe\">\n",
       "  <thead>\n",
       "    <tr style=\"text-align: right;\">\n",
       "      <th></th>\n",
       "      <th>% de Nulos</th>\n",
       "    </tr>\n",
       "  </thead>\n",
       "  <tbody>\n",
       "    <tr>\n",
       "      <th>funny</th>\n",
       "      <td>86.26</td>\n",
       "    </tr>\n",
       "    <tr>\n",
       "      <th>posted</th>\n",
       "      <td>0.00</td>\n",
       "    </tr>\n",
       "    <tr>\n",
       "      <th>last_edited</th>\n",
       "      <td>89.65</td>\n",
       "    </tr>\n",
       "    <tr>\n",
       "      <th>item_id</th>\n",
       "      <td>0.00</td>\n",
       "    </tr>\n",
       "    <tr>\n",
       "      <th>helpful</th>\n",
       "      <td>0.00</td>\n",
       "    </tr>\n",
       "    <tr>\n",
       "      <th>recommend</th>\n",
       "      <td>0.00</td>\n",
       "    </tr>\n",
       "    <tr>\n",
       "      <th>review</th>\n",
       "      <td>0.05</td>\n",
       "    </tr>\n",
       "    <tr>\n",
       "      <th>user_id</th>\n",
       "      <td>0.00</td>\n",
       "    </tr>\n",
       "  </tbody>\n",
       "</table>\n",
       "</div>"
      ]
     },
     "execution_count": 7,
     "metadata": {},
     "output_type": "execute_result"
    }
   ],
   "execution_count": 7
  },
  {
   "cell_type": "markdown",
   "metadata": {
    "id": "Aq9Utd7hijAX"
   },
   "source": [
    "* Comprobamos que tienen gran cantidad de nulos. Procedemos a eliminarlas, ya que no las necesitamos para los endpoints que se consumirán en la API. También eliminamos la columna `helpful`, que si bien no contiene nulos, tampoco la necesitamos ."
   ]
  },
  {
   "cell_type": "code",
   "metadata": {
    "colab": {
     "base_uri": "https://localhost:8080/"
    },
    "id": "iyF56RFnZLWZ",
    "outputId": "c0671d38-4f7b-4d8f-db0a-02d3774800a8",
    "ExecuteTime": {
     "end_time": "2024-03-16T04:38:26.975846Z",
     "start_time": "2024-03-16T04:38:26.959249Z"
    }
   },
   "source": [
    "columns = ['funny','last_edited','helpful']\n",
    "df_reviews_expanded.drop(columns, axis=1, inplace=True)\n",
    "df_reviews_expanded.columns"
   ],
   "outputs": [
    {
     "data": {
      "text/plain": [
       "Index(['posted', 'item_id', 'recommend', 'review', 'user_id'], dtype='object')"
      ]
     },
     "execution_count": 8,
     "metadata": {},
     "output_type": "execute_result"
    }
   ],
   "execution_count": 8
  },
  {
   "cell_type": "code",
   "metadata": {
    "colab": {
     "base_uri": "https://localhost:8080/",
     "height": 206
    },
    "id": "y-NZFMgCkCKz",
    "outputId": "6a43775b-2b7e-4b27-f0d8-fb8b39a2506f",
    "ExecuteTime": {
     "end_time": "2024-03-16T04:38:27.007285Z",
     "start_time": "2024-03-16T04:38:26.980566Z"
    }
   },
   "source": [
    "df_reviews_expanded[df_reviews_expanded['review'].isnull()].head()"
   ],
   "outputs": [
    {
     "data": {
      "text/plain": [
       "                           posted item_id  recommend review            user_id\n",
       "3095             Posted March 11.     550       True    NaN          2ZESTY4ME\n",
       "4616   Posted September 19, 2014.     550       True    NaN  76561198093337643\n",
       "15975   Posted December 30, 2014.  218620       True    NaN         terencemok\n",
       "20478            Posted March 10.  378041       True    NaN  76561197971285616\n",
       "22049        Posted May 23, 2014.  211820       True    NaN             shez13"
      ],
      "text/html": [
       "<div>\n",
       "<style scoped>\n",
       "    .dataframe tbody tr th:only-of-type {\n",
       "        vertical-align: middle;\n",
       "    }\n",
       "\n",
       "    .dataframe tbody tr th {\n",
       "        vertical-align: top;\n",
       "    }\n",
       "\n",
       "    .dataframe thead th {\n",
       "        text-align: right;\n",
       "    }\n",
       "</style>\n",
       "<table border=\"1\" class=\"dataframe\">\n",
       "  <thead>\n",
       "    <tr style=\"text-align: right;\">\n",
       "      <th></th>\n",
       "      <th>posted</th>\n",
       "      <th>item_id</th>\n",
       "      <th>recommend</th>\n",
       "      <th>review</th>\n",
       "      <th>user_id</th>\n",
       "    </tr>\n",
       "  </thead>\n",
       "  <tbody>\n",
       "    <tr>\n",
       "      <th>3095</th>\n",
       "      <td>Posted March 11.</td>\n",
       "      <td>550</td>\n",
       "      <td>True</td>\n",
       "      <td>NaN</td>\n",
       "      <td>2ZESTY4ME</td>\n",
       "    </tr>\n",
       "    <tr>\n",
       "      <th>4616</th>\n",
       "      <td>Posted September 19, 2014.</td>\n",
       "      <td>550</td>\n",
       "      <td>True</td>\n",
       "      <td>NaN</td>\n",
       "      <td>76561198093337643</td>\n",
       "    </tr>\n",
       "    <tr>\n",
       "      <th>15975</th>\n",
       "      <td>Posted December 30, 2014.</td>\n",
       "      <td>218620</td>\n",
       "      <td>True</td>\n",
       "      <td>NaN</td>\n",
       "      <td>terencemok</td>\n",
       "    </tr>\n",
       "    <tr>\n",
       "      <th>20478</th>\n",
       "      <td>Posted March 10.</td>\n",
       "      <td>378041</td>\n",
       "      <td>True</td>\n",
       "      <td>NaN</td>\n",
       "      <td>76561197971285616</td>\n",
       "    </tr>\n",
       "    <tr>\n",
       "      <th>22049</th>\n",
       "      <td>Posted May 23, 2014.</td>\n",
       "      <td>211820</td>\n",
       "      <td>True</td>\n",
       "      <td>NaN</td>\n",
       "      <td>shez13</td>\n",
       "    </tr>\n",
       "  </tbody>\n",
       "</table>\n",
       "</div>"
      ]
     },
     "execution_count": 9,
     "metadata": {},
     "output_type": "execute_result"
    }
   ],
   "execution_count": 9
  },
  {
   "cell_type": "markdown",
   "metadata": {
    "id": "MXZ399DDkigu"
   },
   "source": [
    "* Hemos observado que hay usuarios que han recomendado juegos pero no han dejado una reseña. Hemos decidido no eliminarlos porque las recomendaciones pueden ser útiles para nuestro modelo y, en el posterior análisis de sentimientos, simplemente los calificaremos como neutros."
   ]
  },
  {
   "cell_type": "markdown",
   "metadata": {
    "id": "jK8bBl21Poes"
   },
   "source": [
    "### Verificación de duplicados"
   ]
  },
  {
   "cell_type": "markdown",
   "metadata": {
    "id": "1NpNOw1sEs6G"
   },
   "source": [
    "Comprobamos si tenemos duplicados:"
   ]
  },
  {
   "cell_type": "code",
   "metadata": {
    "colab": {
     "base_uri": "https://localhost:8080/"
    },
    "id": "sjPOY8uGWzMr",
    "outputId": "baa0f10f-3727-4635-f5ae-6e85eaa5711f",
    "ExecuteTime": {
     "end_time": "2024-03-16T04:38:27.099886Z",
     "start_time": "2024-03-16T04:38:27.010388Z"
    }
   },
   "source": [
    "df_reviews_expanded.duplicated().sum()"
   ],
   "outputs": [
    {
     "data": {
      "text/plain": [
       "874"
      ]
     },
     "execution_count": 10,
     "metadata": {},
     "output_type": "execute_result"
    }
   ],
   "execution_count": 10
  },
  {
   "cell_type": "code",
   "metadata": {
    "colab": {
     "base_uri": "https://localhost:8080/",
     "height": 424
    },
    "id": "Fs_HseVtcrW-",
    "outputId": "8624254d-8bc5-4074-85d4-3fa2bb781d29",
    "ExecuteTime": {
     "end_time": "2024-03-16T04:38:27.186742Z",
     "start_time": "2024-03-16T04:38:27.102946Z"
    }
   },
   "source": [
    "df_reviews_expanded[df_reviews_expanded[['item_id','user_id']].duplicated(keep=False)].sort_values(['user_id','item_id'])\n"
   ],
   "outputs": [
    {
     "data": {
      "text/plain": [
       "                          posted item_id  recommend  \\\n",
       "13411    Posted January 5, 2015.  277430       True   \n",
       "31985    Posted January 5, 2015.  277430       True   \n",
       "13412       Posted May 23, 2015.     440      False   \n",
       "31986       Posted May 23, 2015.     440      False   \n",
       "13410       Posted May 18, 2015.     730       True   \n",
       "...                          ...     ...        ...   \n",
       "43716   Posted October 31, 2014.  250320       True   \n",
       "6752   Posted September 2, 2014.  261030       True   \n",
       "43717  Posted September 2, 2014.  261030       True   \n",
       "14835  Posted November 30, 2013.  219640       True   \n",
       "34438  Posted November 30, 2013.  219640       True   \n",
       "\n",
       "                                                  review      user_id  \n",
       "13411  this is the best third person game ever that i...     05041129  \n",
       "31985  this is the best third person game ever that i...     05041129  \n",
       "13412  this will be the  number one game if it have m...     05041129  \n",
       "31986  this will be the  number one game if it have m...     05041129  \n",
       "13410  This game to me it is so good that it is bette...     05041129  \n",
       "...                                                  ...          ...  \n",
       "43716  from the creaters of the walking dead, i prese...  yolofaceguy  \n",
       "6752   this game is awesome,this game is ♥♥♥♥ed up an...  yolofaceguy  \n",
       "43717  this game is awesome,this game is ♥♥♥♥ed up an...  yolofaceguy  \n",
       "14835  SAVE THE KING!This is one of my favourite LAN ...    zeroblade  \n",
       "34438  SAVE THE KING!This is one of my favourite LAN ...    zeroblade  \n",
       "\n",
       "[1736 rows x 5 columns]"
      ],
      "text/html": [
       "<div>\n",
       "<style scoped>\n",
       "    .dataframe tbody tr th:only-of-type {\n",
       "        vertical-align: middle;\n",
       "    }\n",
       "\n",
       "    .dataframe tbody tr th {\n",
       "        vertical-align: top;\n",
       "    }\n",
       "\n",
       "    .dataframe thead th {\n",
       "        text-align: right;\n",
       "    }\n",
       "</style>\n",
       "<table border=\"1\" class=\"dataframe\">\n",
       "  <thead>\n",
       "    <tr style=\"text-align: right;\">\n",
       "      <th></th>\n",
       "      <th>posted</th>\n",
       "      <th>item_id</th>\n",
       "      <th>recommend</th>\n",
       "      <th>review</th>\n",
       "      <th>user_id</th>\n",
       "    </tr>\n",
       "  </thead>\n",
       "  <tbody>\n",
       "    <tr>\n",
       "      <th>13411</th>\n",
       "      <td>Posted January 5, 2015.</td>\n",
       "      <td>277430</td>\n",
       "      <td>True</td>\n",
       "      <td>this is the best third person game ever that i...</td>\n",
       "      <td>05041129</td>\n",
       "    </tr>\n",
       "    <tr>\n",
       "      <th>31985</th>\n",
       "      <td>Posted January 5, 2015.</td>\n",
       "      <td>277430</td>\n",
       "      <td>True</td>\n",
       "      <td>this is the best third person game ever that i...</td>\n",
       "      <td>05041129</td>\n",
       "    </tr>\n",
       "    <tr>\n",
       "      <th>13412</th>\n",
       "      <td>Posted May 23, 2015.</td>\n",
       "      <td>440</td>\n",
       "      <td>False</td>\n",
       "      <td>this will be the  number one game if it have m...</td>\n",
       "      <td>05041129</td>\n",
       "    </tr>\n",
       "    <tr>\n",
       "      <th>31986</th>\n",
       "      <td>Posted May 23, 2015.</td>\n",
       "      <td>440</td>\n",
       "      <td>False</td>\n",
       "      <td>this will be the  number one game if it have m...</td>\n",
       "      <td>05041129</td>\n",
       "    </tr>\n",
       "    <tr>\n",
       "      <th>13410</th>\n",
       "      <td>Posted May 18, 2015.</td>\n",
       "      <td>730</td>\n",
       "      <td>True</td>\n",
       "      <td>This game to me it is so good that it is bette...</td>\n",
       "      <td>05041129</td>\n",
       "    </tr>\n",
       "    <tr>\n",
       "      <th>...</th>\n",
       "      <td>...</td>\n",
       "      <td>...</td>\n",
       "      <td>...</td>\n",
       "      <td>...</td>\n",
       "      <td>...</td>\n",
       "    </tr>\n",
       "    <tr>\n",
       "      <th>43716</th>\n",
       "      <td>Posted October 31, 2014.</td>\n",
       "      <td>250320</td>\n",
       "      <td>True</td>\n",
       "      <td>from the creaters of the walking dead, i prese...</td>\n",
       "      <td>yolofaceguy</td>\n",
       "    </tr>\n",
       "    <tr>\n",
       "      <th>6752</th>\n",
       "      <td>Posted September 2, 2014.</td>\n",
       "      <td>261030</td>\n",
       "      <td>True</td>\n",
       "      <td>this game is awesome,this game is ♥♥♥♥ed up an...</td>\n",
       "      <td>yolofaceguy</td>\n",
       "    </tr>\n",
       "    <tr>\n",
       "      <th>43717</th>\n",
       "      <td>Posted September 2, 2014.</td>\n",
       "      <td>261030</td>\n",
       "      <td>True</td>\n",
       "      <td>this game is awesome,this game is ♥♥♥♥ed up an...</td>\n",
       "      <td>yolofaceguy</td>\n",
       "    </tr>\n",
       "    <tr>\n",
       "      <th>14835</th>\n",
       "      <td>Posted November 30, 2013.</td>\n",
       "      <td>219640</td>\n",
       "      <td>True</td>\n",
       "      <td>SAVE THE KING!This is one of my favourite LAN ...</td>\n",
       "      <td>zeroblade</td>\n",
       "    </tr>\n",
       "    <tr>\n",
       "      <th>34438</th>\n",
       "      <td>Posted November 30, 2013.</td>\n",
       "      <td>219640</td>\n",
       "      <td>True</td>\n",
       "      <td>SAVE THE KING!This is one of my favourite LAN ...</td>\n",
       "      <td>zeroblade</td>\n",
       "    </tr>\n",
       "  </tbody>\n",
       "</table>\n",
       "<p>1736 rows × 5 columns</p>\n",
       "</div>"
      ]
     },
     "execution_count": 11,
     "metadata": {},
     "output_type": "execute_result"
    }
   ],
   "execution_count": 11
  },
  {
   "cell_type": "markdown",
   "metadata": {
    "id": "mEs7eJjaeaEx"
   },
   "source": [
    "Tenemos duplicados que procedemos a eliminar."
   ]
  },
  {
   "cell_type": "code",
   "metadata": {
    "colab": {
     "base_uri": "https://localhost:8080/"
    },
    "id": "wuuJhuH4gYuw",
    "outputId": "3dd73029-a605-4233-9fbf-c03ddb983c9b",
    "ExecuteTime": {
     "end_time": "2024-03-16T04:38:27.305201Z",
     "start_time": "2024-03-16T04:38:27.190991Z"
    }
   },
   "source": [
    "df_reviews_expanded.drop_duplicates(inplace=True)\n",
    "df_reviews_expanded.shape"
   ],
   "outputs": [
    {
     "data": {
      "text/plain": [
       "(58431, 5)"
      ]
     },
     "execution_count": 12,
     "metadata": {},
     "output_type": "execute_result"
    }
   ],
   "execution_count": 12
  },
  {
   "cell_type": "markdown",
   "metadata": {
    "id": "21xlwCSDrc6q"
   },
   "source": [
    "### Extracción del año en la columna `posted`"
   ]
  },
  {
   "cell_type": "markdown",
   "metadata": {
    "id": "zWTmB5uynZ3k"
   },
   "source": [
    "* Necesitamos extraer el año de la columna `posted` para las consultas de nuestra API. Exploremos su formato:"
   ]
  },
  {
   "cell_type": "code",
   "metadata": {
    "colab": {
     "base_uri": "https://localhost:8080/"
    },
    "id": "LCFNLC8gaZ7c",
    "outputId": "915b23d9-eb83-4d89-8cd3-076f7dc4b3eb",
    "ExecuteTime": {
     "end_time": "2024-03-16T04:38:27.317395Z",
     "start_time": "2024-03-16T04:38:27.307389Z"
    }
   },
   "source": [
    "df_reviews_expanded['posted']"
   ],
   "outputs": [
    {
     "data": {
      "text/plain": [
       "0         Posted November 5, 2011.\n",
       "1            Posted July 15, 2011.\n",
       "2           Posted April 21, 2011.\n",
       "3            Posted June 24, 2014.\n",
       "4        Posted September 8, 2013.\n",
       "                   ...            \n",
       "59300              Posted July 10.\n",
       "59301               Posted July 8.\n",
       "59302               Posted July 3.\n",
       "59303              Posted July 20.\n",
       "59304               Posted July 2.\n",
       "Name: posted, Length: 58431, dtype: object"
      ]
     },
     "execution_count": 13,
     "metadata": {},
     "output_type": "execute_result"
    }
   ],
   "execution_count": 13
  },
  {
   "cell_type": "markdown",
   "metadata": {
    "id": "sUItxKlGnirx"
   },
   "source": [
    "* Notamos que algunos registros no tienen el año por lo que procederemos de la siguiente manera:\n",
    "  * Extraemos el año de la columna `posted` y lo almacenamos en `posted_year`."
   ]
  },
  {
   "cell_type": "code",
   "metadata": {
    "colab": {
     "base_uri": "https://localhost:8080/",
     "height": 424
    },
    "id": "iBVauLEUbIzI",
    "outputId": "822b21e6-0ac7-4a1d-cff0-7ebe3ee23cfd",
    "ExecuteTime": {
     "end_time": "2024-03-16T04:38:27.548962Z",
     "start_time": "2024-03-16T04:38:27.323262Z"
    }
   },
   "source": [
    "df_reviews_expanded['posted_year'] = df_reviews_expanded['posted'].str.extract('(\\d{4})')\n",
    "df_reviews_expanded[['posted','posted_year']]"
   ],
   "outputs": [
    {
     "data": {
      "text/plain": [
       "                          posted posted_year\n",
       "0       Posted November 5, 2011.        2011\n",
       "1          Posted July 15, 2011.        2011\n",
       "2         Posted April 21, 2011.        2011\n",
       "3          Posted June 24, 2014.        2014\n",
       "4      Posted September 8, 2013.        2013\n",
       "...                          ...         ...\n",
       "59300            Posted July 10.         NaN\n",
       "59301             Posted July 8.         NaN\n",
       "59302             Posted July 3.         NaN\n",
       "59303            Posted July 20.         NaN\n",
       "59304             Posted July 2.         NaN\n",
       "\n",
       "[58431 rows x 2 columns]"
      ],
      "text/html": [
       "<div>\n",
       "<style scoped>\n",
       "    .dataframe tbody tr th:only-of-type {\n",
       "        vertical-align: middle;\n",
       "    }\n",
       "\n",
       "    .dataframe tbody tr th {\n",
       "        vertical-align: top;\n",
       "    }\n",
       "\n",
       "    .dataframe thead th {\n",
       "        text-align: right;\n",
       "    }\n",
       "</style>\n",
       "<table border=\"1\" class=\"dataframe\">\n",
       "  <thead>\n",
       "    <tr style=\"text-align: right;\">\n",
       "      <th></th>\n",
       "      <th>posted</th>\n",
       "      <th>posted_year</th>\n",
       "    </tr>\n",
       "  </thead>\n",
       "  <tbody>\n",
       "    <tr>\n",
       "      <th>0</th>\n",
       "      <td>Posted November 5, 2011.</td>\n",
       "      <td>2011</td>\n",
       "    </tr>\n",
       "    <tr>\n",
       "      <th>1</th>\n",
       "      <td>Posted July 15, 2011.</td>\n",
       "      <td>2011</td>\n",
       "    </tr>\n",
       "    <tr>\n",
       "      <th>2</th>\n",
       "      <td>Posted April 21, 2011.</td>\n",
       "      <td>2011</td>\n",
       "    </tr>\n",
       "    <tr>\n",
       "      <th>3</th>\n",
       "      <td>Posted June 24, 2014.</td>\n",
       "      <td>2014</td>\n",
       "    </tr>\n",
       "    <tr>\n",
       "      <th>4</th>\n",
       "      <td>Posted September 8, 2013.</td>\n",
       "      <td>2013</td>\n",
       "    </tr>\n",
       "    <tr>\n",
       "      <th>...</th>\n",
       "      <td>...</td>\n",
       "      <td>...</td>\n",
       "    </tr>\n",
       "    <tr>\n",
       "      <th>59300</th>\n",
       "      <td>Posted July 10.</td>\n",
       "      <td>NaN</td>\n",
       "    </tr>\n",
       "    <tr>\n",
       "      <th>59301</th>\n",
       "      <td>Posted July 8.</td>\n",
       "      <td>NaN</td>\n",
       "    </tr>\n",
       "    <tr>\n",
       "      <th>59302</th>\n",
       "      <td>Posted July 3.</td>\n",
       "      <td>NaN</td>\n",
       "    </tr>\n",
       "    <tr>\n",
       "      <th>59303</th>\n",
       "      <td>Posted July 20.</td>\n",
       "      <td>NaN</td>\n",
       "    </tr>\n",
       "    <tr>\n",
       "      <th>59304</th>\n",
       "      <td>Posted July 2.</td>\n",
       "      <td>NaN</td>\n",
       "    </tr>\n",
       "  </tbody>\n",
       "</table>\n",
       "<p>58431 rows × 2 columns</p>\n",
       "</div>"
      ]
     },
     "execution_count": 14,
     "metadata": {},
     "output_type": "execute_result"
    }
   ],
   "execution_count": 14
  },
  {
   "cell_type": "markdown",
   "metadata": {
    "id": "-E2FeFshlcHW"
   },
   "source": [
    "* Eliminamos la columna `posted`."
   ]
  },
  {
   "cell_type": "code",
   "metadata": {
    "colab": {
     "base_uri": "https://localhost:8080/"
    },
    "id": "M4XQNHPslYrH",
    "outputId": "60b555ae-cc2f-4efd-c509-88b4d6c6e225",
    "ExecuteTime": {
     "end_time": "2024-03-16T04:38:27.573722Z",
     "start_time": "2024-03-16T04:38:27.552720Z"
    }
   },
   "source": [
    "df_reviews_expanded.drop(columns='posted', inplace=True)\n",
    "df_reviews_expanded.columns"
   ],
   "outputs": [
    {
     "data": {
      "text/plain": [
       "Index(['item_id', 'recommend', 'review', 'user_id', 'posted_year'], dtype='object')"
      ]
     },
     "execution_count": 15,
     "metadata": {},
     "output_type": "execute_result"
    }
   ],
   "execution_count": 15
  },
  {
   "cell_type": "code",
   "metadata": {
    "colab": {
     "base_uri": "https://localhost:8080/"
    },
    "id": "riY97C-nOr1V",
    "outputId": "9ef52631-2f9d-4ef0-c539-dbd48187b58b",
    "ExecuteTime": {
     "end_time": "2024-03-16T04:38:27.588402Z",
     "start_time": "2024-03-16T04:38:27.576181Z"
    }
   },
   "source": [
    "df_reviews_expanded['posted_year'].isnull().sum()"
   ],
   "outputs": [
    {
     "data": {
      "text/plain": [
       "9933"
      ]
     },
     "execution_count": 16,
     "metadata": {},
     "output_type": "execute_result"
    }
   ],
   "execution_count": 16
  },
  {
   "cell_type": "markdown",
   "metadata": {
    "id": "Bu_8Pei7tEkr"
   },
   "source": [
    "* Tenemos datos nulos donde las fechas de la columna `posted` no tenían un año que extraer. Los reemplazaremos por **'unknown'**."
   ]
  },
  {
   "cell_type": "code",
   "metadata": {
    "colab": {
     "base_uri": "https://localhost:8080/"
    },
    "id": "fku6nxpInJsC",
    "outputId": "4a5ad2f3-2c3e-43c1-990b-612a1369415c",
    "ExecuteTime": {
     "end_time": "2024-03-16T04:38:27.614467Z",
     "start_time": "2024-03-16T04:38:27.591580Z"
    }
   },
   "source": [
    "df_reviews_expanded['posted_year'] = df_reviews_expanded['posted_year'].fillna('unknown')\n",
    "df_reviews_expanded['posted_year'].value_counts()"
   ],
   "outputs": [
    {
     "data": {
      "text/plain": [
       "posted_year\n",
       "2014       21834\n",
       "2015       18154\n",
       "unknown     9933\n",
       "2013        6713\n",
       "2012        1201\n",
       "2011         530\n",
       "2010          66\n",
       "Name: count, dtype: int64"
      ]
     },
     "execution_count": 17,
     "metadata": {},
     "output_type": "execute_result"
    }
   ],
   "execution_count": 17
  },
  {
   "cell_type": "code",
   "metadata": {
    "colab": {
     "base_uri": "https://localhost:8080/"
    },
    "id": "wO3cmF3doYqe",
    "outputId": "ba687d8a-9d9d-4911-bbce-ae932d7c5e05",
    "ExecuteTime": {
     "end_time": "2024-03-16T04:38:27.655087Z",
     "start_time": "2024-03-16T04:38:27.617178Z"
    }
   },
   "source": [
    "df_reviews_expanded.info()"
   ],
   "outputs": [
    {
     "name": "stdout",
     "output_type": "stream",
     "text": [
      "<class 'pandas.core.frame.DataFrame'>\n",
      "Index: 58431 entries, 0 to 59304\n",
      "Data columns (total 5 columns):\n",
      " #   Column       Non-Null Count  Dtype \n",
      "---  ------       --------------  ----- \n",
      " 0   item_id      58431 non-null  object\n",
      " 1   recommend    58431 non-null  bool  \n",
      " 2   review       58401 non-null  object\n",
      " 3   user_id      58431 non-null  object\n",
      " 4   posted_year  58431 non-null  object\n",
      "dtypes: bool(1), object(4)\n",
      "memory usage: 2.3+ MB\n"
     ]
    }
   ],
   "execution_count": 18
  },
  {
   "cell_type": "markdown",
   "metadata": {
    "id": "tf-KaxaJEuBx"
   },
   "source": [
    "## Carga"
   ]
  },
  {
   "cell_type": "markdown",
   "metadata": {
    "id": "LpmNGMg5FfZ4"
   },
   "source": [
    "##### Cargamos el dataset con el dataset limpio y formato comprimido."
   ]
  },
  {
   "cell_type": "code",
   "metadata": {
    "colab": {
     "base_uri": "https://localhost:8080/"
    },
    "id": "4drDruS1f92U",
    "outputId": "daff505a-5636-4db4-88bc-d882fa52b83d",
    "ExecuteTime": {
     "end_time": "2024-03-16T04:38:28.029488Z",
     "start_time": "2024-03-16T04:38:27.658146Z"
    }
   },
   "source": [
    "# Definimos la ruta de destino y el nombre del archivo.\n",
    "folder_path = '/app/dataset/'\n",
    "file_name = 'user_reviews.parquet'\n",
    "\n",
    "# Verificamos si el folder_path existe\n",
    "if not os.path.exists(folder_path):\n",
    "    # Si no existe, lo creamos\n",
    "    os.makedirs(folder_path)\n",
    "\n",
    "# Exportamos el DataFrame a un archivo Parquet\n",
    "df_reviews_expanded.to_parquet(os.path.join(folder_path, file_name), engine='pyarrow', compression='zstd')\n",
    "\n",
    "print(f'El archivo {file_name} se guardó correctamente en {folder_path}')"
   ],
   "outputs": [
    {
     "name": "stdout",
     "output_type": "stream",
     "text": [
      "El archivo user_reviews.parquet se guardó correctamente en /app/dataset/\n"
     ]
    }
   ],
   "execution_count": 19
  }
 ],
 "metadata": {
  "colab": {
   "include_colab_link": true,
   "provenance": []
  },
  "kernelspec": {
   "display_name": "Python 3 (ipykernel)",
   "language": "python",
   "name": "python3"
  },
  "language_info": {
   "name": "python"
  }
 },
 "nbformat": 4,
 "nbformat_minor": 0
}
