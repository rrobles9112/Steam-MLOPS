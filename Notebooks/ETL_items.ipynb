{
 "cells": [
  {
   "cell_type": "markdown",
   "metadata": {
    "id": "1lXSwiQx3jCc"
   },
   "source": [
    "# ETL dataset <code>users_items.gz.json</code>"
   ]
  },
  {
   "cell_type": "markdown",
   "metadata": {
    "id": "2qgeZ0h0BBn2"
   },
   "source": [
    "En este notebook, nuestro objetivo es realizar el proceso de extracción, transformación y carga (ETL) de los datos que contienen información sobre reseñas realizadas por los usuarios de Steam. Así como preparar los datos para su posterior análisis y modelado."
   ]
  },
  {
   "cell_type": "markdown",
   "metadata": {
    "id": "MAAHYNr13nLW"
   },
   "source": [
    "## Configuraciones Globales e Importaciones"
   ]
  },
  {
   "cell_type": "markdown",
   "metadata": {
    "id": "minb4-nsBSdR"
   },
   "source": [
    "En esta sección, importamos todas las bibliotecas y/o módulos necesarios para nuestro proceso ETL "
   ]
  },
  {
   "cell_type": "code",
   "execution_count": 1,
   "metadata": {
    "ExecuteTime": {
     "end_time": "2024-03-13T00:39:56.237026Z",
     "start_time": "2024-03-13T00:39:52.415980Z"
    },
    "colab": {
     "base_uri": "https://localhost:8080/"
    },
    "id": "hLZQFT4TImu4",
    "outputId": "f66b8a8d-3ff2-400f-9ad0-80086f034418"
   },
   "outputs": [
    {
     "name": "stdout",
     "output_type": "stream",
     "text": [
      "System version: 3.11.8 (main, Feb 13 2024, 10:08:31) [GCC 12.2.0]\n",
      "Pandas version: 2.2.1\n"
     ]
    }
   ],
   "source": [
    "import sys\n",
    "import os\n",
    "from builtins import print\n",
    "\n",
    "import pandas as pd\n",
    "import gzip\n",
    "import ast\n",
    "\n",
    "print(f\"System version: {sys.version}\")\n",
    "print(f\"Pandas version: {pd.__version__}\")"
   ]
  },
  {
   "cell_type": "markdown",
   "metadata": {
    "id": "3735XSBx7a23"
   },
   "source": [
    "## Extracción"
   ]
  },
  {
   "cell_type": "markdown",
   "metadata": {
    "id": "e2yZ74Q8Gpv6"
   },
   "source": [
    "En esta sección, extraemos los datos del archivo `users_items.gz.json` y describimos a detalle su contenido."
   ]
  },
  {
   "cell_type": "markdown",
   "metadata": {
    "id": "OhTA5DDP79w6"
   },
   "source": [
    "### Extracción de los datos"
   ]
  },
  {
   "cell_type": "code",
   "execution_count": 2,
   "metadata": {
    "ExecuteTime": {
     "end_time": "2024-03-13T00:44:09.866827Z",
     "start_time": "2024-03-13T00:40:09.095613Z"
    },
    "colab": {
     "base_uri": "https://localhost:8080/",
     "height": 501
    },
    "id": "JAFGdMN0iKdx",
    "outputId": "972bf0a6-8a7a-4a0d-d9b8-872f2c0c50b5"
   },
   "outputs": [
    {
     "data": {
      "text/html": [
       "<div>\n",
       "<style scoped>\n",
       "    .dataframe tbody tr th:only-of-type {\n",
       "        vertical-align: middle;\n",
       "    }\n",
       "\n",
       "    .dataframe tbody tr th {\n",
       "        vertical-align: top;\n",
       "    }\n",
       "\n",
       "    .dataframe thead th {\n",
       "        text-align: right;\n",
       "    }\n",
       "</style>\n",
       "<table border=\"1\" class=\"dataframe\">\n",
       "  <thead>\n",
       "    <tr style=\"text-align: right;\">\n",
       "      <th></th>\n",
       "      <th>user_id</th>\n",
       "      <th>items_count</th>\n",
       "      <th>steam_id</th>\n",
       "      <th>user_url</th>\n",
       "      <th>items</th>\n",
       "    </tr>\n",
       "  </thead>\n",
       "  <tbody>\n",
       "    <tr>\n",
       "      <th>0</th>\n",
       "      <td>76561197970982479</td>\n",
       "      <td>277</td>\n",
       "      <td>76561197970982479</td>\n",
       "      <td>http://steamcommunity.com/profiles/76561197970...</td>\n",
       "      <td>[{'item_id': '10', 'item_name': 'Counter-Strik...</td>\n",
       "    </tr>\n",
       "    <tr>\n",
       "      <th>1</th>\n",
       "      <td>js41637</td>\n",
       "      <td>888</td>\n",
       "      <td>76561198035864385</td>\n",
       "      <td>http://steamcommunity.com/id/js41637</td>\n",
       "      <td>[{'item_id': '10', 'item_name': 'Counter-Strik...</td>\n",
       "    </tr>\n",
       "    <tr>\n",
       "      <th>2</th>\n",
       "      <td>evcentric</td>\n",
       "      <td>137</td>\n",
       "      <td>76561198007712555</td>\n",
       "      <td>http://steamcommunity.com/id/evcentric</td>\n",
       "      <td>[{'item_id': '1200', 'item_name': 'Red Orchest...</td>\n",
       "    </tr>\n",
       "    <tr>\n",
       "      <th>3</th>\n",
       "      <td>Riot-Punch</td>\n",
       "      <td>328</td>\n",
       "      <td>76561197963445855</td>\n",
       "      <td>http://steamcommunity.com/id/Riot-Punch</td>\n",
       "      <td>[{'item_id': '10', 'item_name': 'Counter-Strik...</td>\n",
       "    </tr>\n",
       "    <tr>\n",
       "      <th>4</th>\n",
       "      <td>doctr</td>\n",
       "      <td>541</td>\n",
       "      <td>76561198002099482</td>\n",
       "      <td>http://steamcommunity.com/id/doctr</td>\n",
       "      <td>[{'item_id': '300', 'item_name': 'Day of Defea...</td>\n",
       "    </tr>\n",
       "  </tbody>\n",
       "</table>\n",
       "</div>"
      ],
      "text/plain": [
       "             user_id  items_count           steam_id  \\\n",
       "0  76561197970982479          277  76561197970982479   \n",
       "1            js41637          888  76561198035864385   \n",
       "2          evcentric          137  76561198007712555   \n",
       "3         Riot-Punch          328  76561197963445855   \n",
       "4              doctr          541  76561198002099482   \n",
       "\n",
       "                                            user_url  \\\n",
       "0  http://steamcommunity.com/profiles/76561197970...   \n",
       "1               http://steamcommunity.com/id/js41637   \n",
       "2             http://steamcommunity.com/id/evcentric   \n",
       "3            http://steamcommunity.com/id/Riot-Punch   \n",
       "4                 http://steamcommunity.com/id/doctr   \n",
       "\n",
       "                                               items  \n",
       "0  [{'item_id': '10', 'item_name': 'Counter-Strik...  \n",
       "1  [{'item_id': '10', 'item_name': 'Counter-Strik...  \n",
       "2  [{'item_id': '1200', 'item_name': 'Red Orchest...  \n",
       "3  [{'item_id': '10', 'item_name': 'Counter-Strik...  \n",
       "4  [{'item_id': '300', 'item_name': 'Day of Defea...  "
      ]
     },
     "execution_count": 2,
     "metadata": {},
     "output_type": "execute_result"
    }
   ],
   "source": [
    "# Ruta al dataset\n",
    "path = '/app/dataset/users_items.json.gz'\n",
    "\n",
    "# Leemos el archivo usando ast.literal_eval para analizar la cadena JSON\n",
    "data = []\n",
    "with gzip.open(path, 'r') as f:\n",
    "    for line in f:\n",
    "        data.append(ast.literal_eval(line.decode(\"utf-8\")))\n",
    "\n",
    "# Convertimos a DataFrame\n",
    "df_items = pd.DataFrame(data)\n",
    "df_items.head()"
   ]
  },
  {
   "cell_type": "markdown",
   "metadata": {
    "id": "tWiN7gNrtBVx"
   },
   "source": [
    "- Hacemos un resumen conciso del Dataframe para observar los tipos de datos por columnas, verificar nulos."
   ]
  },
  {
   "cell_type": "code",
   "execution_count": 3,
   "metadata": {
    "ExecuteTime": {
     "end_time": "2024-03-13T00:54:06.751716Z",
     "start_time": "2024-03-13T00:53:37.644135Z"
    },
    "colab": {
     "base_uri": "https://localhost:8080/"
    },
    "id": "dUaGyzwn-3lU",
    "outputId": "75ca0e48-2abe-4aec-e64b-1d33ac8af633"
   },
   "outputs": [
    {
     "name": "stdout",
     "output_type": "stream",
     "text": [
      "<class 'pandas.core.frame.DataFrame'>\n",
      "RangeIndex: 88310 entries, 0 to 88309\n",
      "Data columns (total 5 columns):\n",
      " #   Column       Non-Null Count  Dtype \n",
      "---  ------       --------------  ----- \n",
      " 0   user_id      88310 non-null  object\n",
      " 1   items_count  88310 non-null  int64 \n",
      " 2   steam_id     88310 non-null  object\n",
      " 3   user_url     88310 non-null  object\n",
      " 4   items        88310 non-null  object\n",
      "dtypes: int64(1), object(4)\n",
      "memory usage: 3.4+ MB\n"
     ]
    }
   ],
   "source": [
    "df_items.info()"
   ]
  },
  {
   "cell_type": "markdown",
   "metadata": {
    "id": "UaJbQEEpOWQG"
   },
   "source": [
    "- Observamos que la estructura de los datos de la columna 'items' parece contener una lista de diccionarios."
   ]
  },
  {
   "cell_type": "code",
   "execution_count": 4,
   "metadata": {
    "ExecuteTime": {
     "end_time": "2024-03-12T05:31:47.954128Z",
     "start_time": "2024-03-12T05:31:47.944827Z"
    },
    "colab": {
     "base_uri": "https://localhost:8080/"
    },
    "id": "VSqBTqFV-8El",
    "outputId": "966ac6a2-1e1a-4cca-8e23-51a327f2a4bd"
   },
   "outputs": [
    {
     "data": {
      "text/plain": [
       "[{'item_id': '10',\n",
       "  'item_name': 'Counter-Strike',\n",
       "  'playtime_forever': 0,\n",
       "  'playtime_2weeks': 0},\n",
       " {'item_id': '80',\n",
       "  'item_name': 'Counter-Strike: Condition Zero',\n",
       "  'playtime_forever': 0,\n",
       "  'playtime_2weeks': 0},\n",
       " {'item_id': '100',\n",
       "  'item_name': 'Counter-Strike: Condition Zero Deleted Scenes',\n",
       "  'playtime_forever': 0,\n",
       "  'playtime_2weeks': 0}]"
      ]
     },
     "execution_count": 4,
     "metadata": {},
     "output_type": "execute_result"
    }
   ],
   "source": [
    "df_items['items'][1][:3]"
   ]
  },
  {
   "cell_type": "markdown",
   "metadata": {
    "id": "72kXruSYOzeB"
   },
   "source": [
    "- Comprobamos que efectivamente es una lista de diccionarios y procedemos a desanidarlo."
   ]
  },
  {
   "cell_type": "code",
   "execution_count": 4,
   "metadata": {
    "ExecuteTime": {
     "end_time": "2024-03-13T00:56:51.926715Z",
     "start_time": "2024-03-13T00:54:35.925009Z"
    },
    "colab": {
     "base_uri": "https://localhost:8080/",
     "height": 348
    },
    "id": "zjCxJy6EDmfk",
    "outputId": "9784cb39-8f90-457b-81fd-5d21c3a76435"
   },
   "outputs": [
    {
     "data": {
      "text/html": [
       "<div>\n",
       "<style scoped>\n",
       "    .dataframe tbody tr th:only-of-type {\n",
       "        vertical-align: middle;\n",
       "    }\n",
       "\n",
       "    .dataframe tbody tr th {\n",
       "        vertical-align: top;\n",
       "    }\n",
       "\n",
       "    .dataframe thead th {\n",
       "        text-align: right;\n",
       "    }\n",
       "</style>\n",
       "<table border=\"1\" class=\"dataframe\">\n",
       "  <thead>\n",
       "    <tr style=\"text-align: right;\">\n",
       "      <th></th>\n",
       "      <th>item_id</th>\n",
       "      <th>item_name</th>\n",
       "      <th>playtime_forever</th>\n",
       "      <th>playtime_2weeks</th>\n",
       "      <th>user_id</th>\n",
       "      <th>items_count</th>\n",
       "      <th>steam_id</th>\n",
       "      <th>user_url</th>\n",
       "    </tr>\n",
       "  </thead>\n",
       "  <tbody>\n",
       "    <tr>\n",
       "      <th>0</th>\n",
       "      <td>10</td>\n",
       "      <td>Counter-Strike</td>\n",
       "      <td>6</td>\n",
       "      <td>0</td>\n",
       "      <td>76561197970982479</td>\n",
       "      <td>277</td>\n",
       "      <td>76561197970982479</td>\n",
       "      <td>http://steamcommunity.com/profiles/76561197970...</td>\n",
       "    </tr>\n",
       "    <tr>\n",
       "      <th>1</th>\n",
       "      <td>20</td>\n",
       "      <td>Team Fortress Classic</td>\n",
       "      <td>0</td>\n",
       "      <td>0</td>\n",
       "      <td>76561197970982479</td>\n",
       "      <td>277</td>\n",
       "      <td>76561197970982479</td>\n",
       "      <td>http://steamcommunity.com/profiles/76561197970...</td>\n",
       "    </tr>\n",
       "    <tr>\n",
       "      <th>2</th>\n",
       "      <td>30</td>\n",
       "      <td>Day of Defeat</td>\n",
       "      <td>7</td>\n",
       "      <td>0</td>\n",
       "      <td>76561197970982479</td>\n",
       "      <td>277</td>\n",
       "      <td>76561197970982479</td>\n",
       "      <td>http://steamcommunity.com/profiles/76561197970...</td>\n",
       "    </tr>\n",
       "    <tr>\n",
       "      <th>3</th>\n",
       "      <td>40</td>\n",
       "      <td>Deathmatch Classic</td>\n",
       "      <td>0</td>\n",
       "      <td>0</td>\n",
       "      <td>76561197970982479</td>\n",
       "      <td>277</td>\n",
       "      <td>76561197970982479</td>\n",
       "      <td>http://steamcommunity.com/profiles/76561197970...</td>\n",
       "    </tr>\n",
       "    <tr>\n",
       "      <th>4</th>\n",
       "      <td>50</td>\n",
       "      <td>Half-Life: Opposing Force</td>\n",
       "      <td>0</td>\n",
       "      <td>0</td>\n",
       "      <td>76561197970982479</td>\n",
       "      <td>277</td>\n",
       "      <td>76561197970982479</td>\n",
       "      <td>http://steamcommunity.com/profiles/76561197970...</td>\n",
       "    </tr>\n",
       "  </tbody>\n",
       "</table>\n",
       "</div>"
      ],
      "text/plain": [
       "  item_id                  item_name  playtime_forever  playtime_2weeks  \\\n",
       "0      10             Counter-Strike                 6                0   \n",
       "1      20      Team Fortress Classic                 0                0   \n",
       "2      30              Day of Defeat                 7                0   \n",
       "3      40         Deathmatch Classic                 0                0   \n",
       "4      50  Half-Life: Opposing Force                 0                0   \n",
       "\n",
       "             user_id items_count           steam_id  \\\n",
       "0  76561197970982479         277  76561197970982479   \n",
       "1  76561197970982479         277  76561197970982479   \n",
       "2  76561197970982479         277  76561197970982479   \n",
       "3  76561197970982479         277  76561197970982479   \n",
       "4  76561197970982479         277  76561197970982479   \n",
       "\n",
       "                                            user_url  \n",
       "0  http://steamcommunity.com/profiles/76561197970...  \n",
       "1  http://steamcommunity.com/profiles/76561197970...  \n",
       "2  http://steamcommunity.com/profiles/76561197970...  \n",
       "3  http://steamcommunity.com/profiles/76561197970...  \n",
       "4  http://steamcommunity.com/profiles/76561197970...  "
      ]
     },
     "execution_count": 4,
     "metadata": {},
     "output_type": "execute_result"
    }
   ],
   "source": [
    "meta = df_items.columns[:4].tolist()\n",
    "df_items_expanded = pd.json_normalize(data, 'items', meta)\n",
    "df_items_expanded.head()"
   ]
  },
  {
   "cell_type": "markdown",
   "metadata": {
    "id": "ayC9pvxCet6n"
   },
   "source": [
    "* Comprobamos los datos del DataFrame desanidado."
   ]
  },
  {
   "cell_type": "code",
   "execution_count": 5,
   "metadata": {
    "ExecuteTime": {
     "end_time": "2024-03-13T00:57:07.056913Z",
     "start_time": "2024-03-13T00:57:07.038063Z"
    },
    "colab": {
     "base_uri": "https://localhost:8080/"
    },
    "id": "cuu9Zi7xCpF-",
    "outputId": "58e051b7-0280-4df7-b3a0-8f8e7f5a419d"
   },
   "outputs": [
    {
     "name": "stdout",
     "output_type": "stream",
     "text": [
      "<class 'pandas.core.frame.DataFrame'>\n",
      "RangeIndex: 5153209 entries, 0 to 5153208\n",
      "Data columns (total 8 columns):\n",
      " #   Column            Dtype \n",
      "---  ------            ----- \n",
      " 0   item_id           object\n",
      " 1   item_name         object\n",
      " 2   playtime_forever  int64 \n",
      " 3   playtime_2weeks   int64 \n",
      " 4   user_id           object\n",
      " 5   items_count       object\n",
      " 6   steam_id          object\n",
      " 7   user_url          object\n",
      "dtypes: int64(2), object(6)\n",
      "memory usage: 314.5+ MB\n"
     ]
    }
   ],
   "source": [
    "df_items_expanded.info()"
   ]
  },
  {
   "cell_type": "markdown",
   "metadata": {
    "id": "vxQ4M5gEFsqZ"
   },
   "source": [
    "### Descripción de los datos.\n",
    "\n",
    "A partir del análisis exploratorio anterior, podemos observar que el conjunto de datos contiene **5153209** registros y **8** variables con información de los usuarios de Steam y el contenido que consumen. A continuación, se describe el contenido de las variables:\n",
    "\n",
    "- **user_id**: identificador único del usuario.\n",
    "- **items_count**: número total de juegos que posee el usuario\n",
    "- **steam_id**: identificador único SteamID de la cuenta.\n",
    "- **user_url**: URL del perfil del usuario.\n",
    "- **items**: items del usuario en formato JSON. Contiene las siguientes claves:\n",
    "    - **item_id**: identificador único del juego.\n",
    "    - **item_name**: nombre del juego.\n",
    "    - **playtime_forever**:  número total de minutos jugados desde que se tiene registro (año 2009).\n",
    "    - **playtime_2weeks**: número total de minutos jugados en las últimas 2 semanas.\n",
    "\n"
   ]
  },
  {
   "cell_type": "markdown",
   "metadata": {
    "id": "87Mljn5rIpOr"
   },
   "source": [
    "## Transformación"
   ]
  },
  {
   "cell_type": "markdown",
   "metadata": {
    "id": "2G3I2RLIJDhj"
   },
   "source": [
    "En esta sección, realizamos la limpieza inicial de los datos y las transformaciones necesarias. Esto puede incluir la creación de nuevas columnas a partir de las existentes, la eliminación de duplicados o columnas innecesarias, la gestión de valores nulos o la corrección de tipos de datos."
   ]
  },
  {
   "cell_type": "markdown",
   "metadata": {
    "id": "0mYQPG_oO3aJ"
   },
   "source": [
    "### Gestión de valores nulos"
   ]
  },
  {
   "cell_type": "markdown",
   "metadata": {
    "id": "gFeLm3zfdnK_"
   },
   "source": [
    "Comprobamos nulos:"
   ]
  },
  {
   "cell_type": "code",
   "execution_count": 6,
   "metadata": {
    "ExecuteTime": {
     "end_time": "2024-03-13T00:57:19.214418Z",
     "start_time": "2024-03-13T00:57:16.819268Z"
    },
    "colab": {
     "base_uri": "https://localhost:8080/"
    },
    "id": "8VLkgtcfo79Q",
    "outputId": "098a6538-8270-48fa-a2e2-f97f138b8dd0"
   },
   "outputs": [
    {
     "data": {
      "text/plain": [
       "item_id             0\n",
       "item_name           0\n",
       "playtime_forever    0\n",
       "playtime_2weeks     0\n",
       "user_id             0\n",
       "items_count         0\n",
       "steam_id            0\n",
       "user_url            0\n",
       "dtype: int64"
      ]
     },
     "execution_count": 6,
     "metadata": {},
     "output_type": "execute_result"
    }
   ],
   "source": [
    "df_items_expanded.isnull().sum()"
   ]
  },
  {
   "cell_type": "markdown",
   "metadata": {
    "id": "Ijui_l_vduWr"
   },
   "source": [
    "No tenemos nulos por lo que ahora comprobamos duplicados."
   ]
  },
  {
   "cell_type": "markdown",
   "metadata": {
    "id": "jK8bBl21Poes"
   },
   "source": [
    "### Verificación de duplicados"
   ]
  },
  {
   "cell_type": "markdown",
   "metadata": {
    "id": "1NpNOw1sEs6G"
   },
   "source": [
    "Comprobamos si tenemos duplicados:"
   ]
  },
  {
   "cell_type": "code",
   "execution_count": 7,
   "metadata": {
    "ExecuteTime": {
     "end_time": "2024-03-13T00:58:44.114118Z",
     "start_time": "2024-03-13T00:58:34.797335Z"
    },
    "colab": {
     "base_uri": "https://localhost:8080/",
     "height": 600
    },
    "id": "8IhE7euffhkQ",
    "outputId": "92477fc2-f2a0-45f3-f535-f96282a30631"
   },
   "outputs": [
    {
     "data": {
      "text/html": [
       "<div>\n",
       "<style scoped>\n",
       "    .dataframe tbody tr th:only-of-type {\n",
       "        vertical-align: middle;\n",
       "    }\n",
       "\n",
       "    .dataframe tbody tr th {\n",
       "        vertical-align: top;\n",
       "    }\n",
       "\n",
       "    .dataframe thead th {\n",
       "        text-align: right;\n",
       "    }\n",
       "</style>\n",
       "<table border=\"1\" class=\"dataframe\">\n",
       "  <thead>\n",
       "    <tr style=\"text-align: right;\">\n",
       "      <th></th>\n",
       "      <th>item_id</th>\n",
       "      <th>item_name</th>\n",
       "      <th>playtime_forever</th>\n",
       "      <th>playtime_2weeks</th>\n",
       "      <th>user_id</th>\n",
       "      <th>items_count</th>\n",
       "      <th>steam_id</th>\n",
       "      <th>user_url</th>\n",
       "    </tr>\n",
       "  </thead>\n",
       "  <tbody>\n",
       "    <tr>\n",
       "      <th>1094154</th>\n",
       "      <td>104900</td>\n",
       "      <td>ORION: Prelude</td>\n",
       "      <td>0</td>\n",
       "      <td>0</td>\n",
       "      <td>05041129</td>\n",
       "      <td>35</td>\n",
       "      <td>76561198167088451</td>\n",
       "      <td>http://steamcommunity.com/id/05041129</td>\n",
       "    </tr>\n",
       "    <tr>\n",
       "      <th>2712151</th>\n",
       "      <td>104900</td>\n",
       "      <td>ORION: Prelude</td>\n",
       "      <td>0</td>\n",
       "      <td>0</td>\n",
       "      <td>05041129</td>\n",
       "      <td>35</td>\n",
       "      <td>76561198167088451</td>\n",
       "      <td>http://steamcommunity.com/id/05041129</td>\n",
       "    </tr>\n",
       "    <tr>\n",
       "      <th>1094152</th>\n",
       "      <td>105600</td>\n",
       "      <td>Terraria</td>\n",
       "      <td>650</td>\n",
       "      <td>0</td>\n",
       "      <td>05041129</td>\n",
       "      <td>35</td>\n",
       "      <td>76561198167088451</td>\n",
       "      <td>http://steamcommunity.com/id/05041129</td>\n",
       "    </tr>\n",
       "    <tr>\n",
       "      <th>2712149</th>\n",
       "      <td>105600</td>\n",
       "      <td>Terraria</td>\n",
       "      <td>650</td>\n",
       "      <td>0</td>\n",
       "      <td>05041129</td>\n",
       "      <td>35</td>\n",
       "      <td>76561198167088451</td>\n",
       "      <td>http://steamcommunity.com/id/05041129</td>\n",
       "    </tr>\n",
       "    <tr>\n",
       "      <th>1094156</th>\n",
       "      <td>17080</td>\n",
       "      <td>Tribes: Ascend</td>\n",
       "      <td>0</td>\n",
       "      <td>0</td>\n",
       "      <td>05041129</td>\n",
       "      <td>35</td>\n",
       "      <td>76561198167088451</td>\n",
       "      <td>http://steamcommunity.com/id/05041129</td>\n",
       "    </tr>\n",
       "    <tr>\n",
       "      <th>...</th>\n",
       "      <td>...</td>\n",
       "      <td>...</td>\n",
       "      <td>...</td>\n",
       "      <td>...</td>\n",
       "      <td>...</td>\n",
       "      <td>...</td>\n",
       "      <td>...</td>\n",
       "      <td>...</td>\n",
       "    </tr>\n",
       "    <tr>\n",
       "      <th>2928853</th>\n",
       "      <td>96400</td>\n",
       "      <td>Shoot Many Robots</td>\n",
       "      <td>759</td>\n",
       "      <td>0</td>\n",
       "      <td>zeroblade</td>\n",
       "      <td>306</td>\n",
       "      <td>76561197970272666</td>\n",
       "      <td>http://steamcommunity.com/id/zeroblade</td>\n",
       "    </tr>\n",
       "    <tr>\n",
       "      <th>1226806</th>\n",
       "      <td>97100</td>\n",
       "      <td>Section 8: Prejudice</td>\n",
       "      <td>70</td>\n",
       "      <td>0</td>\n",
       "      <td>zeroblade</td>\n",
       "      <td>306</td>\n",
       "      <td>76561197970272666</td>\n",
       "      <td>http://steamcommunity.com/id/zeroblade</td>\n",
       "    </tr>\n",
       "    <tr>\n",
       "      <th>2928821</th>\n",
       "      <td>97100</td>\n",
       "      <td>Section 8: Prejudice</td>\n",
       "      <td>70</td>\n",
       "      <td>0</td>\n",
       "      <td>zeroblade</td>\n",
       "      <td>306</td>\n",
       "      <td>76561197970272666</td>\n",
       "      <td>http://steamcommunity.com/id/zeroblade</td>\n",
       "    </tr>\n",
       "    <tr>\n",
       "      <th>1226872</th>\n",
       "      <td>98200</td>\n",
       "      <td>Frozen Synapse</td>\n",
       "      <td>112</td>\n",
       "      <td>0</td>\n",
       "      <td>zeroblade</td>\n",
       "      <td>306</td>\n",
       "      <td>76561197970272666</td>\n",
       "      <td>http://steamcommunity.com/id/zeroblade</td>\n",
       "    </tr>\n",
       "    <tr>\n",
       "      <th>2928826</th>\n",
       "      <td>98200</td>\n",
       "      <td>Frozen Synapse</td>\n",
       "      <td>112</td>\n",
       "      <td>0</td>\n",
       "      <td>zeroblade</td>\n",
       "      <td>306</td>\n",
       "      <td>76561197970272666</td>\n",
       "      <td>http://steamcommunity.com/id/zeroblade</td>\n",
       "    </tr>\n",
       "  </tbody>\n",
       "</table>\n",
       "<p>117731 rows × 8 columns</p>\n",
       "</div>"
      ],
      "text/plain": [
       "        item_id             item_name  playtime_forever  playtime_2weeks  \\\n",
       "1094154  104900        ORION: Prelude                 0                0   \n",
       "2712151  104900        ORION: Prelude                 0                0   \n",
       "1094152  105600              Terraria               650                0   \n",
       "2712149  105600              Terraria               650                0   \n",
       "1094156   17080        Tribes: Ascend                 0                0   \n",
       "...         ...                   ...               ...              ...   \n",
       "2928853   96400     Shoot Many Robots               759                0   \n",
       "1226806   97100  Section 8: Prejudice                70                0   \n",
       "2928821   97100  Section 8: Prejudice                70                0   \n",
       "1226872   98200        Frozen Synapse               112                0   \n",
       "2928826   98200        Frozen Synapse               112                0   \n",
       "\n",
       "           user_id items_count           steam_id  \\\n",
       "1094154   05041129          35  76561198167088451   \n",
       "2712151   05041129          35  76561198167088451   \n",
       "1094152   05041129          35  76561198167088451   \n",
       "2712149   05041129          35  76561198167088451   \n",
       "1094156   05041129          35  76561198167088451   \n",
       "...            ...         ...                ...   \n",
       "2928853  zeroblade         306  76561197970272666   \n",
       "1226806  zeroblade         306  76561197970272666   \n",
       "2928821  zeroblade         306  76561197970272666   \n",
       "1226872  zeroblade         306  76561197970272666   \n",
       "2928826  zeroblade         306  76561197970272666   \n",
       "\n",
       "                                       user_url  \n",
       "1094154   http://steamcommunity.com/id/05041129  \n",
       "2712151   http://steamcommunity.com/id/05041129  \n",
       "1094152   http://steamcommunity.com/id/05041129  \n",
       "2712149   http://steamcommunity.com/id/05041129  \n",
       "1094156   http://steamcommunity.com/id/05041129  \n",
       "...                                         ...  \n",
       "2928853  http://steamcommunity.com/id/zeroblade  \n",
       "1226806  http://steamcommunity.com/id/zeroblade  \n",
       "2928821  http://steamcommunity.com/id/zeroblade  \n",
       "1226872  http://steamcommunity.com/id/zeroblade  \n",
       "2928826  http://steamcommunity.com/id/zeroblade  \n",
       "\n",
       "[117731 rows x 8 columns]"
      ]
     },
     "execution_count": 7,
     "metadata": {},
     "output_type": "execute_result"
    }
   ],
   "source": [
    "df_items_expanded[df_items_expanded.duplicated(keep=False)].sort_values(['user_id','item_id'])"
   ]
  },
  {
   "cell_type": "code",
   "execution_count": 8,
   "metadata": {
    "ExecuteTime": {
     "end_time": "2024-03-13T01:01:00.870637Z",
     "start_time": "2024-03-13T01:00:51.824898Z"
    },
    "colab": {
     "base_uri": "https://localhost:8080/"
    },
    "id": "ABzqbLhCArnl",
    "outputId": "70547a03-bab8-473b-b2e8-c32ce9b3ea49"
   },
   "outputs": [
    {
     "data": {
      "text/plain": [
       "59104"
      ]
     },
     "execution_count": 8,
     "metadata": {},
     "output_type": "execute_result"
    }
   ],
   "source": [
    "df_items_expanded.duplicated().sum()"
   ]
  },
  {
   "cell_type": "markdown",
   "metadata": {
    "id": "mEs7eJjaeaEx"
   },
   "source": [
    "Tenemos **59104** duplicados que debemos a eliminar."
   ]
  },
  {
   "cell_type": "code",
   "execution_count": 9,
   "metadata": {
    "ExecuteTime": {
     "end_time": "2024-03-13T01:01:32.309073Z",
     "start_time": "2024-03-13T01:01:22.765485Z"
    },
    "colab": {
     "base_uri": "https://localhost:8080/"
    },
    "id": "sVLaF7DHD9H-",
    "outputId": "b5efd71f-c1dc-4a1b-b17c-f63f0680fb90"
   },
   "outputs": [
    {
     "data": {
      "text/plain": [
       "(5094105, 8)"
      ]
     },
     "execution_count": 9,
     "metadata": {},
     "output_type": "execute_result"
    }
   ],
   "source": [
    "df_items_expanded.drop_duplicates(inplace=True)\n",
    "df_items_expanded.shape"
   ]
  },
  {
   "cell_type": "markdown",
   "metadata": {
    "id": "bSj15rHcYm6p"
   },
   "source": [
    "### Conversión de minutos a horas en `playtime_forever`"
   ]
  },
  {
   "cell_type": "markdown",
   "metadata": {
    "id": "NCcWB1HXY138"
   },
   "source": [
    "Como queremos que nuestra API nos devuelva el tiempo de juego en horas y no en minutos, convertimos la columna `playtime_forever` a la unidad adecuada. "
   ]
  },
  {
   "cell_type": "code",
   "execution_count": 10,
   "metadata": {
    "ExecuteTime": {
     "end_time": "2024-03-13T01:01:50.795534Z",
     "start_time": "2024-03-13T01:01:50.733615Z"
    },
    "colab": {
     "base_uri": "https://localhost:8080/",
     "height": 348
    },
    "id": "vrTwp_e3P9IJ",
    "outputId": "a7fd830d-b6d6-41e2-8a2d-8b9f865da176"
   },
   "outputs": [
    {
     "data": {
      "text/html": [
       "<div>\n",
       "<style scoped>\n",
       "    .dataframe tbody tr th:only-of-type {\n",
       "        vertical-align: middle;\n",
       "    }\n",
       "\n",
       "    .dataframe tbody tr th {\n",
       "        vertical-align: top;\n",
       "    }\n",
       "\n",
       "    .dataframe thead th {\n",
       "        text-align: right;\n",
       "    }\n",
       "</style>\n",
       "<table border=\"1\" class=\"dataframe\">\n",
       "  <thead>\n",
       "    <tr style=\"text-align: right;\">\n",
       "      <th></th>\n",
       "      <th>item_id</th>\n",
       "      <th>item_name</th>\n",
       "      <th>playtime_forever</th>\n",
       "      <th>playtime_2weeks</th>\n",
       "      <th>user_id</th>\n",
       "      <th>items_count</th>\n",
       "      <th>steam_id</th>\n",
       "      <th>user_url</th>\n",
       "    </tr>\n",
       "  </thead>\n",
       "  <tbody>\n",
       "    <tr>\n",
       "      <th>0</th>\n",
       "      <td>10</td>\n",
       "      <td>Counter-Strike</td>\n",
       "      <td>0.100000</td>\n",
       "      <td>0</td>\n",
       "      <td>76561197970982479</td>\n",
       "      <td>277</td>\n",
       "      <td>76561197970982479</td>\n",
       "      <td>http://steamcommunity.com/profiles/76561197970...</td>\n",
       "    </tr>\n",
       "    <tr>\n",
       "      <th>1</th>\n",
       "      <td>20</td>\n",
       "      <td>Team Fortress Classic</td>\n",
       "      <td>0.000000</td>\n",
       "      <td>0</td>\n",
       "      <td>76561197970982479</td>\n",
       "      <td>277</td>\n",
       "      <td>76561197970982479</td>\n",
       "      <td>http://steamcommunity.com/profiles/76561197970...</td>\n",
       "    </tr>\n",
       "    <tr>\n",
       "      <th>2</th>\n",
       "      <td>30</td>\n",
       "      <td>Day of Defeat</td>\n",
       "      <td>0.116667</td>\n",
       "      <td>0</td>\n",
       "      <td>76561197970982479</td>\n",
       "      <td>277</td>\n",
       "      <td>76561197970982479</td>\n",
       "      <td>http://steamcommunity.com/profiles/76561197970...</td>\n",
       "    </tr>\n",
       "    <tr>\n",
       "      <th>3</th>\n",
       "      <td>40</td>\n",
       "      <td>Deathmatch Classic</td>\n",
       "      <td>0.000000</td>\n",
       "      <td>0</td>\n",
       "      <td>76561197970982479</td>\n",
       "      <td>277</td>\n",
       "      <td>76561197970982479</td>\n",
       "      <td>http://steamcommunity.com/profiles/76561197970...</td>\n",
       "    </tr>\n",
       "    <tr>\n",
       "      <th>4</th>\n",
       "      <td>50</td>\n",
       "      <td>Half-Life: Opposing Force</td>\n",
       "      <td>0.000000</td>\n",
       "      <td>0</td>\n",
       "      <td>76561197970982479</td>\n",
       "      <td>277</td>\n",
       "      <td>76561197970982479</td>\n",
       "      <td>http://steamcommunity.com/profiles/76561197970...</td>\n",
       "    </tr>\n",
       "  </tbody>\n",
       "</table>\n",
       "</div>"
      ],
      "text/plain": [
       "  item_id                  item_name  playtime_forever  playtime_2weeks  \\\n",
       "0      10             Counter-Strike          0.100000                0   \n",
       "1      20      Team Fortress Classic          0.000000                0   \n",
       "2      30              Day of Defeat          0.116667                0   \n",
       "3      40         Deathmatch Classic          0.000000                0   \n",
       "4      50  Half-Life: Opposing Force          0.000000                0   \n",
       "\n",
       "             user_id items_count           steam_id  \\\n",
       "0  76561197970982479         277  76561197970982479   \n",
       "1  76561197970982479         277  76561197970982479   \n",
       "2  76561197970982479         277  76561197970982479   \n",
       "3  76561197970982479         277  76561197970982479   \n",
       "4  76561197970982479         277  76561197970982479   \n",
       "\n",
       "                                            user_url  \n",
       "0  http://steamcommunity.com/profiles/76561197970...  \n",
       "1  http://steamcommunity.com/profiles/76561197970...  \n",
       "2  http://steamcommunity.com/profiles/76561197970...  \n",
       "3  http://steamcommunity.com/profiles/76561197970...  \n",
       "4  http://steamcommunity.com/profiles/76561197970...  "
      ]
     },
     "execution_count": 10,
     "metadata": {},
     "output_type": "execute_result"
    }
   ],
   "source": [
    "df_items_expanded['playtime_forever'] = df_items_expanded['playtime_forever'] / 60\n",
    "df_items_expanded.head()"
   ]
  },
  {
   "cell_type": "markdown",
   "metadata": {
    "id": "WjYIMHklHbnJ"
   },
   "source": [
    "### Eliminación de columnas innecesarias"
   ]
  },
  {
   "cell_type": "markdown",
   "metadata": {
    "id": "ral5I_GxHyAy"
   },
   "source": [
    "Para optimizar nuestras consultas en la API, eliminamos las columnas `playtime_2weeks`, `steam_id`, `user_url`, `item_name` y `items_count`, que tampoco son necesarias para nuestro análisis. \n",
    "\n"
   ]
  },
  {
   "cell_type": "code",
   "execution_count": 11,
   "metadata": {
    "ExecuteTime": {
     "end_time": "2024-03-13T01:03:39.926997Z",
     "start_time": "2024-03-13T01:03:38.050728Z"
    },
    "colab": {
     "base_uri": "https://localhost:8080/"
    },
    "id": "Z5C6DxtAIyar",
    "outputId": "90e71119-55a7-4cf6-ac4b-4d787f115958"
   },
   "outputs": [
    {
     "name": "stdout",
     "output_type": "stream",
     "text": [
      "<class 'pandas.core.frame.DataFrame'>\n",
      "Index: 5094105 entries, 0 to 5153208\n",
      "Data columns (total 3 columns):\n",
      " #   Column            Dtype  \n",
      "---  ------            -----  \n",
      " 0   item_id           object \n",
      " 1   playtime_forever  float64\n",
      " 2   user_id           object \n",
      "dtypes: float64(1), object(2)\n",
      "memory usage: 155.5+ MB\n"
     ]
    }
   ],
   "source": [
    "columns = ['playtime_2weeks', 'steam_id', 'user_url', 'item_name','items_count']\n",
    "df_items_expanded.drop(columns, axis=1, inplace=True)\n",
    "df_items_expanded.info()"
   ]
  },
  {
   "cell_type": "markdown",
   "metadata": {
    "id": "tf-KaxaJEuBx"
   },
   "source": [
    "## Carga"
   ]
  },
  {
   "cell_type": "markdown",
   "metadata": {
    "id": "LpmNGMg5FfZ4"
   },
   "source": [
    "##### Cargamos el dataset con el dataset limpio y formato comprimido."
   ]
  },
  {
   "cell_type": "code",
   "execution_count": 12,
   "metadata": {
    "ExecuteTime": {
     "end_time": "2024-03-13T01:03:53.943951Z",
     "start_time": "2024-03-13T01:03:50.051530Z"
    },
    "colab": {
     "base_uri": "https://localhost:8080/"
    },
    "id": "4drDruS1f92U",
    "outputId": "e265134c-5cbb-40ca-ccea-8dccaa69b414"
   },
   "outputs": [
    {
     "name": "stdout",
     "output_type": "stream",
     "text": [
      "El archivo user_items.parquet se guardó correctamente en /app/dataset/\n"
     ]
    }
   ],
   "source": [
    "# Definimos la ruta de destino y el nombre del archivo.\n",
    "folder_path = '/app/dataset/'\n",
    "file_name = 'user_items.parquet'\n",
    "\n",
    "# Verificamos si el folder_path existe\n",
    "if not os.path.exists(folder_path):\n",
    "    # Si no existe, lo creamos\n",
    "    os.makedirs(folder_path)\n",
    "\n",
    "# Exportamos el DataFrame a un archivo Parquet\n",
    "df_items_expanded.to_parquet(os.path.join(folder_path, file_name), engine='pyarrow', compression='zstd')\n",
    "\n",
    "print(f'El archivo {file_name} se guardó correctamente en {folder_path}')"
   ]
  }
 ],
 "metadata": {
  "kernelspec": {
   "display_name": "Python 3 (ipykernel)",
   "language": "python",
   "name": "python3"
  },
  "language_info": {
   "name": "python"
  }
 },
 "nbformat": 4,
 "nbformat_minor": 0
}
