{
 "cells": [
  {
   "cell_type": "markdown",
   "metadata": {
    "id": "1lXSwiQx3jCc"
   },
   "source": "# Prueba de las funciones\n"
  },
  {
   "cell_type": "markdown",
   "metadata": {
    "id": "2qgeZ0h0BBn2"
   },
   "source": "Este notebook se enfoca en desarrollar y probar funciones para los endpoints de la API, utilizando datasets específicos.\n"
  },
  {
   "cell_type": "markdown",
   "metadata": {
    "id": "MAAHYNr13nLW"
   },
   "source": "## Libreria utilizadas\n"
  },
  {
   "cell_type": "markdown",
   "metadata": {
    "id": "minb4-nsBSdR"
   },
   "source": [
    "En esta sección, importamos todas las bibliotecas y/o modulos necesarios para nuestro proceso de feature engineering y establecemos configuraciones globales de ser requerido.\n"
   ]
  },
  {
   "cell_type": "code",
   "metadata": {
    "colab": {
     "base_uri": "https://localhost:8080/"
    },
    "id": "SL5F1X0GETo0",
    "outputId": "89a89443-29cd-44de-c084-b943706edd2f",
    "ExecuteTime": {
     "end_time": "2024-03-18T15:43:10.675749Z",
     "start_time": "2024-03-18T15:43:08.800354Z"
    }
   },
   "source": [
    "import sys\n",
    "import pandas as pd\n",
    "import numpy as np\n"
   ],
   "outputs": [],
   "execution_count": 2
  },
  {
   "cell_type": "markdown",
   "metadata": {
    "id": "3735XSBx7a23"
   },
   "source": "## Extracción\n"
  },
  {
   "cell_type": "markdown",
   "metadata": {
    "id": "e2yZ74Q8Gpv6"
   },
   "source": "En esta sección, extraemos los datos de los archivos `df_endpoints1_2` y `df_endpoints3_4_5` en formato parquet que serán utilizados como si fuesen fuentes de base de datos para los endpoints.\n"
  },
  {
   "cell_type": "markdown",
   "metadata": {
    "id": "OhTA5DDP79w6"
   },
   "source": "### Extracción de los datos\n"
  },
  {
   "cell_type": "markdown",
   "metadata": {
    "id": "f_oRjdvhtRF3"
   },
   "source": [
    "Creamos una función que lee cada archivo desde su directorio y lo carga a un DataFrame de `pandas`.\n"
   ]
  },
  {
   "cell_type": "code",
   "metadata": {
    "id": "BiL1eeLrDfs9",
    "ExecuteTime": {
     "end_time": "2024-03-18T15:43:21.094922Z",
     "start_time": "2024-03-18T15:43:19.597425Z"
    }
   },
   "source": [
    "# Cargamos los archivos parquet\n",
    "def read_parquet_files(parquet_files):\n",
    "    dataframes = {}\n",
    "    for name in parquet_files:\n",
    "        dataframes[name] = pd.read_parquet(\n",
    "            f'../dataset/{name}.parquet', engine='pyarrow')\n",
    "    return dataframes\n",
    "\n",
    "\n",
    "parquet_files = ['df_endpoints1_2', 'df_endpoints3_4_5', 'df_similitud_usuarios', 'df_similitud_items', 'matrix']\n",
    "dataframes = read_parquet_files(parquet_files)\n",
    "\n",
    "# Convertimos a df los archivos parquet usando un iterador sobre la variable parquet_files y dataframes.\n",
    "df_endpoints1_2 = next(dataframes[name] for name in parquet_files if name == 'df_endpoints1_2')\n",
    "df_endpoints3_4_5 = next(dataframes[name] for name in parquet_files if name == 'df_endpoints3_4_5')\n",
    "df_similitud_usuarios = next(dataframes[name] for name in parquet_files if name == 'df_similitud_usuarios')\n",
    "df_similitud_items = next(dataframes[name] for name in parquet_files if name == 'df_similitud_items')\n",
    "df_matrix = next(dataframes[name] for name in parquet_files if name == 'matrix')\n",
    "\n",
    "\n"
   ],
   "outputs": [],
   "execution_count": 3
  },
  {
   "cell_type": "markdown",
   "metadata": {
    "id": "ROFPPzUskDCZ"
   },
   "source": "## Endpoints\n"
  },
  {
   "cell_type": "markdown",
   "metadata": {
    "id": "4MBkJcN9kIsL"
   },
   "source": "### Endpoint 1\n"
  },
  {
   "cell_type": "markdown",
   "metadata": {
    "id": "IeiZl0XdQuP-"
   },
   "source": [
    "def **PlayTimeGenre( _`genero` : str_ )**:\n",
    "Retorna `año` con mas horas jugadas para el género dado.\n",
    "Ejemplo de retorno:\n",
    "\n",
    "```js\n",
    "{\n",
    "   \"Año de lanzamiento con más horas jugadas para Género X\": 2013\n",
    "}\n",
    "```\n"
   ]
  },
  {
   "cell_type": "code",
   "metadata": {
    "id": "TnRtcIyTFRyc",
    "ExecuteTime": {
     "end_time": "2024-03-18T15:50:07.562081Z",
     "start_time": "2024-03-18T15:50:07.552540Z"
    }
   },
   "source": [
    "def PlayTimeGenre(genre: str):\n",
    "    \"\"\"\n",
    "    Devuelve el año con más horas jugadas para un género dado.\n",
    "\n",
    "    Args:\n",
    "        genre: El género del juego.\n",
    "\n",
    "    Returns:\n",
    "        El año de lanzamiento con más horas jugadas para un género dado.\n",
    "    Ejemplo de retorno:\n",
    "        {\n",
    "            \"Año de lanzamiento con más horas jugadas para Género X\": 2013\n",
    "        }\n",
    "    \"\"\"\n",
    "\n",
    "    # Verifica si el argumento es un str\n",
    "    if not isinstance(genre, str):\n",
    "        # Devuelve un mensaje de error\n",
    "        return f\"El género debe ser un texto de letras. Por favor, ingrese un género válido.\"\n",
    "\n",
    "    # Convierte el género a título o a mayúsculas según corresponda\n",
    "    if genre.upper() == \"RPG\":\n",
    "        genre = genre.upper()\n",
    "    else:\n",
    "        genre = genre.title()\n",
    "\n",
    "    # Verifica si el género existe\n",
    "    if genre not in df_endpoints1_2.columns:\n",
    "        # Devuelve un mensaje de error\n",
    "        return f\"Genre {genre} not found\"\n",
    "\n",
    "    # Filtra por género y resetea el índice para poder obtener el año de lanzamiento correcto\n",
    "    df_genre = df_endpoints1_2[genre].reset_index()\n",
    "\n",
    "    # Agrupa por año y calcula la suma total de horas jugadas para cada año\n",
    "    playtime_by_year = df_genre.groupby('release_year')[genre].sum()\n",
    "\n",
    "    # Encuentra el año con más horas jugadas\n",
    "    max_playtime_year = (playtime_by_year.idxmax())\n",
    "    response = {\n",
    "        f\"Año de lanzamiento con más horas jugadas para el género {genre}\": max_playtime_year}\n",
    "\n",
    "    return response"
   ],
   "outputs": [],
   "execution_count": 12
  },
  {
   "cell_type": "code",
   "metadata": {
    "colab": {
     "base_uri": "https://localhost:8080/"
    },
    "id": "PKvHEo_RfvVR",
    "outputId": "ec2894a3-d394-491e-982c-2211b363db80",
    "ExecuteTime": {
     "end_time": "2024-03-18T15:46:36.159656Z",
     "start_time": "2024-03-18T15:46:35.950033Z"
    }
   },
   "source": [
    "PlayTimeGenre('Casual')"
   ],
   "outputs": [
    {
     "data": {
      "text/plain": [
       "{'Año de lanzamiento con más horas jugadas para el género Casual': 2015}"
      ]
     },
     "execution_count": 5,
     "metadata": {},
     "output_type": "execute_result"
    }
   ],
   "execution_count": 5
  },
  {
   "cell_type": "code",
   "metadata": {
    "colab": {
     "base_uri": "https://localhost:8080/"
    },
    "id": "aoyqXAy3IZIw",
    "outputId": "f2dd2a33-40c3-4929-d571-06774b70663d",
    "ExecuteTime": {
     "end_time": "2024-03-18T15:46:46.018194Z",
     "start_time": "2024-03-18T15:46:45.969627Z"
    }
   },
   "source": "PlayTimeGenre('Action')",
   "outputs": [
    {
     "data": {
      "text/plain": [
       "{'Año de lanzamiento con más horas jugadas para el género Action': 2012}"
      ]
     },
     "execution_count": 6,
     "metadata": {},
     "output_type": "execute_result"
    }
   ],
   "execution_count": 6
  },
  {
   "cell_type": "code",
   "metadata": {
    "colab": {
     "base_uri": "https://localhost:8080/"
    },
    "id": "viovc2qmf0j-",
    "outputId": "ee0cad6b-d015-4d47-ffb2-1a3081f8cb98",
    "ExecuteTime": {
     "end_time": "2024-03-18T15:50:12.039218Z",
     "start_time": "2024-03-18T15:50:12.029418Z"
    }
   },
   "source": "PlayTimeGenre('Casuals')",
   "outputs": [
    {
     "data": {
      "text/plain": [
       "'Genre Casuals not found'"
      ]
     },
     "execution_count": 13,
     "metadata": {},
     "output_type": "execute_result"
    }
   ],
   "execution_count": 13
  },
  {
   "cell_type": "code",
   "metadata": {
    "ExecuteTime": {
     "end_time": "2024-03-18T15:50:15.530583Z",
     "start_time": "2024-03-18T15:50:15.521245Z"
    }
   },
   "source": [
    "PlayTimeGenre(12)"
   ],
   "outputs": [
    {
     "data": {
      "text/plain": [
       "'El género debe ser un texto de letras. Por favor, ingrese un género válido.'"
      ]
     },
     "execution_count": 14,
     "metadata": {},
     "output_type": "execute_result"
    }
   ],
   "execution_count": 14
  },
  {
   "cell_type": "markdown",
   "metadata": {
    "id": "loZ-T51ykRV6"
   },
   "source": "### Endpoint 2\n"
  },
  {
   "cell_type": "markdown",
   "metadata": {
    "id": "N2_GI187KOCp"
   },
   "source": [
    "- def **UserForGenre( _`genero` : str_ )**:\n",
    "  Debe devolver el usuario que acumula más horas jugadas para el género dado y una lista de la acumulación de horas jugadas por año.\n",
    "\n",
    "Ejemplo de retorno:\n",
    "\n",
    "```js\n",
    "{\n",
    "   \"Usuario con más horas jugadas para Género X\":\"us213ndjss09sdf\",\n",
    "   \"Horas jugadas\":[\n",
    "      {\n",
    "         \"Año\":2013,\n",
    "         \"Horas\":203\n",
    "      },\n",
    "      {\n",
    "         \"Año\":2012,\n",
    "         \"Horas\":100\n",
    "      },\n",
    "      {\n",
    "         \"Año\":2011,\n",
    "         \"Horas\":23\n",
    "      }\n",
    "   ]\n",
    "}\n",
    "```\n"
   ]
  },
  {
   "cell_type": "code",
   "metadata": {
    "id": "rmCM-VZ9IZCL",
    "ExecuteTime": {
     "end_time": "2024-03-18T15:51:57.719265Z",
     "start_time": "2024-03-18T15:51:57.705724Z"
    }
   },
   "source": [
    "def UserForGenre(genre: str):\n",
    "    \"\"\"\n",
    "    Devuelve el usuario que acumula más horas jugadas para un género dado.\n",
    "  \n",
    "    Args:\n",
    "      genre: El género del juego.\n",
    "  \n",
    "    Returns:\n",
    "      El usuario con más horas jugadas y una lista de la acumulación de horas jugadas por año.\n",
    "      Ejemplo de retorno:\n",
    "          {\n",
    "            \"Usuario con más horas jugadas para Género X\":\"us213ndjss09sdf\",\n",
    "            \"Horas jugadas\":[\n",
    "                {\n",
    "                  \"Año\":2013,\n",
    "                  \"Horas\":203\n",
    "                },\n",
    "                {\n",
    "                  \"Año\":2012,\n",
    "                  \"Horas\":100\n",
    "                },\n",
    "                {\n",
    "                  \"Año\":2011,\n",
    "                  \"Horas\":23\n",
    "                }\n",
    "            ]\n",
    "          }\n",
    "      \"\"\"\n",
    "    # Verificar si el argumento es un str\n",
    "    if not isinstance(genre, str):\n",
    "        # Devolver un mensaje de error\n",
    "        return f\"El argumento debe ser un texto de letras. Por favor, ingrese un género válido.\"\n",
    "\n",
    "    # Convertir el argumento a título o a mayúsculas según corresponda\n",
    "    if genre.upper() == \"RPG\":\n",
    "        genre = genre.upper()\n",
    "    else:\n",
    "        genre = genre.title()\n",
    "\n",
    "    if genre not in df_endpoints1_2.columns:\n",
    "        # Devolver un mensaje de error\n",
    "        return f\"Genero {genre} no encontrado\"\n",
    "\n",
    "    df_genre = df_endpoints1_2[genre].reset_index()\n",
    "    user_max_hours = df_genre.groupby('user_id')[genre].sum().idxmax()\n",
    "    hours_by_year = df_genre[df_genre['user_id'] == user_max_hours].groupby('release_year')[genre].sum().reset_index()\n",
    "    hours_by_year.columns = ['Año', 'Horas']\n",
    "    hours_by_year = hours_by_year[hours_by_year['Horas'] > 0]\n",
    "    hours_by_year['Horas'] = hours_by_year['Horas'].round().astype(int)\n",
    "\n",
    "    response = {\n",
    "        f\"Usuario con más horas jugadas para Género {genre} \": user_max_hours,\n",
    "        \"Horas jugadas\": hours_by_year.to_dict('records')\n",
    "    }\n",
    "\n",
    "    return response\n"
   ],
   "outputs": [],
   "execution_count": 16
  },
  {
   "cell_type": "code",
   "metadata": {
    "colab": {
     "base_uri": "https://localhost:8080/"
    },
    "id": "V7t-2PT6IY3N",
    "outputId": "f4655a02-0866-4f8b-b07b-c751e83a15fd",
    "ExecuteTime": {
     "end_time": "2024-03-18T15:52:01.512510Z",
     "start_time": "2024-03-18T15:52:01.166893Z"
    }
   },
   "source": "UserForGenre('rpg')",
   "outputs": [
    {
     "data": {
      "text/plain": [
       "{'Usuario con más horas jugadas para Género RPG ': 'shinomegami',\n",
       " 'Horas jugadas': [{'Año': 1999, 'Horas': 6},\n",
       "  {'Año': 2000, 'Horas': 140},\n",
       "  {'Año': 2003, 'Horas': 8849},\n",
       "  {'Año': 2004, 'Horas': 30},\n",
       "  {'Año': 2005, 'Horas': 3},\n",
       "  {'Año': 2006, 'Horas': 34},\n",
       "  {'Año': 2007, 'Horas': 2278},\n",
       "  {'Año': 2008, 'Horas': 22},\n",
       "  {'Año': 2009, 'Horas': 23},\n",
       "  {'Año': 2010, 'Horas': 690},\n",
       "  {'Año': 2011, 'Horas': 351},\n",
       "  {'Año': 2012, 'Horas': 459},\n",
       "  {'Año': 2013, 'Horas': 2108},\n",
       "  {'Año': 2014, 'Horas': 2456},\n",
       "  {'Año': 2015, 'Horas': 2132},\n",
       "  {'Año': 2016, 'Horas': 259}]}"
      ]
     },
     "execution_count": 17,
     "metadata": {},
     "output_type": "execute_result"
    }
   ],
   "execution_count": 17
  },
  {
   "cell_type": "code",
   "metadata": {
    "colab": {
     "base_uri": "https://localhost:8080/"
    },
    "id": "R4hxlgKehjiF",
    "outputId": "ab67c96a-095e-407b-ebfa-dfe7f61d5862",
    "ExecuteTime": {
     "end_time": "2024-03-18T15:52:24.710573Z",
     "start_time": "2024-03-18T15:52:24.530252Z"
    }
   },
   "source": "UserForGenre('action')",
   "outputs": [
    {
     "data": {
      "text/plain": [
       "{'Usuario con más horas jugadas para Género Action ': 'Sp3ctre',\n",
       " 'Horas jugadas': [{'Año': 1995, 'Horas': 4},\n",
       "  {'Año': 1997, 'Horas': 4},\n",
       "  {'Año': 1999, 'Horas': 1},\n",
       "  {'Año': 2000, 'Horas': 1177},\n",
       "  {'Año': 2001, 'Horas': 4},\n",
       "  {'Año': 2002, 'Horas': 4},\n",
       "  {'Año': 2003, 'Horas': 129},\n",
       "  {'Año': 2004, 'Horas': 2124},\n",
       "  {'Año': 2005, 'Horas': 356},\n",
       "  {'Año': 2006, 'Horas': 1504},\n",
       "  {'Año': 2007, 'Horas': 1880},\n",
       "  {'Año': 2008, 'Horas': 142},\n",
       "  {'Año': 2009, 'Horas': 1813},\n",
       "  {'Año': 2010, 'Horas': 1379},\n",
       "  {'Año': 2011, 'Horas': 2591},\n",
       "  {'Año': 2012, 'Horas': 6404},\n",
       "  {'Año': 2013, 'Horas': 2036},\n",
       "  {'Año': 2014, 'Horas': 2214},\n",
       "  {'Año': 2015, 'Horas': 6572},\n",
       "  {'Año': 2016, 'Horas': 503},\n",
       "  {'Año': 2017, 'Horas': 722}]}"
      ]
     },
     "execution_count": 18,
     "metadata": {},
     "output_type": "execute_result"
    }
   ],
   "execution_count": 18
  },
  {
   "cell_type": "code",
   "metadata": {
    "colab": {
     "base_uri": "https://localhost:8080/"
    },
    "id": "Ncq5xQs8hsBj",
    "outputId": "a1f4a6c6-2f87-431c-dd03-3d0abad4d0b7",
    "ExecuteTime": {
     "end_time": "2024-03-18T15:52:57.858429Z",
     "start_time": "2024-03-18T15:52:57.846624Z"
    }
   },
   "source": "UserForGenre('Acitones')",
   "outputs": [
    {
     "data": {
      "text/plain": [
       "'Genero Acitones no encontrado'"
      ]
     },
     "execution_count": 19,
     "metadata": {},
     "output_type": "execute_result"
    }
   ],
   "execution_count": 19
  },
  {
   "cell_type": "code",
   "metadata": {
    "ExecuteTime": {
     "end_time": "2024-03-18T15:53:02.520481Z",
     "start_time": "2024-03-18T15:53:02.500024Z"
    }
   },
   "source": [
    "UserForGenre(123)"
   ],
   "outputs": [
    {
     "data": {
      "text/plain": [
       "'El argumento debe ser un texto de letras. Por favor, ingrese un género válido.'"
      ]
     },
     "execution_count": 20,
     "metadata": {},
     "output_type": "execute_result"
    }
   ],
   "execution_count": 20
  },
  {
   "cell_type": "markdown",
   "metadata": {
    "id": "x2zFcxAYkYtI"
   },
   "source": "### Endpoint 3\n"
  },
  {
   "cell_type": "markdown",
   "metadata": {
    "id": "-hX3X1F0RV8g"
   },
   "source": [
    "- def **UsersRecommend( _`año` : int_ )**:\n",
    "  Devuelve el top 3 de juegos MÁS recomendados por usuarios para el año dado. (reviews.recommend = True y comentarios positivos/neutrales)\n",
    "\n",
    "Ejemplo de retorno:\n",
    "\n",
    "```js\n",
    "[\n",
    "  {\n",
    "    \"Puesto 1\": \"X\",\n",
    "  },\n",
    "  {\n",
    "    \"Puesto 2\": \"Y\",\n",
    "  },\n",
    "  {\n",
    "    \"Puesto 3\": \"Z\",\n",
    "  },\n",
    "];\n",
    "```\n"
   ]
  },
  {
   "cell_type": "code",
   "metadata": {
    "id": "6s_PTaTlylKw",
    "ExecuteTime": {
     "end_time": "2024-03-18T15:54:06.331981Z",
     "start_time": "2024-03-18T15:54:06.310727Z"
    }
   },
   "source": [
    "def UsersRecommend(year: int):\n",
    "    \"\"\"\n",
    "    Devuelve el top 3 de juegos MÁS recomendados por usuarios para el año dado.\n",
    "    (reviews.recommend = True y comentarios positivos/neutrales)\n",
    "\n",
    "    Args:\n",
    "      year: El año a filtrar.\n",
    "\n",
    "    Returns:\n",
    "      El top 3 de juegos recomendados.\n",
    "      Ejemplo de retorno:\n",
    "          [\n",
    "            {\n",
    "                \"Puesto 1\":\"X\"\n",
    "            },\n",
    "            {\n",
    "                \"Puesto 2\":\"Y\"\n",
    "            },\n",
    "            {\n",
    "                \"Puesto 3\":\"Z\"\n",
    "            }\n",
    "          ]\n",
    "    \"\"\"\n",
    "    # Comprueba si el año se encuentra en el DataFrame\n",
    "    if ~df_endpoints3_4_5['posted_year'].isin([year]).any():\n",
    "        print(f\"Year {year} not found\")\n",
    "        return None\n",
    "\n",
    "    # Filtra el DataFrame por año y recomendación\n",
    "    df_year = df_endpoints3_4_5[(df_endpoints3_4_5['posted_year'] == year) & (\n",
    "            df_endpoints3_4_5['recommend'] == True) & (df_endpoints3_4_5['sentiment_analysis'] > 1)]\n",
    "\n",
    "    # Agrupa por juego y cuenta el número de recomendaciones para cada juego\n",
    "    recommendations = df_year.groupby('item_name').size()\n",
    "\n",
    "    # Ordena los juegos en función del número de recomendaciones y toma el top 3\n",
    "    top_games = recommendations.sort_values(ascending=False).head(3)\n",
    "\n",
    "    response = [{\"Puesto {}\".format(i + 1): game}\n",
    "                for i, game in enumerate(top_games.index)]\n",
    "\n",
    "    return response"
   ],
   "outputs": [],
   "execution_count": 21
  },
  {
   "cell_type": "code",
   "metadata": {
    "colab": {
     "base_uri": "https://localhost:8080/"
    },
    "id": "2FeX3YVMy35R",
    "outputId": "d9133297-b8a1-414c-8ae9-d5a3d321083f",
    "ExecuteTime": {
     "end_time": "2024-03-18T15:54:11.438621Z",
     "start_time": "2024-03-18T15:54:11.404395Z"
    }
   },
   "source": [
    "UsersRecommend(2021)"
   ],
   "outputs": [
    {
     "name": "stdout",
     "output_type": "stream",
     "text": [
      "Year 2021 not found\n"
     ]
    }
   ],
   "execution_count": 22
  },
  {
   "metadata": {
    "ExecuteTime": {
     "end_time": "2024-03-18T15:54:43.374499Z",
     "start_time": "2024-03-18T15:54:43.202775Z"
    }
   },
   "cell_type": "code",
   "source": "UsersRecommend(2015)",
   "outputs": [
    {
     "data": {
      "text/plain": [
       "[{'Puesto 1': 'Counter-Strike: Global Offensive'},\n",
       " {'Puesto 2': \"Garry's Mod\"},\n",
       " {'Puesto 3': 'Unturned'}]"
      ]
     },
     "execution_count": 27,
     "metadata": {},
     "output_type": "execute_result"
    }
   ],
   "execution_count": 27
  },
  {
   "cell_type": "code",
   "metadata": {
    "colab": {
     "base_uri": "https://localhost:8080/"
    },
    "id": "xuRcZGADjYhy",
    "outputId": "658d1968-5512-4eaf-e454-82288969f81e",
    "ExecuteTime": {
     "end_time": "2024-03-18T15:54:18.379934Z",
     "start_time": "2024-03-18T15:54:18.302669Z"
    }
   },
   "source": [
    "UsersRecommend(2010)"
   ],
   "outputs": [
    {
     "data": {
      "text/plain": [
       "[{'Puesto 1': 'Team Fortress 2'},\n",
       " {'Puesto 2': 'Alien Swarm'},\n",
       " {'Puesto 3': \"Garry's Mod\"}]"
      ]
     },
     "execution_count": 23,
     "metadata": {},
     "output_type": "execute_result"
    }
   ],
   "execution_count": 23
  },
  {
   "cell_type": "markdown",
   "metadata": {
    "id": "tTGXo45Okazk"
   },
   "source": "### Endpoint 4\n"
  },
  {
   "cell_type": "markdown",
   "metadata": {
    "id": "cLL5TAo3Kwq1"
   },
   "source": [
    "- def **UsersWorstDeveloper( _`año` : int_ )**:\n",
    "  Devuelve el top 3 de desarrolladoras con juegos MENOS recomendados por usuarios para el año dado. (reviews.recommend = False y comentarios negativos)\n",
    "\n",
    "Ejemplo de retorno:\n",
    "\n",
    "```js\n",
    "[\n",
    "  {\n",
    "    \"Puesto 1\": \"X\",\n",
    "  },\n",
    "  {\n",
    "    \"Puesto 2\": \"Y\",\n",
    "  },\n",
    "  {\n",
    "    \"Puesto 3\": \"Z\",\n",
    "  },\n",
    "];\n",
    "```\n"
   ]
  },
  {
   "cell_type": "code",
   "metadata": {
    "id": "Su-4MOpkfmk4",
    "ExecuteTime": {
     "end_time": "2024-03-18T15:56:26.784607Z",
     "start_time": "2024-03-18T15:56:26.769412Z"
    }
   },
   "source": [
    "def UsersWorstDeveloper(year: int):\n",
    "    \"\"\"\n",
    "    Devuelve el top 3 de desarrolladoras con juegos MENOS recomendados por usuarios para el año dado. (reviews.recommend = False y comentarios negativos)\n",
    "\n",
    "    Args:\n",
    "      year: El año a filtrar.\n",
    "\n",
    "    Returns:\n",
    "      El top 3 de desarrolladoras con juegos MENOS recomendados\n",
    "      Ejemplo de retorno:\n",
    "          [\n",
    "            {\n",
    "                \"Puesto 1\":\"X\"\n",
    "            },\n",
    "            {\n",
    "                \"Puesto 2\":\"Y\"\n",
    "            },\n",
    "            {\n",
    "                \"Puesto 3\":\"Z\"\n",
    "            }\n",
    "          ]\n",
    "    \"\"\"\n",
    "    # Comprueba si el año se encuentra en el DataFrame\n",
    "    if ~df_endpoints3_4_5['posted_year'].isin([year]).any():\n",
    "        print(f\"Year {year} not found\")\n",
    "        return None\n",
    "\n",
    "    # Filtra el DataFrame por año y no recomendación\n",
    "    df_year = df_endpoints3_4_5[(df_endpoints3_4_5['posted_year'] == year) & (\n",
    "            df_endpoints3_4_5['recommend'] == False) & (df_endpoints3_4_5['sentiment_analysis'] == 0)]\n",
    "\n",
    "    # Agrupa por juego y cuenta el número de no recomendaciones para cada juego\n",
    "    not_recommendations = df_year.groupby('developer').size()\n",
    "\n",
    "    # Ordena los juegos en función del número de no recomendaciones y toma el top 3\n",
    "    top_games = not_recommendations.sort_values(ascending=False).head(3)\n",
    "\n",
    "    response = [{\"Puesto {}\".format(i + 1): game}\n",
    "                for i, game in enumerate(top_games.index)]\n",
    "\n",
    "    return response"
   ],
   "outputs": [],
   "execution_count": 28
  },
  {
   "cell_type": "code",
   "metadata": {
    "colab": {
     "base_uri": "https://localhost:8080/"
    },
    "id": "LfiI20MVkCwH",
    "outputId": "49bbf03e-9639-44b4-c838-1445ce60b985",
    "ExecuteTime": {
     "end_time": "2024-03-18T15:56:41.229094Z",
     "start_time": "2024-03-18T15:56:41.198850Z"
    }
   },
   "source": [
    "UsersWorstDeveloper(2025)"
   ],
   "outputs": [
    {
     "name": "stdout",
     "output_type": "stream",
     "text": [
      "Year 2025 not found\n"
     ]
    }
   ],
   "execution_count": 29
  },
  {
   "cell_type": "code",
   "metadata": {
    "colab": {
     "base_uri": "https://localhost:8080/"
    },
    "id": "h6AFJcRzIYlI",
    "outputId": "ed1ee6d9-9af1-4adc-d0fd-4213ea7800e4",
    "ExecuteTime": {
     "end_time": "2024-03-18T15:56:47.158916Z",
     "start_time": "2024-03-18T15:56:47.123613Z"
    }
   },
   "source": "UsersWorstDeveloper(2015)",
   "outputs": [
    {
     "data": {
      "text/plain": [
       "[{'Puesto 1': 'Bohemia Interactive'},\n",
       " {'Puesto 2': 'Facepunch Studios'},\n",
       " {'Puesto 3': 'Valve'}]"
      ]
     },
     "execution_count": 30,
     "metadata": {},
     "output_type": "execute_result"
    }
   ],
   "execution_count": 30
  },
  {
   "cell_type": "markdown",
   "metadata": {
    "id": "OFBIbcotkcGl"
   },
   "source": "### Endpoint 5\n"
  },
  {
   "cell_type": "markdown",
   "metadata": {
    "id": "HQwz5QUvh1WA"
   },
   "source": [
    "def **sentiment_analysis( _`empresa desarrolladora` : str_ )**:\n",
    "Según la empresa desarrolladora, se devuelve un diccionario con el nombre de la desarrolladora como llave y una lista con la cantidad total\n",
    "de registros de reseñas de usuarios que se encuentren categorizados con un análisis de sentimiento como valor.\n",
    "\n",
    "Ejemplo de retorno:\n",
    "\n",
    "```js\n",
    "{\n",
    "   \"Valve\":[\n",
    "      {\n",
    "         \"Negative\":1352\n",
    "      },\n",
    "      {\n",
    "         \"Neutral\":2202\n",
    "      },\n",
    "      {\n",
    "         \"Positive\":4840\n",
    "      }\n",
    "   ]\n",
    "}\n",
    "```\n"
   ]
  },
  {
   "cell_type": "code",
   "metadata": {
    "id": "AdXg3cHuh0kt",
    "ExecuteTime": {
     "end_time": "2024-03-18T15:57:30.424819Z",
     "start_time": "2024-03-18T15:57:30.405428Z"
    }
   },
   "source": [
    "def sentiment_analysis(developer: str):\n",
    "    \"\"\"\n",
    "    Según la empresa desarrolladora, se devuelve un diccionario con el nombre de la desarrolladora como llave y una lista con la cantidad total de registros de reseñas de usuarios que se encuentren categorizados con un análisis de sentimiento como valor.\n",
    "\n",
    "    Args:\n",
    "      developer: La desarrolladora a filtrar.\n",
    "\n",
    "    Returns:\n",
    "      El análisis de sentimiento para la desarrolladora dada.\n",
    "      Ejemplo de retorno:\n",
    "          {\n",
    "            \"Valve\":[\n",
    "                {\n",
    "                  \"Negative\":1352\n",
    "                },\n",
    "                {\n",
    "                  \"Neutral\":2202\n",
    "                },\n",
    "                {\n",
    "                  \"Positive\":4840\n",
    "                }\n",
    "            ]\n",
    "          }\n",
    "    \"\"\"\n",
    "    # Convierte el nombre de la desarrolladora a minúsculas\n",
    "    developer_lower = developer.lower()\n",
    "\n",
    "    # Filtra el DataFrame por el nombre de la empresa desarrolladora\n",
    "    df_dev = df_endpoints3_4_5[df_endpoints3_4_5[\"developer\"].str.lower()\n",
    "                               == developer_lower]\n",
    "\n",
    "    # Verifica si el desarrollador ingresado existe en el DataFrame\n",
    "    if df_dev.empty:\n",
    "        print(f\"Developer {developer} not found\")\n",
    "        return None\n",
    "\n",
    "    # Contamos el número de registros por cada categoría de sentimiento\n",
    "    sentiment_counts = df_dev['sentiment_analysis'].value_counts()\n",
    "    negative_reviews = sentiment_counts.get(0, 0)\n",
    "    neutral_reviews = sentiment_counts.get(1, 0)\n",
    "    positive_reviews = sentiment_counts.get(2, 0)\n",
    "\n",
    "    # Crear el diccionario con el nombre de la empresa desarrolladora como llave y la lista con los conteos como valor\n",
    "    response = {\n",
    "        developer_lower.capitalize(): [\n",
    "            {\"Negative\": negative_reviews},\n",
    "            {\"Neutral\": neutral_reviews},\n",
    "            {\"Positive\": positive_reviews}\n",
    "        ]\n",
    "    }\n",
    "\n",
    "    return response"
   ],
   "outputs": [],
   "execution_count": 31
  },
  {
   "cell_type": "code",
   "metadata": {
    "colab": {
     "base_uri": "https://localhost:8080/"
    },
    "id": "6hP8YUPWiNIE",
    "outputId": "d68c921c-ea37-462a-e3b1-0ec0c6564061",
    "ExecuteTime": {
     "end_time": "2024-03-18T16:00:04.903322Z",
     "start_time": "2024-03-18T16:00:04.849341Z"
    }
   },
   "source": "sentiment_analysis('sega')",
   "outputs": [
    {
     "data": {
      "text/plain": [
       "{'Sega': [{'Negative': 23}, {'Neutral': 9}, {'Positive': 59}]}"
      ]
     },
     "execution_count": 37,
     "metadata": {},
     "output_type": "execute_result"
    }
   ],
   "execution_count": 37
  },
  {
   "cell_type": "code",
   "metadata": {
    "colab": {
     "base_uri": "https://localhost:8080/"
    },
    "id": "ORGgdXQkcnb1",
    "outputId": "860ed2f1-555c-4662-d00b-488957c168ee",
    "ExecuteTime": {
     "end_time": "2024-03-18T16:00:00.401836Z",
     "start_time": "2024-03-18T16:00:00.341661Z"
    }
   },
   "source": "sentiment_analysis('sega')",
   "outputs": [
    {
     "data": {
      "text/plain": [
       "{'Sega': [{'Negative': 23}, {'Neutral': 9}, {'Positive': 59}]}"
      ]
     },
     "execution_count": 36,
     "metadata": {},
     "output_type": "execute_result"
    }
   ],
   "execution_count": 36
  },
  {
   "cell_type": "code",
   "metadata": {
    "colab": {
     "base_uri": "https://localhost:8080/"
    },
    "id": "SJcis0GscoPv",
    "outputId": "84a4239b-0ed4-4f11-9243-7191dbdcc915",
    "ExecuteTime": {
     "end_time": "2024-03-18T15:59:46.325700Z",
     "start_time": "2024-03-18T15:59:46.280125Z"
    }
   },
   "source": "sentiment_analysis('Ubisoft450')",
   "outputs": [
    {
     "name": "stdout",
     "output_type": "stream",
     "text": [
      "Developer Ubisoft450 not found\n"
     ]
    }
   ],
   "execution_count": 35
  },
  {
   "cell_type": "markdown",
   "metadata": {},
   "source": "## Recommendations"
  },
  {
   "cell_type": "markdown",
   "metadata": {},
   "source": "### Item-Item"
  },
  {
   "cell_type": "markdown",
   "metadata": {},
   "source": [
    "+ def **game_recommender( *`item_name`* )**:\n",
    "    Ingresando el nombre de un juego, deberíamos recibir una lista con 5 juegos recomendados similares al ingresado."
   ]
  },
  {
   "cell_type": "code",
   "metadata": {
    "ExecuteTime": {
     "end_time": "2024-03-18T16:01:38.960800Z",
     "start_time": "2024-03-18T16:01:38.942268Z"
    }
   },
   "source": [
    "def game_recommender(item_name: str):\n",
    "    '''\n",
    "    Muestra una lista de juegos similares a un juego dado.\n",
    "\n",
    "    Args:\n",
    "        item_name: El nombre del juego para el cual se desean encontrar juegos similares.\n",
    "\n",
    "    Returns:\n",
    "        Los 5 juegos recomendados.\n",
    "\n",
    "    '''\n",
    "    # Verificamos si el juego ingresado está en el dataframe\n",
    "    if item_name not in df_similitud_items.index:\n",
    "        return f\"Game {item_name} not found\"\n",
    "\n",
    "    # Buscamos la fila del dataframe que corresponde al juego ingresado\n",
    "    row = df_similitud_items.loc[item_name]\n",
    "\n",
    "    # Ordenamos la fila de mayor a menor similitud\n",
    "    row_sorted = row.sort_values(ascending=False)\n",
    "\n",
    "    # Obtenemos los nombres de los 5 juegos más similares, excluyendo el mismo juego\n",
    "    similar_games = row_sorted.index[1:6]\n",
    "\n",
    "    # Creamos un diccionario vacío para guardar los juegos y sus índices\n",
    "    recommendations = {}\n",
    "\n",
    "    for i, juego in enumerate(similar_games, start=1):\n",
    "        # Asignamos el índice y el nombre del juego al diccionario\n",
    "        recommendations[i] = juego\n",
    "    return recommendations"
   ],
   "outputs": [],
   "execution_count": 39
  },
  {
   "cell_type": "code",
   "metadata": {
    "ExecuteTime": {
     "end_time": "2024-03-18T16:01:43.006488Z",
     "start_time": "2024-03-18T16:01:42.979031Z"
    }
   },
   "source": "df_similitud_items.columns",
   "outputs": [
    {
     "data": {
      "text/plain": [
       "Index(['100% Orange Juice', '8BitMMO', 'A Bird Story',\n",
       "       'A Story About My Uncle', 'APB Reloaded', 'ARK: Survival Evolved',\n",
       "       'ARMA: Cold War Assault', 'Ace of Spades: Battle Builder',\n",
       "       'AdVenture Capitalist', 'Age of Empires II HD',\n",
       "       ...\n",
       "       'Worms Revolution', 'XCOM: Enemy Unknown', 'XCOM® 2',\n",
       "       'Yet Another Zombie Defense', 'You Have to Win the Game',\n",
       "       'Zombie Army Trilogy', 'how do you Do It?', 'the static speaks my name',\n",
       "       'theHunter Classic', 'theHunter: Primal'],\n",
       "      dtype='object', name='item_name', length=548)"
      ]
     },
     "execution_count": 40,
     "metadata": {},
     "output_type": "execute_result"
    }
   ],
   "execution_count": 40
  },
  {
   "cell_type": "code",
   "metadata": {
    "ExecuteTime": {
     "end_time": "2024-03-18T16:01:47.834620Z",
     "start_time": "2024-03-18T16:01:47.621082Z"
    }
   },
   "source": "game_recommender('Bully: Scholarship Edition')",
   "outputs": [
    {
     "data": {
      "text/plain": [
       "{1: 'APB Reloaded',\n",
       " 2: 'XCOM® 2',\n",
       " 3: 'Sonic & All-Stars Racing Transformed',\n",
       " 4: 'Darkest Dungeon®',\n",
       " 5: 'Tabletop Simulator'}"
      ]
     },
     "execution_count": 41,
     "metadata": {},
     "output_type": "execute_result"
    }
   ],
   "execution_count": 41
  },
  {
   "cell_type": "markdown",
   "metadata": {},
   "source": "### User-Item"
  },
  {
   "cell_type": "markdown",
   "metadata": {},
   "source": [
    "+ def **recomendacion_usuario( *`user_id`* )**:\n",
    "    Ingresando el id de un usuario, deberíamos recibir una lista con 5 juegos recomendados para dicho usuario."
   ]
  },
  {
   "cell_type": "code",
   "execution_count": 17,
   "metadata": {},
   "outputs": [],
   "source": [
    "def user_recommendation(user_id: str):\n",
    "    \"\"\"\n",
    "    Esta función recibe el id de un usuario y retorna una lista con 5 juegos recomendados para dicho usuario, basándose en la similitud de los items y los ratings de otros usuarios.\n",
    "\n",
    "    Args:\n",
    "        user_id: str El id del usuario para el que se quiere obtener las recomendaciones.\n",
    "\n",
    "    Return:\n",
    "        Una lista con los nombres de los 5 juegos con mayor rating predicho para el usuario.\n",
    "    \"\"\"\n",
    "\n",
    "    # Ignoramos las operaciones de división inválidas\n",
    "    np.seterr(divide='ignore', invalid='ignore')\n",
    "    # Verificamos si el usuario ingresado está en el dataframe de ratings\n",
    "    if user_id in df_matrix.index:\n",
    "        # Obtenemos la fila del dataframe de ratings que corresponde al usuario ingresado\n",
    "        fila_usuario = df_matrix.loc[user_id]\n",
    "        # Creamos una lista vacía para guardar los juegos que el usuario no ha jugado\n",
    "        juegos_no_jugados = []\n",
    "        # Recorremos la fila del usuario con un bucle for\n",
    "        for juego, rating in fila_usuario.items():\n",
    "            # Si el rating es cero, significa que el usuario no ha jugado ese juego\n",
    "            if rating == 0:\n",
    "                # Añadimos el juego a la lista de juegos no jugados\n",
    "                juegos_no_jugados.append(juego)\n",
    "        # Creamos una lista vacía para guardar las predicciones de ratings para los juegos no jugados\n",
    "        predicciones = []\n",
    "        # Recorremos la lista de juegos no jugados con otro bucle for\n",
    "        for juego in juegos_no_jugados:\n",
    "            # Obtenemos la columna del dataframe de similitud de items que corresponde al juego\n",
    "            columna_juego = df_similitud_items.loc[juego]\n",
    "            # Calculamos el producto punto entre la fila del usuario y la columna del juego\n",
    "            producto = np.dot(fila_usuario, columna_juego)\n",
    "            # Calculamos la suma de las similitudes de los juegos que el usuario ha jugado\n",
    "            suma_sim = np.sum(columna_juego[fila_usuario != 0])\n",
    "            # Calculamos la predicción de rating como el cociente entre el producto y la suma\n",
    "            prediccion = producto / suma_sim\n",
    "            # Añadimos una tupla con el juego y la predicción a la lista de predicciones\n",
    "            predicciones.append((juego, prediccion))\n",
    "        # Ordenamos la lista de predicciones de mayor a menor rating\n",
    "        predicciones_ordenadas = sorted(\n",
    "            predicciones, key=lambda x: x[1], reverse=True)\n",
    "        diccionario = {}\n",
    "        # Recorremos las predicciones ordenadas con un bucle for\n",
    "        for i, tupla in enumerate(predicciones_ordenadas[:5], start=1):\n",
    "            # Asignamos el índice, el nombre del juego y el rating predicho al diccionario\n",
    "            diccionario[i] = (tupla[0])\n",
    "        # Retornamos el diccionario de juegos recomendados\n",
    "        return diccionario\n",
    "        # Creamos un diccionario vacío para guardar los juegos y sus ratings predichos\n",
    "\n",
    "    else:\n",
    "        # Retornamos un mensaje de error o una lista vacía\n",
    "        return \"El usuario ingresado no se encuentra en la fuente de datos\""
   ]
  },
  {
   "cell_type": "code",
   "execution_count": 19,
   "metadata": {},
   "outputs": [
    {
     "data": {
      "text/plain": [
       "{1: 'A Bird Story',\n",
       " 2: 'A Story About My Uncle',\n",
       " 3: 'ARMA: Cold War Assault',\n",
       " 4: 'Brutal Legend',\n",
       " 5: 'AdVenture Capitalist'}"
      ]
     },
     "execution_count": 19,
     "metadata": {},
     "output_type": "execute_result"
    }
   ],
   "source": [
    "user_recommendation(\"yoshipowerz\")"
   ]
  },
  {
   "cell_type": "code",
   "execution_count": 6,
   "metadata": {},
   "outputs": [
    {
     "data": {
      "text/plain": [
       "Index(['-SEVEN-', '091263', '1011001', '12345678901234567890123456567890',\n",
       "       '1234567io9872345678765432', '12779', '131312', '1337lolroflmao',\n",
       "       '1626466724893520', '17101710',\n",
       "       ...\n",
       "       'yoshipowerz', 'yotuic', 'you_re_ded', 'youngbenaffleck', 'zaaikbr',\n",
       "       'zachwgtv', 'zakbot', 'zaukster', 'zayyntt', 'zyr0n1c'],\n",
       "      dtype='object', name='user_id', length=1391)"
      ]
     },
     "execution_count": 6,
     "metadata": {},
     "output_type": "execute_result"
    }
   ],
   "source": [
    "df_matrix.index"
   ]
  },
  {
   "metadata": {},
   "cell_type": "code",
   "outputs": [],
   "execution_count": null,
   "source": ""
  }
 ],
 "metadata": {
  "colab": {
   "include_colab_link": true,
   "provenance": []
  },
  "kernelspec": {
   "display_name": "Python 3 (ipykernel)",
   "name": "python3",
   "language": "python"
  },
  "language_info": {
   "codemirror_mode": {
    "name": "ipython",
    "version": 3
   },
   "file_extension": ".py",
   "mimetype": "text/x-python",
   "name": "python",
   "nbconvert_exporter": "python",
   "pygments_lexer": "ipython3",
   "version": "3.11.5"
  }
 },
 "nbformat": 4,
 "nbformat_minor": 0
}
