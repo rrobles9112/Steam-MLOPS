{
 "cells": [
  {
   "cell_type": "markdown",
   "id": "3eb80efe5c67ca4b",
   "metadata": {},
   "source": [
    "# Feature Engineering"
   ]
  },
  {
   "cell_type": "markdown",
   "id": "3e12e3043630cc2b",
   "metadata": {},
   "source": [
    "\n"
   ]
  },
  {
   "metadata": {
    "ExecuteTime": {
     "end_time": "2024-03-14T03:46:16.026008Z",
     "start_time": "2024-03-14T03:46:16.014408Z"
    }
   },
   "cell_type": "code",
   "source": [
    "# print python version\n",
    "import sys\n",
    "print(sys.version)"
   ],
   "id": "364307d8b772df3e",
   "outputs": [
    {
     "name": "stdout",
     "output_type": "stream",
     "text": [
      "3.11.8 (main, Feb 13 2024, 10:08:31) [GCC 12.2.0]\n"
     ]
    }
   ],
   "execution_count": 1
  }
 ],
 "metadata": {
  "kernelspec": {
   "display_name": "Python 3",
   "language": "python",
   "name": "python3"
  },
  "language_info": {
   "codemirror_mode": {
    "name": "ipython",
    "version": 2
   },
   "file_extension": ".py",
   "mimetype": "text/x-python",
   "name": "python",
   "nbconvert_exporter": "python",
   "pygments_lexer": "ipython2",
   "version": "2.7.6"
  }
 },
 "nbformat": 4,
 "nbformat_minor": 5
}
